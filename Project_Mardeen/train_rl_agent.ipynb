{
 "cells": [
  {
   "cell_type": "code",
   "execution_count": null,
   "id": "cb160493-f159-40cb-9f17-725dc41415ed",
   "metadata": {
    "tags": []
   },
   "outputs": [
    {
     "name": "stderr",
     "output_type": "stream",
     "text": [
      "2025-03-27 14:11:31.112123: I tensorflow/core/util/port.cc:111] oneDNN custom operations are on. You may see slightly different numerical results due to floating-point round-off errors from different computation orders. To turn them off, set the environment variable `TF_ENABLE_ONEDNN_OPTS=0`.\n",
      "2025-03-27 14:11:31.150912: E tensorflow/compiler/xla/stream_executor/cuda/cuda_dnn.cc:9342] Unable to register cuDNN factory: Attempting to register factory for plugin cuDNN when one has already been registered\n",
      "2025-03-27 14:11:31.150933: E tensorflow/compiler/xla/stream_executor/cuda/cuda_fft.cc:609] Unable to register cuFFT factory: Attempting to register factory for plugin cuFFT when one has already been registered\n",
      "2025-03-27 14:11:31.150959: E tensorflow/compiler/xla/stream_executor/cuda/cuda_blas.cc:1518] Unable to register cuBLAS factory: Attempting to register factory for plugin cuBLAS when one has already been registered\n",
      "2025-03-27 14:11:31.158645: I tensorflow/core/platform/cpu_feature_guard.cc:182] This TensorFlow binary is optimized to use available CPU instructions in performance-critical operations.\n",
      "To enable the following instructions: AVX2 AVX512F AVX512_VNNI FMA, in other operations, rebuild TensorFlow with the appropriate compiler flags.\n",
      "2025-03-27 14:11:31.957562: W tensorflow/compiler/tf2tensorrt/utils/py_utils.cc:38] TF-TRT Warning: Could not find TensorRT\n",
      "/home/jovyan/.local/lib/python3.10/site-packages/matplotlib/projections/__init__.py:63: UserWarning: Unable to import Axes3D. This may be due to multiple versions of Matplotlib being installed (e.g. as a system package and as a pip package). As a result, the 3D projection is not available.\n",
      "  warnings.warn(\"Unable to import Axes3D. This may be due to multiple versions of \"\n",
      "\u001b[34m\u001b[1mwandb\u001b[0m: Using wandb-core as the SDK backend.  Please refer to https://wandb.me/wandb-core for more information.\n",
      "\u001b[34m\u001b[1mwandb\u001b[0m: Currently logged in as: \u001b[33mmartidan182\u001b[0m (\u001b[33mmartidan182-university-of-twente\u001b[0m) to \u001b[32mhttps://api.wandb.ai\u001b[0m. Use \u001b[1m`wandb login --relogin`\u001b[0m to force relogin\n"
     ]
    },
    {
     "data": {
      "text/html": [
       "Tracking run with wandb version 0.19.7"
      ],
      "text/plain": [
       "<IPython.core.display.HTML object>"
      ]
     },
     "metadata": {},
     "output_type": "display_data"
    },
    {
     "data": {
      "text/html": [
       "Run data is saved locally in <code>/home/jovyan/machine-learning/Project_Mardeen/wandb/run-20250327_141139-aegvmp2q</code>"
      ],
      "text/plain": [
       "<IPython.core.display.HTML object>"
      ]
     },
     "metadata": {},
     "output_type": "display_data"
    },
    {
     "data": {
      "text/html": [
       "Syncing run <strong><a href='https://wandb.ai/martidan182-university-of-twente/Machine-Learning-DICEWARS/runs/aegvmp2q' target=\"_blank\">Dice Wars</a></strong> to <a href='https://wandb.ai/martidan182-university-of-twente/Machine-Learning-DICEWARS' target=\"_blank\">Weights & Biases</a> (<a href='https://wandb.me/developer-guide' target=\"_blank\">docs</a>)<br>"
      ],
      "text/plain": [
       "<IPython.core.display.HTML object>"
      ]
     },
     "metadata": {},
     "output_type": "display_data"
    },
    {
     "data": {
      "text/html": [
       " View project at <a href='https://wandb.ai/martidan182-university-of-twente/Machine-Learning-DICEWARS' target=\"_blank\">https://wandb.ai/martidan182-university-of-twente/Machine-Learning-DICEWARS</a>"
      ],
      "text/plain": [
       "<IPython.core.display.HTML object>"
      ]
     },
     "metadata": {},
     "output_type": "display_data"
    },
    {
     "data": {
      "text/html": [
       " View run at <a href='https://wandb.ai/martidan182-university-of-twente/Machine-Learning-DICEWARS/runs/aegvmp2q' target=\"_blank\">https://wandb.ai/martidan182-university-of-twente/Machine-Learning-DICEWARS/runs/aegvmp2q</a>"
      ],
      "text/plain": [
       "<IPython.core.display.HTML object>"
      ]
     },
     "metadata": {},
     "output_type": "display_data"
    },
    {
     "name": "stdout",
     "output_type": "stream",
     "text": [
      "using cuda ok\n",
      "Inizializzazione agente RL\n"
     ]
    },
    {
     "name": "stderr",
     "output_type": "stream",
     "text": [
      "2025-03-27 14:11:41.576529: I tensorflow/core/common_runtime/gpu/gpu_device.cc:1886] Created device /job:localhost/replica:0/task:0/device:GPU:0 with 13246 MB memory:  -> device: 0, name: Tesla T4, pci bus id: 0000:3b:00.0, compute capability: 7.5\n",
      "2025-03-27 14:11:41.578944: I tensorflow/core/common_runtime/gpu/gpu_device.cc:1886] Created device /job:localhost/replica:0/task:0/device:GPU:1 with 13764 MB memory:  -> device: 1, name: Tesla T4, pci bus id: 0000:d8:00.0, compute capability: 7.5\n"
     ]
    },
    {
     "name": "stdout",
     "output_type": "stream",
     "text": [
      "[MODEL] Caricato da: ./saved_models/dicewars_rl_model.keras\n"
     ]
    },
    {
     "name": "stderr",
     "output_type": "stream",
     "text": [
      "Episode:   0%|          | 0/1000 [00:00<?, ?it/s]"
     ]
    },
    {
     "name": "stdout",
     "output_type": "stream",
     "text": [
      "Initializing player from standard library with name: RandomPlayer\n",
      "Initializing player from standard library with name: RandomPlayer\n",
      "Initializing player from standard library with name: RandomPlayer\n"
     ]
    },
    {
     "name": "stderr",
     "output_type": "stream",
     "text": [
      "2025-03-27 14:11:44.586625: I tensorflow/compiler/xla/service/service.cc:168] XLA service 0x7f320c2bd330 initialized for platform CUDA (this does not guarantee that XLA will be used). Devices:\n",
      "2025-03-27 14:11:44.586651: I tensorflow/compiler/xla/service/service.cc:176]   StreamExecutor device (0): Tesla T4, Compute Capability 7.5\n",
      "2025-03-27 14:11:44.586658: I tensorflow/compiler/xla/service/service.cc:176]   StreamExecutor device (1): Tesla T4, Compute Capability 7.5\n",
      "2025-03-27 14:11:44.595115: I tensorflow/compiler/mlir/tensorflow/utils/dump_mlir_util.cc:269] disabling MLIR crash reproducer, set env var `MLIR_CRASH_REPRODUCER_DIRECTORY` to enable.\n",
      "2025-03-27 14:11:44.618047: I tensorflow/compiler/xla/stream_executor/cuda/cuda_dnn.cc:442] Loaded cuDNN version 8700\n",
      "2025-03-27 14:11:44.762935: I ./tensorflow/compiler/jit/device_compiler.h:186] Compiled cluster using XLA!  This line is logged at most once for the lifetime of the process.\n",
      "Episode:   0%|          | 1/1000 [00:06<1:54:32,  6.88s/it]"
     ]
    },
    {
     "name": "stdout",
     "output_type": "stream",
     "text": [
      "Episode 1/1000 | Reward: 2.85 | Win Rate: 0.00\n",
      "Initializing player from standard library with name: RandomPlayer\n",
      "Initializing player from standard library with name: RandomPlayer\n",
      "Initializing player from standard library with name: RandomPlayer\n"
     ]
    },
    {
     "name": "stderr",
     "output_type": "stream",
     "text": [
      "Episode:   0%|          | 2/1000 [00:39<6:10:36, 22.28s/it]"
     ]
    },
    {
     "name": "stdout",
     "output_type": "stream",
     "text": [
      "Episode 2/1000 | Reward: 25.85 | Win Rate: 0.00\n",
      "Initializing player from standard library with name: RandomPlayer\n",
      "Initializing player from standard library with name: RandomPlayer\n",
      "Initializing player from standard library with name: RandomPlayer\n"
     ]
    },
    {
     "name": "stderr",
     "output_type": "stream",
     "text": [
      "Episode:   0%|          | 3/1000 [01:15<7:51:18, 28.36s/it]"
     ]
    },
    {
     "name": "stdout",
     "output_type": "stream",
     "text": [
      "Episode 3/1000 | Reward: 33.25 | Win Rate: 0.33\n",
      "Initializing player from standard library with name: RandomPlayer\n",
      "Initializing player from standard library with name: RandomPlayer\n",
      "Initializing player from standard library with name: RandomPlayer\n"
     ]
    },
    {
     "name": "stderr",
     "output_type": "stream",
     "text": [
      "Episode:   0%|          | 4/1000 [01:26<5:59:14, 21.64s/it]"
     ]
    },
    {
     "name": "stdout",
     "output_type": "stream",
     "text": [
      "Episode 4/1000 | Reward: -5.75 | Win Rate: 0.25\n",
      "Initializing player from standard library with name: RandomPlayer\n",
      "Initializing player from standard library with name: RandomPlayer\n",
      "Initializing player from standard library with name: RandomPlayer\n"
     ]
    },
    {
     "name": "stderr",
     "output_type": "stream",
     "text": [
      "Episode:   0%|          | 5/1000 [01:47<5:50:39, 21.15s/it]"
     ]
    },
    {
     "name": "stdout",
     "output_type": "stream",
     "text": [
      "Episode 5/1000 | Reward: 26.60 | Win Rate: 0.40\n",
      "Initializing player from standard library with name: RandomPlayer\n",
      "Initializing player from standard library with name: RandomPlayer\n",
      "Initializing player from standard library with name: RandomPlayer\n"
     ]
    },
    {
     "name": "stderr",
     "output_type": "stream",
     "text": [
      "Episode:   1%|          | 6/1000 [01:51<4:16:09, 15.46s/it]"
     ]
    },
    {
     "name": "stdout",
     "output_type": "stream",
     "text": [
      "Episode 6/1000 | Reward: 0.75 | Win Rate: 0.33\n",
      "Initializing player from standard library with name: RandomPlayer\n",
      "Initializing player from standard library with name: RandomPlayer\n",
      "Initializing player from standard library with name: RandomPlayer\n"
     ]
    },
    {
     "name": "stderr",
     "output_type": "stream",
     "text": [
      "Episode:   1%|          | 7/1000 [02:12<4:46:58, 17.34s/it]"
     ]
    },
    {
     "name": "stdout",
     "output_type": "stream",
     "text": [
      "Episode 7/1000 | Reward: 17.55 | Win Rate: 0.29\n",
      "Initializing player from standard library with name: RandomPlayer\n",
      "Initializing player from standard library with name: RandomPlayer\n",
      "Initializing player from standard library with name: RandomPlayer\n"
     ]
    },
    {
     "name": "stderr",
     "output_type": "stream",
     "text": [
      "Episode:   1%|          | 8/1000 [02:39<5:35:44, 20.31s/it]"
     ]
    },
    {
     "name": "stdout",
     "output_type": "stream",
     "text": [
      "Episode 8/1000 | Reward: 14.10 | Win Rate: 0.25\n",
      "Initializing player from standard library with name: RandomPlayer\n",
      "Initializing player from standard library with name: RandomPlayer\n",
      "Initializing player from standard library with name: RandomPlayer\n"
     ]
    },
    {
     "name": "stderr",
     "output_type": "stream",
     "text": [
      "Episode:   1%|          | 9/1000 [02:54<5:10:06, 18.78s/it]"
     ]
    },
    {
     "name": "stdout",
     "output_type": "stream",
     "text": [
      "Episode 9/1000 | Reward: 24.40 | Win Rate: 0.33\n",
      "Initializing player from standard library with name: RandomPlayer\n",
      "Initializing player from standard library with name: RandomPlayer\n",
      "Initializing player from standard library with name: RandomPlayer\n"
     ]
    },
    {
     "name": "stderr",
     "output_type": "stream",
     "text": [
      "Episode:   1%|          | 10/1000 [03:04<4:21:06, 15.82s/it]"
     ]
    },
    {
     "name": "stdout",
     "output_type": "stream",
     "text": [
      "Episode 10/1000 | Reward: 3.05 | Win Rate: 0.30\n",
      "Initializing player from standard library with name: RandomPlayer\n",
      "Initializing player from standard library with name: RandomPlayer\n",
      "Initializing player from standard library with name: RandomPlayer\n"
     ]
    },
    {
     "name": "stderr",
     "output_type": "stream",
     "text": [
      "Episode:   1%|          | 11/1000 [03:18<4:14:19, 15.43s/it]"
     ]
    },
    {
     "name": "stdout",
     "output_type": "stream",
     "text": [
      "Episode 11/1000 | Reward: 7.70 | Win Rate: 0.27\n",
      "Initializing player from standard library with name: RandomPlayer\n",
      "Initializing player from standard library with name: RandomPlayer\n",
      "Initializing player from standard library with name: RandomPlayer\n"
     ]
    },
    {
     "name": "stderr",
     "output_type": "stream",
     "text": [
      "Episode:   1%|          | 12/1000 [03:36<4:24:38, 16.07s/it]"
     ]
    },
    {
     "name": "stdout",
     "output_type": "stream",
     "text": [
      "Episode 12/1000 | Reward: 10.10 | Win Rate: 0.25\n",
      "Initializing player from standard library with name: RandomPlayer\n",
      "Initializing player from standard library with name: RandomPlayer\n",
      "Initializing player from standard library with name: RandomPlayer\n"
     ]
    },
    {
     "name": "stderr",
     "output_type": "stream",
     "text": [
      "Episode:   1%|▏         | 13/1000 [03:42<3:36:20, 13.15s/it]"
     ]
    },
    {
     "name": "stdout",
     "output_type": "stream",
     "text": [
      "Episode 13/1000 | Reward: 5.40 | Win Rate: 0.23\n",
      "Initializing player from standard library with name: RandomPlayer\n",
      "Initializing player from standard library with name: RandomPlayer\n",
      "Initializing player from standard library with name: RandomPlayer\n"
     ]
    },
    {
     "name": "stderr",
     "output_type": "stream",
     "text": [
      "Episode:   1%|▏         | 14/1000 [04:19<5:33:34, 20.30s/it]"
     ]
    },
    {
     "name": "stdout",
     "output_type": "stream",
     "text": [
      "Episode 14/1000 | Reward: 38.95 | Win Rate: 0.29\n",
      "Initializing player from standard library with name: RandomPlayer\n",
      "Initializing player from standard library with name: RandomPlayer\n",
      "Initializing player from standard library with name: RandomPlayer\n"
     ]
    },
    {
     "name": "stderr",
     "output_type": "stream",
     "text": [
      "Episode:   2%|▏         | 15/1000 [04:24<4:16:22, 15.62s/it]"
     ]
    },
    {
     "name": "stdout",
     "output_type": "stream",
     "text": [
      "Episode 15/1000 | Reward: -2.70 | Win Rate: 0.27\n",
      "Initializing player from standard library with name: RandomPlayer\n",
      "Initializing player from standard library with name: RandomPlayer\n",
      "Initializing player from standard library with name: RandomPlayer\n"
     ]
    },
    {
     "name": "stderr",
     "output_type": "stream",
     "text": [
      "Episode:   2%|▏         | 16/1000 [04:32<3:38:53, 13.35s/it]"
     ]
    },
    {
     "name": "stdout",
     "output_type": "stream",
     "text": [
      "Episode 16/1000 | Reward: -1.75 | Win Rate: 0.25\n",
      "Initializing player from standard library with name: RandomPlayer\n",
      "Initializing player from standard library with name: RandomPlayer\n",
      "Initializing player from standard library with name: RandomPlayer\n"
     ]
    },
    {
     "name": "stderr",
     "output_type": "stream",
     "text": [
      "Episode:   2%|▏         | 17/1000 [05:04<5:10:33, 18.96s/it]"
     ]
    },
    {
     "name": "stdout",
     "output_type": "stream",
     "text": [
      "Episode 17/1000 | Reward: 37.00 | Win Rate: 0.29\n",
      "Initializing player from standard library with name: RandomPlayer\n",
      "Initializing player from standard library with name: RandomPlayer\n",
      "Initializing player from standard library with name: RandomPlayer\n"
     ]
    },
    {
     "name": "stderr",
     "output_type": "stream",
     "text": [
      "Episode:   2%|▏         | 18/1000 [05:06<3:49:18, 14.01s/it]"
     ]
    },
    {
     "name": "stdout",
     "output_type": "stream",
     "text": [
      "Episode 18/1000 | Reward: -0.35 | Win Rate: 0.28\n",
      "Initializing player from standard library with name: RandomPlayer\n",
      "Initializing player from standard library with name: RandomPlayer\n",
      "Initializing player from standard library with name: RandomPlayer\n"
     ]
    },
    {
     "name": "stderr",
     "output_type": "stream",
     "text": [
      "Episode:   2%|▏         | 19/1000 [05:08<2:50:14, 10.41s/it]"
     ]
    },
    {
     "name": "stdout",
     "output_type": "stream",
     "text": [
      "Episode 19/1000 | Reward: 0.40 | Win Rate: 0.26\n",
      "Initializing player from standard library with name: RandomPlayer\n",
      "Initializing player from standard library with name: RandomPlayer\n",
      "Initializing player from standard library with name: RandomPlayer\n"
     ]
    },
    {
     "name": "stderr",
     "output_type": "stream",
     "text": [
      "Episode:   2%|▏         | 20/1000 [05:13<2:21:21,  8.66s/it]"
     ]
    },
    {
     "name": "stdout",
     "output_type": "stream",
     "text": [
      "Episode 20/1000 | Reward: -1.25 | Win Rate: 0.25\n",
      "[MODEL] Salvato in: ./saved_models/dicewars_rl_model.keras\n",
      "Initializing player from standard library with name: RandomPlayer\n",
      "Initializing player from standard library with name: RandomPlayer\n",
      "Initializing player from standard library with name: RandomPlayer\n"
     ]
    },
    {
     "name": "stderr",
     "output_type": "stream",
     "text": [
      "Episode:   2%|▏         | 21/1000 [05:17<1:59:00,  7.29s/it]"
     ]
    },
    {
     "name": "stdout",
     "output_type": "stream",
     "text": [
      "Episode 21/1000 | Reward: 0.40 | Win Rate: 0.24\n",
      "Initializing player from standard library with name: RandomPlayer\n",
      "Initializing player from standard library with name: RandomPlayer\n",
      "Initializing player from standard library with name: RandomPlayer\n"
     ]
    },
    {
     "name": "stderr",
     "output_type": "stream",
     "text": [
      "Episode:   2%|▏         | 22/1000 [05:22<1:45:45,  6.49s/it]"
     ]
    },
    {
     "name": "stdout",
     "output_type": "stream",
     "text": [
      "Episode 22/1000 | Reward: 2.30 | Win Rate: 0.23\n",
      "Initializing player from standard library with name: RandomPlayer\n",
      "Initializing player from standard library with name: RandomPlayer\n",
      "Initializing player from standard library with name: RandomPlayer\n"
     ]
    },
    {
     "name": "stderr",
     "output_type": "stream",
     "text": [
      "Episode:   2%|▏         | 23/1000 [05:51<3:35:31, 13.24s/it]"
     ]
    },
    {
     "name": "stdout",
     "output_type": "stream",
     "text": [
      "Episode 23/1000 | Reward: 34.40 | Win Rate: 0.26\n",
      "Initializing player from standard library with name: RandomPlayer\n",
      "Initializing player from standard library with name: RandomPlayer\n",
      "Initializing player from standard library with name: RandomPlayer\n"
     ]
    },
    {
     "name": "stderr",
     "output_type": "stream",
     "text": [
      "Episode:   2%|▏         | 24/1000 [06:01<3:23:58, 12.54s/it]"
     ]
    },
    {
     "name": "stdout",
     "output_type": "stream",
     "text": [
      "Episode 24/1000 | Reward: -3.95 | Win Rate: 0.25\n",
      "Initializing player from standard library with name: RandomPlayer\n",
      "Initializing player from standard library with name: RandomPlayer\n",
      "Initializing player from standard library with name: RandomPlayer\n"
     ]
    },
    {
     "name": "stderr",
     "output_type": "stream",
     "text": [
      "Episode:   2%|▎         | 25/1000 [06:05<2:39:07,  9.79s/it]"
     ]
    },
    {
     "name": "stdout",
     "output_type": "stream",
     "text": [
      "Episode 25/1000 | Reward: -0.35 | Win Rate: 0.24\n",
      "Initializing player from standard library with name: RandomPlayer\n",
      "Initializing player from standard library with name: RandomPlayer\n",
      "Initializing player from standard library with name: RandomPlayer\n"
     ]
    },
    {
     "name": "stderr",
     "output_type": "stream",
     "text": [
      "Episode:   3%|▎         | 26/1000 [06:13<2:30:02,  9.24s/it]"
     ]
    },
    {
     "name": "stdout",
     "output_type": "stream",
     "text": [
      "Episode 26/1000 | Reward: 5.45 | Win Rate: 0.23\n",
      "Initializing player from standard library with name: RandomPlayer\n",
      "Initializing player from standard library with name: RandomPlayer\n",
      "Initializing player from standard library with name: RandomPlayer\n"
     ]
    },
    {
     "name": "stderr",
     "output_type": "stream",
     "text": [
      "Episode:   3%|▎         | 27/1000 [06:18<2:12:34,  8.18s/it]"
     ]
    },
    {
     "name": "stdout",
     "output_type": "stream",
     "text": [
      "Episode 27/1000 | Reward: 0.80 | Win Rate: 0.22\n",
      "Initializing player from standard library with name: RandomPlayer\n",
      "Initializing player from standard library with name: RandomPlayer\n",
      "Initializing player from standard library with name: RandomPlayer\n"
     ]
    },
    {
     "name": "stderr",
     "output_type": "stream",
     "text": [
      "Episode:   3%|▎         | 28/1000 [06:25<2:06:04,  7.78s/it]"
     ]
    },
    {
     "name": "stdout",
     "output_type": "stream",
     "text": [
      "Episode 28/1000 | Reward: 1.70 | Win Rate: 0.21\n",
      "Initializing player from standard library with name: RandomPlayer\n",
      "Initializing player from standard library with name: RandomPlayer\n",
      "Initializing player from standard library with name: RandomPlayer\n"
     ]
    },
    {
     "name": "stderr",
     "output_type": "stream",
     "text": [
      "Episode:   3%|▎         | 29/1000 [06:49<3:24:39, 12.65s/it]"
     ]
    },
    {
     "name": "stdout",
     "output_type": "stream",
     "text": [
      "Episode 29/1000 | Reward: 31.80 | Win Rate: 0.24\n",
      "Initializing player from standard library with name: RandomPlayer\n",
      "Initializing player from standard library with name: RandomPlayer\n",
      "Initializing player from standard library with name: RandomPlayer\n"
     ]
    },
    {
     "name": "stderr",
     "output_type": "stream",
     "text": [
      "Episode:   3%|▎         | 30/1000 [06:52<2:35:04,  9.59s/it]"
     ]
    },
    {
     "name": "stdout",
     "output_type": "stream",
     "text": [
      "Episode 30/1000 | Reward: -1.55 | Win Rate: 0.23\n",
      "Initializing player from standard library with name: RandomPlayer\n",
      "Initializing player from standard library with name: RandomPlayer\n",
      "Initializing player from standard library with name: RandomPlayer\n"
     ]
    },
    {
     "name": "stderr",
     "output_type": "stream",
     "text": [
      "Episode:   3%|▎         | 31/1000 [06:56<2:08:14,  7.94s/it]"
     ]
    },
    {
     "name": "stdout",
     "output_type": "stream",
     "text": [
      "Episode 31/1000 | Reward: -1.45 | Win Rate: 0.23\n",
      "Initializing player from standard library with name: RandomPlayer\n",
      "Initializing player from standard library with name: RandomPlayer\n",
      "Initializing player from standard library with name: RandomPlayer\n"
     ]
    },
    {
     "name": "stderr",
     "output_type": "stream",
     "text": [
      "Episode:   3%|▎         | 32/1000 [07:02<1:59:48,  7.43s/it]"
     ]
    },
    {
     "name": "stdout",
     "output_type": "stream",
     "text": [
      "Episode 32/1000 | Reward: 1.80 | Win Rate: 0.22\n",
      "Initializing player from standard library with name: RandomPlayer\n",
      "Initializing player from standard library with name: RandomPlayer\n",
      "Initializing player from standard library with name: RandomPlayer\n"
     ]
    }
   ],
   "source": [
    "##log_dir = \"logs/dicewars/\" + datetime.datetime.now().strftime(\"%Y%m%d-%H%M%S\")\n",
    "# simulare partite contro altri bot \n",
    "# allenare il tuo agente\n",
    "# salvare i pesi del modello (model.save())\n",
    "\n",
    "import numpy as np\n",
    "from tensorflow.summary import create_file_writer\n",
    "import datetime\n",
    "from importlib import import_module\n",
    "from dicewars.match import Match\n",
    "from dicewars.game import Game\n",
    "from dicewars.player import RandomPlayer, AgressivePlayer, WeakerPlayerAttacker\n",
    "from rl_agent import RLDicewarsAgent\n",
    "import tensorflow as tf\n",
    "import os\n",
    "import matplotlib.pyplot as plt\n",
    "from collections import deque\n",
    "from tqdm import tqdm\n",
    "import wandb\n",
    "\n",
    "run = wandb.init(\n",
    "    project='Machine-Learning-DICEWARS',\n",
    "    name='Dice Wars',\n",
    ")\n",
    "run_id = run.id \n",
    "api = wandb.Api()\n",
    "run = api.run(f\"Machine-Learning-DICEWARS/{run_id}\")\n",
    "\n",
    "if tf.config.list_physical_devices('GPU'):\n",
    "    print(\"using cuda ok\")\n",
    "else:\n",
    "    print('using cpu')\n",
    "\n",
    "NUM_EPISODES = 1000\n",
    "SAVE_MODEL_PATH = \"./saved_models/dicewars_rl_model.keras\"\n",
    "\n",
    "# Crea directory se non esiste\n",
    "os.makedirs(os.path.dirname(SAVE_MODEL_PATH), exist_ok=True)\n",
    "\n",
    "def calculate_step_reward(prev_state, new_state, player_idx):\n",
    "    \"\"\"\n",
    "    Reward intermedio basato su: conquiste, perdite, crescita di dadi\n",
    "    \"\"\"\n",
    "    reward = 0\n",
    "\n",
    "    # Aree controllate\n",
    "    prev_areas = len(prev_state.player_areas[player_idx])\n",
    "    new_areas = len(new_state.player_areas[player_idx])\n",
    "    reward += (new_areas - prev_areas) * 0.3\n",
    "\n",
    "    # Dadi totali\n",
    "    prev_dice = prev_state.player_num_dice[player_idx]\n",
    "    new_dice = new_state.player_num_dice[player_idx]\n",
    "    reward += (new_dice - prev_dice) * 0.05\n",
    "\n",
    "    # Penalità se ha fatto \"end turn\" senza attaccare\n",
    "    if prev_areas == new_areas and prev_dice == new_dice:\n",
    "        reward -= 0.2\n",
    "\n",
    "    return reward\n",
    "\n",
    "def calculate_final_reward(winner, player_idx):\n",
    "    return 1.0 if winner == player_idx else -0.5\n",
    "\n",
    "\n",
    "# Training loop\n",
    "agent = RLDicewarsAgent()\n",
    "\n",
    "## plots\n",
    "win_history = []\n",
    "reward_history = []\n",
    "moving_avg = deque(maxlen=50)  # media mobile su ultimi 50 episodi\n",
    "\n",
    "\n",
    "## training loop\n",
    "for episode in tqdm(range(NUM_EPISODES), desc=\"Episode\"):\n",
    "    players = [agent] + [RandomPlayer() for _ in range(3)]\n",
    "    game = Game(num_seats=4)\n",
    "    match = Match(game)\n",
    "    grid, state = match.game.grid, match.state\n",
    "    epsilon = max(0.01, 0.1 - episode / NUM_EPISODES)  # decrescente\n",
    "\n",
    "    history = []\n",
    "\n",
    "    while match.winner == -1:\n",
    "        current_player = state.player\n",
    "        prev_state = state  # <- snapshot prima dell'azione\n",
    "\n",
    "        if current_player == 0:\n",
    "            action = agent.select_action(grid, state, epsilon=epsilon) # rimiuovi epsilon se non vuoi usare epsilon greedy\n",
    "            state_vec = agent.encode_state(grid, state)\n",
    "        else:\n",
    "            action = players[current_player].get_attack_areas(grid, state)\n",
    "\n",
    "        grid, state = match.step(action)\n",
    "\n",
    "        if current_player == 0:\n",
    "            reward = calculate_step_reward(prev_state, state, player_idx=0)\n",
    "            history.append((state_vec, action, reward))\n",
    "\n",
    "\n",
    "    # Final reward da partita\n",
    "    final_reward = calculate_final_reward(match.winner, player_idx=0)\n",
    "    episode_reward = sum([r for _, _, r in history]) + final_reward\n",
    "    reward_history.append(episode_reward)\n",
    "\n",
    "    # Registra vincita\n",
    "    won = 1 if match.winner == 0 else 0\n",
    "    win_history.append(won)\n",
    "    moving_avg.append(won)\n",
    "\n",
    "    # Allena\n",
    "    for state_vec, action_taken, step_reward in history:\n",
    "        total_reward = step_reward + final_reward\n",
    "        agent.train_step(state_vec, action_taken, total_reward)\n",
    "\n",
    "    print(f\"Episode {episode + 1}/{NUM_EPISODES} | Reward: {episode_reward:.2f} | Win Rate: {np.mean(moving_avg):.2f}\")\n",
    "    wandb.log({'Episode': episode , 'Reward': episode_reward, 'Win Rate': np.mean(moving_avg)})\n",
    "    # Salva modello ogni 50 episodi\n",
    "    if (episode + 1) % 20 == 0:\n",
    "        agent.save_model()\n",
    "        "
   ]
  },
  {
   "cell_type": "code",
   "execution_count": 15,
   "id": "9fb39a5a-397d-4476-b7b1-6e9b40748122",
   "metadata": {
    "tags": []
   },
   "outputs": [],
   "source": [
    "#%load_ext tensorboard\n",
    "#!kill 791914\n",
    "#%tensorboard --logdir logs/dicewars"
   ]
  },
  {
   "cell_type": "code",
   "execution_count": null,
   "id": "208d10b5-e997-4c61-80ad-0312d80cf7a8",
   "metadata": {},
   "outputs": [],
   "source": []
  }
 ],
 "metadata": {
  "kernelspec": {
   "display_name": "Python",
   "language": "python",
   "name": "python3"
  },
  "language_info": {
   "codemirror_mode": {
    "name": "ipython",
    "version": 3
   },
   "file_extension": ".py",
   "mimetype": "text/x-python",
   "name": "python",
   "nbconvert_exporter": "python",
   "pygments_lexer": "ipython3",
   "version": "3.10.12"
  }
 },
 "nbformat": 4,
 "nbformat_minor": 5
}
