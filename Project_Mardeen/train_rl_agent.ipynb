{
 "cells": [
  {
   "cell_type": "code",
   "execution_count": 1,
   "id": "4f87ae65-4d2b-48ef-844c-29bfc4d970c0",
   "metadata": {
    "tags": []
   },
   "outputs": [
    {
     "name": "stderr",
     "output_type": "stream",
     "text": [
      "2025-03-27 17:57:07.765697: I tensorflow/core/util/port.cc:111] oneDNN custom operations are on. You may see slightly different numerical results due to floating-point round-off errors from different computation orders. To turn them off, set the environment variable `TF_ENABLE_ONEDNN_OPTS=0`.\n",
      "2025-03-27 17:57:07.804545: E tensorflow/compiler/xla/stream_executor/cuda/cuda_dnn.cc:9342] Unable to register cuDNN factory: Attempting to register factory for plugin cuDNN when one has already been registered\n",
      "2025-03-27 17:57:07.804566: E tensorflow/compiler/xla/stream_executor/cuda/cuda_fft.cc:609] Unable to register cuFFT factory: Attempting to register factory for plugin cuFFT when one has already been registered\n",
      "2025-03-27 17:57:07.804593: E tensorflow/compiler/xla/stream_executor/cuda/cuda_blas.cc:1518] Unable to register cuBLAS factory: Attempting to register factory for plugin cuBLAS when one has already been registered\n",
      "2025-03-27 17:57:07.812429: I tensorflow/core/platform/cpu_feature_guard.cc:182] This TensorFlow binary is optimized to use available CPU instructions in performance-critical operations.\n",
      "To enable the following instructions: AVX2 AVX512F AVX512_VNNI FMA, in other operations, rebuild TensorFlow with the appropriate compiler flags.\n",
      "2025-03-27 17:57:08.676201: W tensorflow/compiler/tf2tensorrt/utils/py_utils.cc:38] TF-TRT Warning: Could not find TensorRT\n",
      "/home/jovyan/.local/lib/python3.10/site-packages/matplotlib/projections/__init__.py:63: UserWarning: Unable to import Axes3D. This may be due to multiple versions of Matplotlib being installed (e.g. as a system package and as a pip package). As a result, the 3D projection is not available.\n",
      "  warnings.warn(\"Unable to import Axes3D. This may be due to multiple versions of \"\n"
     ]
    },
    {
     "data": {
      "text/plain": [
       "[PhysicalDevice(name='/physical_device:GPU:0', device_type='GPU'),\n",
       " PhysicalDevice(name='/physical_device:GPU:1', device_type='GPU')]"
      ]
     },
     "execution_count": 1,
     "metadata": {},
     "output_type": "execute_result"
    }
   ],
   "source": [
    "##log_dir = \"logs/dicewars/\" + datetime.datetime.now().strftime(\"%Y%m%d-%H%M%S\")\n",
    "# simulare partite contro altri bot \n",
    "# allenare il tuo agente\n",
    "# salvare i pesi del modello (model.save())\n",
    "\n",
    "import numpy as np\n",
    "from tensorflow.summary import create_file_writer\n",
    "import datetime\n",
    "from importlib import import_module\n",
    "from dicewars.match import Match\n",
    "from dicewars.game import Game\n",
    "from dicewars.player import RandomPlayer, AgressivePlayer, WeakerPlayerAttacker, PassivePlayer\n",
    "from rl_agent import RLDicewarsAgent\n",
    "from rl_agent import ReplayBuffer\n",
    "import tensorflow as tf\n",
    "import os\n",
    "import matplotlib.pyplot as plt\n",
    "from collections import deque\n",
    "from tqdm import tqdm\n",
    "import wandb\n",
    "import time\n",
    "from datetime import datetime\n",
    "\n",
    "tf.config.list_physical_devices('GPU')"
   ]
  },
  {
   "cell_type": "code",
   "execution_count": 3,
   "id": "ebf51a3d-f522-4e07-9cea-f5b77a094ed5",
   "metadata": {
    "tags": []
   },
   "outputs": [
    {
     "name": "stdout",
     "output_type": "stream",
     "text": [
      "using cuda ok\n",
      "Initializing player from standard library with name: PassivePlayer\n",
      "Initializing player from standard library with name: WeakerPlayerAttacker\n",
      "Initializing player from standard library with name: WeakerPlayerAttacker\n",
      "Inizializzazione agente RL\n",
      "[MODEL] Caricato da: ./saved_models/dicewars_rl_model_new.keras\n"
     ]
    },
    {
     "name": "stderr",
     "output_type": "stream",
     "text": [
      "Episode:   0%|          | 1/1000 [00:04<1:22:22,  4.95s/it]"
     ]
    },
    {
     "name": "stdout",
     "output_type": "stream",
     "text": [
      "Episode 1/1000 | Reward: 3.84 | Win Rate: 0.00 | 🏆 Winner: WeakerPlayerAttacker\n"
     ]
    },
    {
     "name": "stderr",
     "output_type": "stream",
     "text": [
      "Episode:   0%|          | 2/1000 [00:05<41:25,  2.49s/it]  "
     ]
    },
    {
     "name": "stdout",
     "output_type": "stream",
     "text": [
      "Episode 2/1000 | Reward: -8.76 | Win Rate: 0.00 | 🏆 Winner: WeakerPlayerAttacker\n"
     ]
    },
    {
     "name": "stderr",
     "output_type": "stream",
     "text": [
      "Episode:   0%|          | 3/1000 [00:07<34:50,  2.10s/it]"
     ]
    },
    {
     "name": "stdout",
     "output_type": "stream",
     "text": [
      "Episode 3/1000 | Reward: -6.92 | Win Rate: 0.00 | 🏆 Winner: WeakerPlayerAttacker\n"
     ]
    },
    {
     "name": "stderr",
     "output_type": "stream",
     "text": [
      "Episode:   0%|          | 4/1000 [00:10<40:21,  2.43s/it]"
     ]
    },
    {
     "name": "stdout",
     "output_type": "stream",
     "text": [
      "Episode 4/1000 | Reward: -5.04 | Win Rate: 0.00 | 🏆 Winner: WeakerPlayerAttacker\n"
     ]
    },
    {
     "name": "stderr",
     "output_type": "stream",
     "text": [
      "Episode:   0%|          | 5/1000 [00:11<30:24,  1.83s/it]"
     ]
    },
    {
     "name": "stdout",
     "output_type": "stream",
     "text": [
      "Episode 5/1000 | Reward: -7.28 | Win Rate: 0.00 | 🏆 Winner: WeakerPlayerAttacker\n"
     ]
    },
    {
     "name": "stderr",
     "output_type": "stream",
     "text": [
      "Episode:   1%|          | 6/1000 [00:12<28:34,  1.72s/it]"
     ]
    },
    {
     "name": "stdout",
     "output_type": "stream",
     "text": [
      "Episode 6/1000 | Reward: -6.60 | Win Rate: 0.00 | 🏆 Winner: WeakerPlayerAttacker\n"
     ]
    },
    {
     "name": "stderr",
     "output_type": "stream",
     "text": [
      "Episode:   1%|          | 7/1000 [00:14<30:37,  1.85s/it]"
     ]
    },
    {
     "name": "stdout",
     "output_type": "stream",
     "text": [
      "Episode 7/1000 | Reward: -5.60 | Win Rate: 0.00 | 🏆 Winner: WeakerPlayerAttacker\n"
     ]
    },
    {
     "name": "stderr",
     "output_type": "stream",
     "text": [
      "Episode:   1%|          | 8/1000 [00:17<33:08,  2.01s/it]"
     ]
    },
    {
     "name": "stdout",
     "output_type": "stream",
     "text": [
      "Episode 8/1000 | Reward: -4.12 | Win Rate: 0.00 | 🏆 Winner: WeakerPlayerAttacker\n"
     ]
    },
    {
     "name": "stderr",
     "output_type": "stream",
     "text": [
      "Episode:   1%|          | 9/1000 [00:18<30:18,  1.84s/it]"
     ]
    },
    {
     "name": "stdout",
     "output_type": "stream",
     "text": [
      "Episode 9/1000 | Reward: -5.80 | Win Rate: 0.00 | 🏆 Winner: WeakerPlayerAttacker\n"
     ]
    },
    {
     "name": "stderr",
     "output_type": "stream",
     "text": [
      "Episode:   1%|          | 10/1000 [00:22<41:10,  2.50s/it]"
     ]
    },
    {
     "name": "stdout",
     "output_type": "stream",
     "text": [
      "Episode 10/1000 | Reward: -3.04 | Win Rate: 0.00 | 🏆 Winner: WeakerPlayerAttacker\n"
     ]
    },
    {
     "name": "stderr",
     "output_type": "stream",
     "text": [
      "Episode:   1%|          | 11/1000 [00:25<41:23,  2.51s/it]"
     ]
    },
    {
     "name": "stdout",
     "output_type": "stream",
     "text": [
      "Episode 11/1000 | Reward: -2.88 | Win Rate: 0.00 | 🏆 Winner: WeakerPlayerAttacker\n"
     ]
    },
    {
     "name": "stderr",
     "output_type": "stream",
     "text": [
      "Episode:   1%|          | 12/1000 [00:26<37:34,  2.28s/it]"
     ]
    },
    {
     "name": "stdout",
     "output_type": "stream",
     "text": [
      "Episode 12/1000 | Reward: -4.64 | Win Rate: 0.00 | 🏆 Winner: WeakerPlayerAttacker\n"
     ]
    },
    {
     "name": "stderr",
     "output_type": "stream",
     "text": [
      "Episode:   1%|▏         | 13/1000 [00:29<37:42,  2.29s/it]"
     ]
    },
    {
     "name": "stdout",
     "output_type": "stream",
     "text": [
      "Episode 13/1000 | Reward: -5.32 | Win Rate: 0.00 | 🏆 Winner: WeakerPlayerAttacker\n"
     ]
    },
    {
     "name": "stderr",
     "output_type": "stream",
     "text": [
      "Episode:   1%|▏         | 14/1000 [00:30<34:21,  2.09s/it]"
     ]
    },
    {
     "name": "stdout",
     "output_type": "stream",
     "text": [
      "Episode 14/1000 | Reward: -6.16 | Win Rate: 0.00 | 🏆 Winner: WeakerPlayerAttacker\n"
     ]
    },
    {
     "name": "stderr",
     "output_type": "stream",
     "text": [
      "Episode:   2%|▏         | 15/1000 [00:33<36:40,  2.23s/it]"
     ]
    },
    {
     "name": "stdout",
     "output_type": "stream",
     "text": [
      "Episode 15/1000 | Reward: -3.08 | Win Rate: 0.00 | 🏆 Winner: WeakerPlayerAttacker\n"
     ]
    },
    {
     "name": "stderr",
     "output_type": "stream",
     "text": [
      "Episode:   2%|▏         | 16/1000 [00:36<43:17,  2.64s/it]"
     ]
    },
    {
     "name": "stdout",
     "output_type": "stream",
     "text": [
      "Episode 16/1000 | Reward: -4.00 | Win Rate: 0.00 | 🏆 Winner: WeakerPlayerAttacker\n"
     ]
    },
    {
     "name": "stderr",
     "output_type": "stream",
     "text": [
      "Episode:   2%|▏         | 17/1000 [00:38<38:08,  2.33s/it]"
     ]
    },
    {
     "name": "stdout",
     "output_type": "stream",
     "text": [
      "Episode 17/1000 | Reward: -6.92 | Win Rate: 0.00 | 🏆 Winner: WeakerPlayerAttacker\n"
     ]
    },
    {
     "name": "stderr",
     "output_type": "stream",
     "text": [
      "Episode:   2%|▏         | 18/1000 [00:40<36:49,  2.25s/it]"
     ]
    },
    {
     "name": "stdout",
     "output_type": "stream",
     "text": [
      "Episode 18/1000 | Reward: -7.00 | Win Rate: 0.00 | 🏆 Winner: WeakerPlayerAttacker\n"
     ]
    },
    {
     "name": "stderr",
     "output_type": "stream",
     "text": [
      "Episode:   2%|▏         | 19/1000 [00:42<35:50,  2.19s/it]"
     ]
    },
    {
     "name": "stdout",
     "output_type": "stream",
     "text": [
      "Episode 19/1000 | Reward: -5.36 | Win Rate: 0.00 | 🏆 Winner: WeakerPlayerAttacker\n"
     ]
    },
    {
     "name": "stderr",
     "output_type": "stream",
     "text": [
      "Episode:   2%|▏         | 20/1000 [00:43<31:37,  1.94s/it]"
     ]
    },
    {
     "name": "stdout",
     "output_type": "stream",
     "text": [
      "Episode 20/1000 | Reward: -8.84 | Win Rate: 0.00 | 🏆 Winner: WeakerPlayerAttacker\n"
     ]
    },
    {
     "name": "stderr",
     "output_type": "stream",
     "text": [
      "Episode:   2%|▏         | 21/1000 [00:47<40:18,  2.47s/it]"
     ]
    },
    {
     "name": "stdout",
     "output_type": "stream",
     "text": [
      "Episode 21/1000 | Reward: 0.16 | Win Rate: 0.00 | 🏆 Winner: WeakerPlayerAttacker\n"
     ]
    },
    {
     "name": "stderr",
     "output_type": "stream",
     "text": [
      "Episode:   2%|▏         | 23/1000 [00:49<27:21,  1.68s/it]"
     ]
    },
    {
     "name": "stdout",
     "output_type": "stream",
     "text": [
      "Episode 22/1000 | Reward: -4.96 | Win Rate: 0.00 | 🏆 Winner: WeakerPlayerAttacker\n",
      "Episode 23/1000 | Reward: -10.08 | Win Rate: 0.00 | 🏆 Winner: WeakerPlayerAttacker\n"
     ]
    },
    {
     "name": "stderr",
     "output_type": "stream",
     "text": [
      "Episode:   2%|▏         | 24/1000 [00:51<28:18,  1.74s/it]"
     ]
    },
    {
     "name": "stdout",
     "output_type": "stream",
     "text": [
      "Episode 24/1000 | Reward: -7.96 | Win Rate: 0.00 | 🏆 Winner: WeakerPlayerAttacker\n"
     ]
    },
    {
     "name": "stderr",
     "output_type": "stream",
     "text": [
      "Episode:   2%|▎         | 25/1000 [00:55<37:37,  2.32s/it]"
     ]
    },
    {
     "name": "stdout",
     "output_type": "stream",
     "text": [
      "Episode 25/1000 | Reward: -2.00 | Win Rate: 0.00 | 🏆 Winner: WeakerPlayerAttacker\n"
     ]
    },
    {
     "name": "stderr",
     "output_type": "stream",
     "text": [
      "Episode:   3%|▎         | 26/1000 [00:59<44:44,  2.76s/it]"
     ]
    },
    {
     "name": "stdout",
     "output_type": "stream",
     "text": [
      "Episode 26/1000 | Reward: -0.16 | Win Rate: 0.00 | 🏆 Winner: WeakerPlayerAttacker\n"
     ]
    },
    {
     "name": "stderr",
     "output_type": "stream",
     "text": [
      "Episode:   3%|▎         | 27/1000 [01:01<43:37,  2.69s/it]"
     ]
    },
    {
     "name": "stdout",
     "output_type": "stream",
     "text": [
      "Episode 27/1000 | Reward: -3.00 | Win Rate: 0.00 | 🏆 Winner: WeakerPlayerAttacker\n"
     ]
    },
    {
     "name": "stderr",
     "output_type": "stream",
     "text": [
      "Episode:   3%|▎         | 28/1000 [01:10<1:15:29,  4.66s/it]"
     ]
    },
    {
     "name": "stdout",
     "output_type": "stream",
     "text": [
      "Episode 28/1000 | Reward: 12.36 | Win Rate: 0.00 | 🏆 Winner: WeakerPlayerAttacker\n"
     ]
    },
    {
     "name": "stderr",
     "output_type": "stream",
     "text": [
      "Episode:   3%|▎         | 29/1000 [01:12<58:31,  3.62s/it]  "
     ]
    },
    {
     "name": "stdout",
     "output_type": "stream",
     "text": [
      "Episode 29/1000 | Reward: -7.76 | Win Rate: 0.00 | 🏆 Winner: WeakerPlayerAttacker\n"
     ]
    },
    {
     "name": "stderr",
     "output_type": "stream",
     "text": [
      "Episode:   3%|▎         | 30/1000 [01:13<48:37,  3.01s/it]"
     ]
    },
    {
     "name": "stdout",
     "output_type": "stream",
     "text": [
      "Episode 30/1000 | Reward: -9.00 | Win Rate: 0.00 | 🏆 Winner: WeakerPlayerAttacker\n",
      "[MODEL] Salvato in: ./saved_models/dicewars_rl_model_new.keras\n"
     ]
    },
    {
     "name": "stderr",
     "output_type": "stream",
     "text": [
      "Episode:   3%|▎         | 31/1000 [01:15<44:12,  2.74s/it]"
     ]
    },
    {
     "name": "stdout",
     "output_type": "stream",
     "text": [
      "Episode 31/1000 | Reward: -3.12 | Win Rate: 0.00 | 🏆 Winner: WeakerPlayerAttacker\n"
     ]
    },
    {
     "name": "stderr",
     "output_type": "stream",
     "text": [
      "Episode:   3%|▎         | 32/1000 [01:18<46:04,  2.86s/it]"
     ]
    },
    {
     "name": "stdout",
     "output_type": "stream",
     "text": [
      "Episode 32/1000 | Reward: -6.32 | Win Rate: 0.00 | 🏆 Winner: WeakerPlayerAttacker\n"
     ]
    },
    {
     "name": "stderr",
     "output_type": "stream",
     "text": [
      "Episode:   3%|▎         | 33/1000 [01:19<37:19,  2.32s/it]"
     ]
    },
    {
     "name": "stdout",
     "output_type": "stream",
     "text": [
      "Episode 33/1000 | Reward: -8.32 | Win Rate: 0.00 | 🏆 Winner: WeakerPlayerAttacker\n"
     ]
    },
    {
     "name": "stderr",
     "output_type": "stream",
     "text": [
      "Episode:   3%|▎         | 34/1000 [01:22<39:55,  2.48s/it]"
     ]
    },
    {
     "name": "stdout",
     "output_type": "stream",
     "text": [
      "Episode 34/1000 | Reward: -4.72 | Win Rate: 0.00 | 🏆 Winner: WeakerPlayerAttacker\n"
     ]
    },
    {
     "name": "stderr",
     "output_type": "stream",
     "text": [
      "Episode:   4%|▎         | 35/1000 [01:24<36:38,  2.28s/it]"
     ]
    },
    {
     "name": "stdout",
     "output_type": "stream",
     "text": [
      "Episode 35/1000 | Reward: -5.20 | Win Rate: 0.00 | 🏆 Winner: WeakerPlayerAttacker\n"
     ]
    },
    {
     "name": "stderr",
     "output_type": "stream",
     "text": [
      "Episode:   4%|▎         | 36/1000 [01:25<30:33,  1.90s/it]"
     ]
    },
    {
     "name": "stdout",
     "output_type": "stream",
     "text": [
      "Episode 36/1000 | Reward: -6.24 | Win Rate: 0.00 | 🏆 Winner: WeakerPlayerAttacker\n"
     ]
    },
    {
     "name": "stderr",
     "output_type": "stream",
     "text": [
      "Episode:   4%|▎         | 37/1000 [01:28<35:04,  2.18s/it]"
     ]
    },
    {
     "name": "stdout",
     "output_type": "stream",
     "text": [
      "Episode 37/1000 | Reward: -1.12 | Win Rate: 0.00 | 🏆 Winner: WeakerPlayerAttacker\n"
     ]
    },
    {
     "name": "stderr",
     "output_type": "stream",
     "text": [
      "Episode:   4%|▍         | 38/1000 [01:30<33:47,  2.11s/it]"
     ]
    },
    {
     "name": "stdout",
     "output_type": "stream",
     "text": [
      "Episode 38/1000 | Reward: -5.44 | Win Rate: 0.00 | 🏆 Winner: WeakerPlayerAttacker\n"
     ]
    },
    {
     "name": "stderr",
     "output_type": "stream",
     "text": [
      "Episode:   4%|▍         | 39/1000 [01:36<50:49,  3.17s/it]"
     ]
    },
    {
     "name": "stdout",
     "output_type": "stream",
     "text": [
      "Episode 39/1000 | Reward: 1.48 | Win Rate: 0.00 | 🏆 Winner: WeakerPlayerAttacker\n"
     ]
    },
    {
     "name": "stderr",
     "output_type": "stream",
     "text": [
      "Episode:   4%|▍         | 40/1000 [01:38<46:20,  2.90s/it]"
     ]
    },
    {
     "name": "stdout",
     "output_type": "stream",
     "text": [
      "Episode 40/1000 | Reward: -6.12 | Win Rate: 0.00 | 🏆 Winner: WeakerPlayerAttacker\n"
     ]
    },
    {
     "name": "stderr",
     "output_type": "stream",
     "text": [
      "Episode:   4%|▍         | 41/1000 [01:39<38:21,  2.40s/it]"
     ]
    },
    {
     "name": "stdout",
     "output_type": "stream",
     "text": [
      "Episode 41/1000 | Reward: -7.80 | Win Rate: 0.00 | 🏆 Winner: WeakerPlayerAttacker\n"
     ]
    },
    {
     "name": "stderr",
     "output_type": "stream",
     "text": [
      "Episode:   4%|▍         | 42/1000 [01:41<35:10,  2.20s/it]"
     ]
    },
    {
     "name": "stdout",
     "output_type": "stream",
     "text": [
      "Episode 42/1000 | Reward: -6.12 | Win Rate: 0.00 | 🏆 Winner: WeakerPlayerAttacker\n"
     ]
    },
    {
     "name": "stderr",
     "output_type": "stream",
     "text": [
      "Episode:   4%|▍         | 43/1000 [01:42<31:30,  1.98s/it]"
     ]
    },
    {
     "name": "stdout",
     "output_type": "stream",
     "text": [
      "Episode 43/1000 | Reward: -7.84 | Win Rate: 0.00 | 🏆 Winner: WeakerPlayerAttacker\n"
     ]
    },
    {
     "name": "stderr",
     "output_type": "stream",
     "text": [
      "Episode:   4%|▍         | 44/1000 [01:45<36:14,  2.27s/it]"
     ]
    },
    {
     "name": "stdout",
     "output_type": "stream",
     "text": [
      "Episode 44/1000 | Reward: -5.84 | Win Rate: 0.00 | 🏆 Winner: WeakerPlayerAttacker\n"
     ]
    },
    {
     "name": "stderr",
     "output_type": "stream",
     "text": [
      "Episode:   4%|▍         | 45/1000 [01:48<38:03,  2.39s/it]"
     ]
    },
    {
     "name": "stdout",
     "output_type": "stream",
     "text": [
      "Episode 45/1000 | Reward: -3.60 | Win Rate: 0.00 | 🏆 Winner: WeakerPlayerAttacker\n"
     ]
    },
    {
     "name": "stderr",
     "output_type": "stream",
     "text": [
      "Episode:   5%|▍         | 46/1000 [01:50<35:06,  2.21s/it]"
     ]
    },
    {
     "name": "stdout",
     "output_type": "stream",
     "text": [
      "Episode 46/1000 | Reward: -5.92 | Win Rate: 0.00 | 🏆 Winner: WeakerPlayerAttacker\n"
     ]
    },
    {
     "name": "stderr",
     "output_type": "stream",
     "text": [
      "Episode:   5%|▍         | 47/1000 [01:52<35:43,  2.25s/it]"
     ]
    },
    {
     "name": "stdout",
     "output_type": "stream",
     "text": [
      "Episode 47/1000 | Reward: -5.72 | Win Rate: 0.00 | 🏆 Winner: WeakerPlayerAttacker\n"
     ]
    },
    {
     "name": "stderr",
     "output_type": "stream",
     "text": [
      "Episode:   5%|▍         | 48/1000 [01:54<33:21,  2.10s/it]"
     ]
    },
    {
     "name": "stdout",
     "output_type": "stream",
     "text": [
      "Episode 48/1000 | Reward: -7.08 | Win Rate: 0.00 | 🏆 Winner: WeakerPlayerAttacker\n"
     ]
    },
    {
     "name": "stderr",
     "output_type": "stream",
     "text": [
      "Episode:   5%|▍         | 49/1000 [01:57<39:30,  2.49s/it]"
     ]
    },
    {
     "name": "stdout",
     "output_type": "stream",
     "text": [
      "Episode 49/1000 | Reward: -0.76 | Win Rate: 0.00 | 🏆 Winner: WeakerPlayerAttacker\n",
      "Episode 50/1000 | Reward: -1.60 | Win Rate: 0.00 | 🏆 Winner: WeakerPlayerAttacker\n"
     ]
    },
    {
     "name": "stderr",
     "output_type": "stream",
     "text": [
      "Episode:   5%|▌         | 50/1000 [02:34<3:20:20, 12.65s/it]"
     ]
    },
    {
     "name": "stdout",
     "output_type": "stream",
     "text": [
      "🎯 Evaluation match win rate (no epsilon): 0.00\n"
     ]
    },
    {
     "name": "stderr",
     "output_type": "stream",
     "text": [
      "Episode:   5%|▌         | 51/1000 [02:36<2:32:47,  9.66s/it]"
     ]
    },
    {
     "name": "stdout",
     "output_type": "stream",
     "text": [
      "Episode 51/1000 | Reward: -3.16 | Win Rate: 0.00 | 🏆 Winner: WeakerPlayerAttacker\n"
     ]
    },
    {
     "name": "stderr",
     "output_type": "stream",
     "text": [
      "Episode:   5%|▌         | 52/1000 [02:43<2:16:39,  8.65s/it]"
     ]
    },
    {
     "name": "stdout",
     "output_type": "stream",
     "text": [
      "Episode 52/1000 | Reward: 5.80 | Win Rate: 0.00 | 🏆 Winner: WeakerPlayerAttacker\n"
     ]
    },
    {
     "name": "stderr",
     "output_type": "stream",
     "text": [
      "Episode:   5%|▌         | 53/1000 [02:44<1:40:48,  6.39s/it]"
     ]
    },
    {
     "name": "stdout",
     "output_type": "stream",
     "text": [
      "Episode 53/1000 | Reward: -6.88 | Win Rate: 0.00 | 🏆 Winner: WeakerPlayerAttacker\n"
     ]
    },
    {
     "name": "stderr",
     "output_type": "stream",
     "text": [
      "Episode:   5%|▌         | 54/1000 [02:47<1:26:13,  5.47s/it]"
     ]
    },
    {
     "name": "stdout",
     "output_type": "stream",
     "text": [
      "Episode 54/1000 | Reward: -2.68 | Win Rate: 0.00 | 🏆 Winner: WeakerPlayerAttacker\n"
     ]
    },
    {
     "name": "stderr",
     "output_type": "stream",
     "text": [
      "Episode:   6%|▌         | 55/1000 [02:49<1:09:33,  4.42s/it]"
     ]
    },
    {
     "name": "stdout",
     "output_type": "stream",
     "text": [
      "Episode 55/1000 | Reward: -5.76 | Win Rate: 0.00 | 🏆 Winner: WeakerPlayerAttacker\n"
     ]
    },
    {
     "name": "stderr",
     "output_type": "stream",
     "text": [
      "Episode:   6%|▌         | 56/1000 [02:50<52:54,  3.36s/it]  "
     ]
    },
    {
     "name": "stdout",
     "output_type": "stream",
     "text": [
      "Episode 56/1000 | Reward: -8.40 | Win Rate: 0.00 | 🏆 Winner: WeakerPlayerAttacker\n"
     ]
    },
    {
     "name": "stderr",
     "output_type": "stream",
     "text": [
      "Episode:   6%|▌         | 57/1000 [02:53<49:47,  3.17s/it]"
     ]
    },
    {
     "name": "stdout",
     "output_type": "stream",
     "text": [
      "Episode 57/1000 | Reward: -4.68 | Win Rate: 0.00 | 🏆 Winner: WeakerPlayerAttacker\n"
     ]
    },
    {
     "name": "stderr",
     "output_type": "stream",
     "text": [
      "Episode:   6%|▌         | 58/1000 [02:54<40:13,  2.56s/it]"
     ]
    },
    {
     "name": "stdout",
     "output_type": "stream",
     "text": [
      "Episode 58/1000 | Reward: -6.92 | Win Rate: 0.00 | 🏆 Winner: WeakerPlayerAttacker\n"
     ]
    },
    {
     "name": "stderr",
     "output_type": "stream",
     "text": [
      "Episode:   6%|▌         | 59/1000 [02:57<41:47,  2.66s/it]"
     ]
    },
    {
     "name": "stdout",
     "output_type": "stream",
     "text": [
      "Episode 59/1000 | Reward: -1.56 | Win Rate: 0.00 | 🏆 Winner: WeakerPlayerAttacker\n"
     ]
    },
    {
     "name": "stderr",
     "output_type": "stream",
     "text": [
      "Episode:   6%|▌         | 60/1000 [02:59<39:12,  2.50s/it]"
     ]
    },
    {
     "name": "stdout",
     "output_type": "stream",
     "text": [
      "Episode 60/1000 | Reward: -6.88 | Win Rate: 0.00 | 🏆 Winner: WeakerPlayerAttacker\n",
      "[MODEL] Salvato in: ./saved_models/dicewars_rl_model_new.keras\n"
     ]
    },
    {
     "name": "stderr",
     "output_type": "stream",
     "text": [
      "Episode:   6%|▌         | 61/1000 [03:01<38:05,  2.43s/it]"
     ]
    },
    {
     "name": "stdout",
     "output_type": "stream",
     "text": [
      "Episode 61/1000 | Reward: -5.40 | Win Rate: 0.00 | 🏆 Winner: WeakerPlayerAttacker\n"
     ]
    },
    {
     "name": "stderr",
     "output_type": "stream",
     "text": [
      "Episode:   6%|▌         | 62/1000 [03:03<34:47,  2.23s/it]"
     ]
    },
    {
     "name": "stdout",
     "output_type": "stream",
     "text": [
      "Episode 62/1000 | Reward: -7.00 | Win Rate: 0.00 | 🏆 Winner: WeakerPlayerAttacker\n"
     ]
    },
    {
     "name": "stderr",
     "output_type": "stream",
     "text": [
      "Episode:   6%|▋         | 63/1000 [03:06<38:15,  2.45s/it]"
     ]
    },
    {
     "name": "stdout",
     "output_type": "stream",
     "text": [
      "Episode 63/1000 | Reward: -5.00 | Win Rate: 0.00 | 🏆 Winner: WeakerPlayerAttacker\n"
     ]
    },
    {
     "name": "stderr",
     "output_type": "stream",
     "text": [
      "Episode:   6%|▋         | 64/1000 [03:10<47:13,  3.03s/it]"
     ]
    },
    {
     "name": "stdout",
     "output_type": "stream",
     "text": [
      "Episode 64/1000 | Reward: 0.44 | Win Rate: 0.00 | 🏆 Winner: WeakerPlayerAttacker\n"
     ]
    },
    {
     "name": "stderr",
     "output_type": "stream",
     "text": [
      "Episode:   6%|▋         | 65/1000 [03:12<43:29,  2.79s/it]"
     ]
    },
    {
     "name": "stdout",
     "output_type": "stream",
     "text": [
      "Episode 65/1000 | Reward: -3.20 | Win Rate: 0.00 | 🏆 Winner: WeakerPlayerAttacker\n"
     ]
    },
    {
     "name": "stderr",
     "output_type": "stream",
     "text": [
      "Episode:   7%|▋         | 66/1000 [03:13<35:41,  2.29s/it]"
     ]
    },
    {
     "name": "stdout",
     "output_type": "stream",
     "text": [
      "Episode 66/1000 | Reward: -8.44 | Win Rate: 0.00 | 🏆 Winner: WeakerPlayerAttacker\n"
     ]
    },
    {
     "name": "stderr",
     "output_type": "stream",
     "text": [
      "Episode:   7%|▋         | 67/1000 [03:16<36:18,  2.33s/it]"
     ]
    },
    {
     "name": "stdout",
     "output_type": "stream",
     "text": [
      "Episode 67/1000 | Reward: -4.84 | Win Rate: 0.00 | 🏆 Winner: WeakerPlayerAttacker\n"
     ]
    },
    {
     "name": "stderr",
     "output_type": "stream",
     "text": [
      "Episode:   7%|▋         | 68/1000 [03:17<30:20,  1.95s/it]"
     ]
    },
    {
     "name": "stdout",
     "output_type": "stream",
     "text": [
      "Episode 68/1000 | Reward: -9.60 | Win Rate: 0.00 | 🏆 Winner: WeakerPlayerAttacker\n"
     ]
    },
    {
     "name": "stderr",
     "output_type": "stream",
     "text": [
      "Episode:   7%|▋         | 69/1000 [03:23<48:23,  3.12s/it]"
     ]
    },
    {
     "name": "stdout",
     "output_type": "stream",
     "text": [
      "Episode 69/1000 | Reward: 5.76 | Win Rate: 0.00 | 🏆 Winner: WeakerPlayerAttacker\n"
     ]
    },
    {
     "name": "stderr",
     "output_type": "stream",
     "text": [
      "Episode:   7%|▋         | 70/1000 [03:25<45:00,  2.90s/it]"
     ]
    },
    {
     "name": "stdout",
     "output_type": "stream",
     "text": [
      "Episode 70/1000 | Reward: -7.48 | Win Rate: 0.00 | 🏆 Winner: WeakerPlayerAttacker\n"
     ]
    },
    {
     "name": "stderr",
     "output_type": "stream",
     "text": [
      "Episode:   7%|▋         | 71/1000 [03:30<51:33,  3.33s/it]"
     ]
    },
    {
     "name": "stdout",
     "output_type": "stream",
     "text": [
      "Episode 71/1000 | Reward: 1.80 | Win Rate: 0.00 | 🏆 Winner: WeakerPlayerAttacker\n"
     ]
    },
    {
     "name": "stderr",
     "output_type": "stream",
     "text": [
      "Episode:   7%|▋         | 72/1000 [03:38<1:17:04,  4.98s/it]"
     ]
    },
    {
     "name": "stdout",
     "output_type": "stream",
     "text": [
      "Episode 72/1000 | Reward: 17.24 | Win Rate: 0.00 | 🏆 Winner: WeakerPlayerAttacker\n"
     ]
    },
    {
     "name": "stderr",
     "output_type": "stream",
     "text": [
      "Episode:   7%|▋         | 73/1000 [03:40<1:00:39,  3.93s/it]"
     ]
    },
    {
     "name": "stdout",
     "output_type": "stream",
     "text": [
      "Episode 73/1000 | Reward: -7.48 | Win Rate: 0.00 | 🏆 Winner: WeakerPlayerAttacker\n"
     ]
    },
    {
     "name": "stderr",
     "output_type": "stream",
     "text": [
      "Episode:   7%|▋         | 74/1000 [03:41<49:05,  3.18s/it]  "
     ]
    },
    {
     "name": "stdout",
     "output_type": "stream",
     "text": [
      "Episode 74/1000 | Reward: -7.48 | Win Rate: 0.00 | 🏆 Winner: WeakerPlayerAttacker\n"
     ]
    },
    {
     "name": "stderr",
     "output_type": "stream",
     "text": [
      "Episode:   8%|▊         | 75/1000 [03:44<47:52,  3.11s/it]"
     ]
    },
    {
     "name": "stdout",
     "output_type": "stream",
     "text": [
      "Episode 75/1000 | Reward: -1.00 | Win Rate: 0.00 | 🏆 Winner: WeakerPlayerAttacker\n"
     ]
    },
    {
     "name": "stderr",
     "output_type": "stream",
     "text": [
      "Episode:   8%|▊         | 76/1000 [03:45<39:20,  2.55s/it]"
     ]
    },
    {
     "name": "stdout",
     "output_type": "stream",
     "text": [
      "Episode 76/1000 | Reward: -7.92 | Win Rate: 0.00 | 🏆 Winner: WeakerPlayerAttacker\n"
     ]
    },
    {
     "name": "stderr",
     "output_type": "stream",
     "text": [
      "Episode:   8%|▊         | 77/1000 [03:48<39:27,  2.57s/it]"
     ]
    },
    {
     "name": "stdout",
     "output_type": "stream",
     "text": [
      "Episode 77/1000 | Reward: -3.04 | Win Rate: 0.00 | 🏆 Winner: WeakerPlayerAttacker\n"
     ]
    },
    {
     "name": "stderr",
     "output_type": "stream",
     "text": [
      "Episode:   8%|▊         | 78/1000 [03:50<37:32,  2.44s/it]"
     ]
    },
    {
     "name": "stdout",
     "output_type": "stream",
     "text": [
      "Episode 78/1000 | Reward: -8.20 | Win Rate: 0.00 | 🏆 Winner: WeakerPlayerAttacker\n"
     ]
    },
    {
     "name": "stderr",
     "output_type": "stream",
     "text": [
      "Episode:   8%|▊         | 79/1000 [03:51<31:51,  2.08s/it]"
     ]
    },
    {
     "name": "stdout",
     "output_type": "stream",
     "text": [
      "Episode 79/1000 | Reward: -6.84 | Win Rate: 0.00 | 🏆 Winner: WeakerPlayerAttacker\n"
     ]
    },
    {
     "name": "stderr",
     "output_type": "stream",
     "text": [
      "Episode:   8%|▊         | 80/1000 [03:56<41:19,  2.70s/it]"
     ]
    },
    {
     "name": "stdout",
     "output_type": "stream",
     "text": [
      "Episode 80/1000 | Reward: -1.84 | Win Rate: 0.00 | 🏆 Winner: WeakerPlayerAttacker\n"
     ]
    },
    {
     "name": "stderr",
     "output_type": "stream",
     "text": [
      "Episode:   8%|▊         | 81/1000 [04:03<1:02:29,  4.08s/it]"
     ]
    },
    {
     "name": "stdout",
     "output_type": "stream",
     "text": [
      "Episode 81/1000 | Reward: 13.68 | Win Rate: 0.00 | 🏆 Winner: WeakerPlayerAttacker\n"
     ]
    },
    {
     "name": "stderr",
     "output_type": "stream",
     "text": [
      "Episode:   8%|▊         | 82/1000 [04:04<49:33,  3.24s/it]  "
     ]
    },
    {
     "name": "stdout",
     "output_type": "stream",
     "text": [
      "Episode 82/1000 | Reward: -7.96 | Win Rate: 0.00 | 🏆 Winner: WeakerPlayerAttacker\n"
     ]
    },
    {
     "name": "stderr",
     "output_type": "stream",
     "text": [
      "Episode:   8%|▊         | 83/1000 [04:06<42:34,  2.79s/it]"
     ]
    },
    {
     "name": "stdout",
     "output_type": "stream",
     "text": [
      "Episode 83/1000 | Reward: -7.00 | Win Rate: 0.00 | 🏆 Winner: WeakerPlayerAttacker\n"
     ]
    },
    {
     "name": "stderr",
     "output_type": "stream",
     "text": [
      "Episode:   8%|▊         | 84/1000 [04:08<38:54,  2.55s/it]"
     ]
    },
    {
     "name": "stdout",
     "output_type": "stream",
     "text": [
      "Episode 84/1000 | Reward: -6.56 | Win Rate: 0.00 | 🏆 Winner: WeakerPlayerAttacker\n"
     ]
    },
    {
     "name": "stderr",
     "output_type": "stream",
     "text": [
      "Episode:   8%|▊         | 85/1000 [04:09<32:42,  2.14s/it]"
     ]
    },
    {
     "name": "stdout",
     "output_type": "stream",
     "text": [
      "Episode 85/1000 | Reward: -7.72 | Win Rate: 0.00 | 🏆 Winner: WeakerPlayerAttacker\n"
     ]
    },
    {
     "name": "stderr",
     "output_type": "stream",
     "text": [
      "Episode:   9%|▊         | 86/1000 [04:11<33:12,  2.18s/it]"
     ]
    },
    {
     "name": "stdout",
     "output_type": "stream",
     "text": [
      "Episode 86/1000 | Reward: -5.08 | Win Rate: 0.00 | 🏆 Winner: WeakerPlayerAttacker\n"
     ]
    },
    {
     "name": "stderr",
     "output_type": "stream",
     "text": [
      "Episode:   9%|▊         | 87/1000 [04:13<31:59,  2.10s/it]"
     ]
    },
    {
     "name": "stdout",
     "output_type": "stream",
     "text": [
      "Episode 87/1000 | Reward: -5.72 | Win Rate: 0.00 | 🏆 Winner: WeakerPlayerAttacker\n"
     ]
    },
    {
     "name": "stderr",
     "output_type": "stream",
     "text": [
      "Episode:   9%|▉         | 88/1000 [04:17<38:35,  2.54s/it]"
     ]
    },
    {
     "name": "stdout",
     "output_type": "stream",
     "text": [
      "Episode 88/1000 | Reward: -1.80 | Win Rate: 0.00 | 🏆 Winner: WeakerPlayerAttacker\n"
     ]
    },
    {
     "name": "stderr",
     "output_type": "stream",
     "text": [
      "Episode:   9%|▉         | 89/1000 [04:19<35:58,  2.37s/it]"
     ]
    },
    {
     "name": "stdout",
     "output_type": "stream",
     "text": [
      "Episode 89/1000 | Reward: -5.44 | Win Rate: 0.00 | 🏆 Winner: WeakerPlayerAttacker\n"
     ]
    },
    {
     "name": "stderr",
     "output_type": "stream",
     "text": [
      "Episode:   9%|▉         | 90/1000 [04:24<47:35,  3.14s/it]"
     ]
    },
    {
     "name": "stdout",
     "output_type": "stream",
     "text": [
      "Episode 90/1000 | Reward: -2.48 | Win Rate: 0.00 | 🏆 Winner: WeakerPlayerAttacker\n",
      "[MODEL] Salvato in: ./saved_models/dicewars_rl_model_new.keras\n"
     ]
    },
    {
     "name": "stderr",
     "output_type": "stream",
     "text": [
      "Episode:   9%|▉         | 91/1000 [04:26<44:24,  2.93s/it]"
     ]
    },
    {
     "name": "stdout",
     "output_type": "stream",
     "text": [
      "Episode 91/1000 | Reward: -3.92 | Win Rate: 0.00 | 🏆 Winner: WeakerPlayerAttacker\n"
     ]
    },
    {
     "name": "stderr",
     "output_type": "stream",
     "text": [
      "Episode:   9%|▉         | 92/1000 [04:29<44:46,  2.96s/it]"
     ]
    },
    {
     "name": "stdout",
     "output_type": "stream",
     "text": [
      "Episode 92/1000 | Reward: -2.88 | Win Rate: 0.00 | 🏆 Winner: WeakerPlayerAttacker\n"
     ]
    },
    {
     "name": "stderr",
     "output_type": "stream",
     "text": [
      "Episode:   9%|▉         | 93/1000 [04:32<45:55,  3.04s/it]"
     ]
    },
    {
     "name": "stdout",
     "output_type": "stream",
     "text": [
      "Episode 93/1000 | Reward: -1.04 | Win Rate: 0.00 | 🏆 Winner: WeakerPlayerAttacker\n"
     ]
    },
    {
     "name": "stderr",
     "output_type": "stream",
     "text": [
      "Episode:   9%|▉         | 94/1000 [04:34<39:31,  2.62s/it]"
     ]
    },
    {
     "name": "stdout",
     "output_type": "stream",
     "text": [
      "Episode 94/1000 | Reward: -7.56 | Win Rate: 0.00 | 🏆 Winner: WeakerPlayerAttacker\n"
     ]
    },
    {
     "name": "stderr",
     "output_type": "stream",
     "text": [
      "Episode:  10%|▉         | 95/1000 [04:36<34:38,  2.30s/it]"
     ]
    },
    {
     "name": "stdout",
     "output_type": "stream",
     "text": [
      "Episode 95/1000 | Reward: -7.44 | Win Rate: 0.00 | 🏆 Winner: WeakerPlayerAttacker\n"
     ]
    },
    {
     "name": "stderr",
     "output_type": "stream",
     "text": [
      "Episode:  10%|▉         | 96/1000 [04:37<32:36,  2.16s/it]"
     ]
    },
    {
     "name": "stdout",
     "output_type": "stream",
     "text": [
      "Episode 96/1000 | Reward: -5.16 | Win Rate: 0.00 | 🏆 Winner: WeakerPlayerAttacker\n"
     ]
    },
    {
     "name": "stderr",
     "output_type": "stream",
     "text": [
      "Episode:  10%|▉         | 97/1000 [04:40<32:56,  2.19s/it]"
     ]
    },
    {
     "name": "stdout",
     "output_type": "stream",
     "text": [
      "Episode 97/1000 | Reward: -4.48 | Win Rate: 0.00 | 🏆 Winner: WeakerPlayerAttacker\n"
     ]
    },
    {
     "name": "stderr",
     "output_type": "stream",
     "text": [
      "Episode:  10%|▉         | 98/1000 [04:41<29:31,  1.96s/it]"
     ]
    },
    {
     "name": "stdout",
     "output_type": "stream",
     "text": [
      "Episode 98/1000 | Reward: -7.44 | Win Rate: 0.00 | 🏆 Winner: WeakerPlayerAttacker\n"
     ]
    },
    {
     "name": "stderr",
     "output_type": "stream",
     "text": [
      "Episode:  10%|▉         | 99/1000 [04:44<32:41,  2.18s/it]"
     ]
    },
    {
     "name": "stdout",
     "output_type": "stream",
     "text": [
      "Episode 99/1000 | Reward: -6.28 | Win Rate: 0.00 | 🏆 Winner: WeakerPlayerAttacker\n",
      "Episode 100/1000 | Reward: -6.32 | Win Rate: 0.00 | 🏆 Winner: WeakerPlayerAttacker\n"
     ]
    },
    {
     "name": "stderr",
     "output_type": "stream",
     "text": [
      "Episode:  10%|█         | 100/1000 [05:12<2:31:08, 10.08s/it]"
     ]
    },
    {
     "name": "stdout",
     "output_type": "stream",
     "text": [
      "🎯 Evaluation match win rate (no epsilon): 0.00\n"
     ]
    },
    {
     "name": "stderr",
     "output_type": "stream",
     "text": [
      "Episode:  10%|█         | 101/1000 [05:16<2:03:32,  8.25s/it]"
     ]
    },
    {
     "name": "stdout",
     "output_type": "stream",
     "text": [
      "Episode 101/1000 | Reward: -2.52 | Win Rate: 0.00 | 🏆 Winner: WeakerPlayerAttacker\n"
     ]
    },
    {
     "name": "stderr",
     "output_type": "stream",
     "text": [
      "Episode:  10%|█         | 102/1000 [05:17<1:30:18,  6.03s/it]"
     ]
    },
    {
     "name": "stdout",
     "output_type": "stream",
     "text": [
      "Episode 102/1000 | Reward: -7.80 | Win Rate: 0.00 | 🏆 Winner: WeakerPlayerAttacker\n"
     ]
    },
    {
     "name": "stderr",
     "output_type": "stream",
     "text": [
      "Episode:  10%|█         | 103/1000 [05:18<1:08:33,  4.59s/it]"
     ]
    },
    {
     "name": "stdout",
     "output_type": "stream",
     "text": [
      "Episode 103/1000 | Reward: -8.72 | Win Rate: 0.00 | 🏆 Winner: WeakerPlayerAttacker\n"
     ]
    },
    {
     "name": "stderr",
     "output_type": "stream",
     "text": [
      "Episode:  10%|█         | 104/1000 [05:23<1:06:39,  4.46s/it]"
     ]
    },
    {
     "name": "stdout",
     "output_type": "stream",
     "text": [
      "Episode 104/1000 | Reward: -6.76 | Win Rate: 0.00 | 🏆 Winner: WeakerPlayerAttacker\n"
     ]
    },
    {
     "name": "stderr",
     "output_type": "stream",
     "text": [
      "Episode:  10%|█         | 105/1000 [05:27<1:04:29,  4.32s/it]"
     ]
    },
    {
     "name": "stdout",
     "output_type": "stream",
     "text": [
      "Episode 105/1000 | Reward: -1.44 | Win Rate: 0.00 | 🏆 Winner: WeakerPlayerAttacker\n"
     ]
    },
    {
     "name": "stderr",
     "output_type": "stream",
     "text": [
      "Episode:  11%|█         | 106/1000 [05:39<1:41:58,  6.84s/it]"
     ]
    },
    {
     "name": "stdout",
     "output_type": "stream",
     "text": [
      "Episode 106/1000 | Reward: 59.16 | Win Rate: 0.02 | 🏆 Winner: RLDicewarsAgent\n"
     ]
    },
    {
     "name": "stderr",
     "output_type": "stream",
     "text": [
      "Episode:  11%|█         | 107/1000 [05:45<1:37:24,  6.54s/it]"
     ]
    },
    {
     "name": "stdout",
     "output_type": "stream",
     "text": [
      "Episode 107/1000 | Reward: -6.12 | Win Rate: 0.02 | 🏆 Winner: WeakerPlayerAttacker\n"
     ]
    },
    {
     "name": "stderr",
     "output_type": "stream",
     "text": [
      "Episode:  11%|█         | 108/1000 [05:46<1:12:11,  4.86s/it]"
     ]
    },
    {
     "name": "stdout",
     "output_type": "stream",
     "text": [
      "Episode 108/1000 | Reward: -8.52 | Win Rate: 0.02 | 🏆 Winner: WeakerPlayerAttacker\n"
     ]
    },
    {
     "name": "stderr",
     "output_type": "stream",
     "text": [
      "Episode:  11%|█         | 109/1000 [05:49<1:03:43,  4.29s/it]"
     ]
    },
    {
     "name": "stdout",
     "output_type": "stream",
     "text": [
      "Episode 109/1000 | Reward: -2.84 | Win Rate: 0.02 | 🏆 Winner: WeakerPlayerAttacker\n"
     ]
    },
    {
     "name": "stderr",
     "output_type": "stream",
     "text": [
      "Episode:  11%|█         | 110/1000 [06:00<1:33:42,  6.32s/it]"
     ]
    },
    {
     "name": "stdout",
     "output_type": "stream",
     "text": [
      "Episode 110/1000 | Reward: 59.20 | Win Rate: 0.04 | 🏆 Winner: RLDicewarsAgent\n"
     ]
    },
    {
     "name": "stderr",
     "output_type": "stream",
     "text": [
      "Episode:  11%|█         | 111/1000 [06:03<1:17:49,  5.25s/it]"
     ]
    },
    {
     "name": "stdout",
     "output_type": "stream",
     "text": [
      "Episode 111/1000 | Reward: -3.32 | Win Rate: 0.04 | 🏆 Winner: WeakerPlayerAttacker\n"
     ]
    },
    {
     "name": "stderr",
     "output_type": "stream",
     "text": [
      "Episode:  11%|█         | 112/1000 [06:05<1:04:28,  4.36s/it]"
     ]
    },
    {
     "name": "stdout",
     "output_type": "stream",
     "text": [
      "Episode 112/1000 | Reward: -5.00 | Win Rate: 0.04 | 🏆 Winner: WeakerPlayerAttacker\n"
     ]
    },
    {
     "name": "stderr",
     "output_type": "stream",
     "text": [
      "Episode:  11%|█▏        | 113/1000 [06:08<59:55,  4.05s/it]  "
     ]
    },
    {
     "name": "stdout",
     "output_type": "stream",
     "text": [
      "Episode 113/1000 | Reward: -5.20 | Win Rate: 0.04 | 🏆 Winner: WeakerPlayerAttacker\n"
     ]
    },
    {
     "name": "stderr",
     "output_type": "stream",
     "text": [
      "Episode:  11%|█▏        | 114/1000 [06:09<46:26,  3.15s/it]"
     ]
    },
    {
     "name": "stdout",
     "output_type": "stream",
     "text": [
      "Episode 114/1000 | Reward: -7.76 | Win Rate: 0.04 | 🏆 Winner: WeakerPlayerAttacker\n"
     ]
    },
    {
     "name": "stderr",
     "output_type": "stream",
     "text": [
      "Episode:  12%|█▏        | 115/1000 [06:12<43:27,  2.95s/it]"
     ]
    },
    {
     "name": "stdout",
     "output_type": "stream",
     "text": [
      "Episode 115/1000 | Reward: -5.92 | Win Rate: 0.04 | 🏆 Winner: WeakerPlayerAttacker\n"
     ]
    },
    {
     "name": "stderr",
     "output_type": "stream",
     "text": [
      "Episode:  12%|█▏        | 116/1000 [06:17<51:22,  3.49s/it]"
     ]
    },
    {
     "name": "stdout",
     "output_type": "stream",
     "text": [
      "Episode 116/1000 | Reward: -8.92 | Win Rate: 0.04 | 🏆 Winner: WeakerPlayerAttacker\n"
     ]
    },
    {
     "name": "stderr",
     "output_type": "stream",
     "text": [
      "Episode:  12%|█▏        | 117/1000 [06:18<43:12,  2.94s/it]"
     ]
    },
    {
     "name": "stdout",
     "output_type": "stream",
     "text": [
      "Episode 117/1000 | Reward: -6.44 | Win Rate: 0.04 | 🏆 Winner: WeakerPlayerAttacker\n"
     ]
    },
    {
     "name": "stderr",
     "output_type": "stream",
     "text": [
      "Episode:  12%|█▏        | 118/1000 [06:22<44:18,  3.01s/it]"
     ]
    },
    {
     "name": "stdout",
     "output_type": "stream",
     "text": [
      "Episode 118/1000 | Reward: -2.20 | Win Rate: 0.04 | 🏆 Winner: WeakerPlayerAttacker\n"
     ]
    },
    {
     "name": "stderr",
     "output_type": "stream",
     "text": [
      "Episode:  12%|█▏        | 119/1000 [06:24<39:47,  2.71s/it]"
     ]
    },
    {
     "name": "stdout",
     "output_type": "stream",
     "text": [
      "Episode 119/1000 | Reward: -6.68 | Win Rate: 0.04 | 🏆 Winner: WeakerPlayerAttacker\n"
     ]
    },
    {
     "name": "stderr",
     "output_type": "stream",
     "text": [
      "Episode:  12%|█▏        | 120/1000 [06:27<41:35,  2.84s/it]"
     ]
    },
    {
     "name": "stdout",
     "output_type": "stream",
     "text": [
      "Episode 120/1000 | Reward: -4.16 | Win Rate: 0.04 | 🏆 Winner: WeakerPlayerAttacker\n",
      "[MODEL] Salvato in: ./saved_models/dicewars_rl_model_new.keras\n"
     ]
    },
    {
     "name": "stderr",
     "output_type": "stream",
     "text": [
      "Episode:  12%|█▏        | 121/1000 [06:28<33:21,  2.28s/it]"
     ]
    },
    {
     "name": "stdout",
     "output_type": "stream",
     "text": [
      "Episode 121/1000 | Reward: -9.28 | Win Rate: 0.04 | 🏆 Winner: WeakerPlayerAttacker\n"
     ]
    },
    {
     "name": "stderr",
     "output_type": "stream",
     "text": [
      "Episode:  12%|█▏        | 122/1000 [06:30<31:31,  2.15s/it]"
     ]
    },
    {
     "name": "stdout",
     "output_type": "stream",
     "text": [
      "Episode 122/1000 | Reward: -7.28 | Win Rate: 0.04 | 🏆 Winner: WeakerPlayerAttacker\n"
     ]
    },
    {
     "name": "stderr",
     "output_type": "stream",
     "text": [
      "Episode:  12%|█▏        | 123/1000 [06:33<35:10,  2.41s/it]"
     ]
    },
    {
     "name": "stdout",
     "output_type": "stream",
     "text": [
      "Episode 123/1000 | Reward: -3.40 | Win Rate: 0.04 | 🏆 Winner: WeakerPlayerAttacker\n"
     ]
    },
    {
     "name": "stderr",
     "output_type": "stream",
     "text": [
      "Episode:  12%|█▏        | 124/1000 [06:35<35:34,  2.44s/it]"
     ]
    },
    {
     "name": "stdout",
     "output_type": "stream",
     "text": [
      "Episode 124/1000 | Reward: -3.16 | Win Rate: 0.04 | 🏆 Winner: WeakerPlayerAttacker\n"
     ]
    },
    {
     "name": "stderr",
     "output_type": "stream",
     "text": [
      "Episode:  12%|█▎        | 125/1000 [06:36<30:58,  2.12s/it]"
     ]
    },
    {
     "name": "stdout",
     "output_type": "stream",
     "text": [
      "Episode 125/1000 | Reward: -7.28 | Win Rate: 0.04 | 🏆 Winner: WeakerPlayerAttacker\n"
     ]
    },
    {
     "name": "stderr",
     "output_type": "stream",
     "text": [
      "Episode:  13%|█▎        | 126/1000 [06:38<28:49,  1.98s/it]"
     ]
    },
    {
     "name": "stdout",
     "output_type": "stream",
     "text": [
      "Episode 126/1000 | Reward: -5.12 | Win Rate: 0.04 | 🏆 Winner: WeakerPlayerAttacker\n"
     ]
    },
    {
     "name": "stderr",
     "output_type": "stream",
     "text": [
      "Episode:  13%|█▎        | 127/1000 [06:41<31:27,  2.16s/it]"
     ]
    },
    {
     "name": "stdout",
     "output_type": "stream",
     "text": [
      "Episode 127/1000 | Reward: -5.40 | Win Rate: 0.04 | 🏆 Winner: WeakerPlayerAttacker\n"
     ]
    },
    {
     "name": "stderr",
     "output_type": "stream",
     "text": [
      "Episode:  13%|█▎        | 128/1000 [06:44<36:48,  2.53s/it]"
     ]
    },
    {
     "name": "stdout",
     "output_type": "stream",
     "text": [
      "Episode 128/1000 | Reward: -2.20 | Win Rate: 0.04 | 🏆 Winner: WeakerPlayerAttacker\n"
     ]
    },
    {
     "name": "stderr",
     "output_type": "stream",
     "text": [
      "Episode:  13%|█▎        | 129/1000 [06:47<38:40,  2.66s/it]"
     ]
    },
    {
     "name": "stdout",
     "output_type": "stream",
     "text": [
      "Episode 129/1000 | Reward: -3.12 | Win Rate: 0.04 | 🏆 Winner: WeakerPlayerAttacker\n"
     ]
    },
    {
     "name": "stderr",
     "output_type": "stream",
     "text": [
      "Episode:  13%|█▎        | 130/1000 [06:49<37:52,  2.61s/it]"
     ]
    },
    {
     "name": "stdout",
     "output_type": "stream",
     "text": [
      "Episode 130/1000 | Reward: -5.32 | Win Rate: 0.04 | 🏆 Winner: WeakerPlayerAttacker\n"
     ]
    },
    {
     "name": "stderr",
     "output_type": "stream",
     "text": [
      "Episode:  13%|█▎        | 131/1000 [06:51<31:44,  2.19s/it]"
     ]
    },
    {
     "name": "stdout",
     "output_type": "stream",
     "text": [
      "Episode 131/1000 | Reward: -9.68 | Win Rate: 0.04 | 🏆 Winner: WeakerPlayerAttacker\n"
     ]
    },
    {
     "name": "stderr",
     "output_type": "stream",
     "text": [
      "Episode:  13%|█▎        | 132/1000 [06:53<33:03,  2.28s/it]"
     ]
    },
    {
     "name": "stdout",
     "output_type": "stream",
     "text": [
      "Episode 132/1000 | Reward: -5.48 | Win Rate: 0.04 | 🏆 Winner: WeakerPlayerAttacker\n"
     ]
    },
    {
     "name": "stderr",
     "output_type": "stream",
     "text": [
      "Episode:  13%|█▎        | 133/1000 [06:55<29:40,  2.05s/it]"
     ]
    },
    {
     "name": "stdout",
     "output_type": "stream",
     "text": [
      "Episode 133/1000 | Reward: -7.28 | Win Rate: 0.04 | 🏆 Winner: WeakerPlayerAttacker\n"
     ]
    },
    {
     "name": "stderr",
     "output_type": "stream",
     "text": [
      "Episode:  13%|█▎        | 134/1000 [06:56<25:25,  1.76s/it]"
     ]
    },
    {
     "name": "stdout",
     "output_type": "stream",
     "text": [
      "Episode 134/1000 | Reward: -7.36 | Win Rate: 0.04 | 🏆 Winner: WeakerPlayerAttacker\n"
     ]
    },
    {
     "name": "stderr",
     "output_type": "stream",
     "text": [
      "Episode:  14%|█▎        | 135/1000 [06:58<25:08,  1.74s/it]"
     ]
    },
    {
     "name": "stdout",
     "output_type": "stream",
     "text": [
      "Episode 135/1000 | Reward: -6.28 | Win Rate: 0.04 | 🏆 Winner: WeakerPlayerAttacker\n"
     ]
    },
    {
     "name": "stderr",
     "output_type": "stream",
     "text": [
      "Episode:  14%|█▎        | 136/1000 [07:01<31:34,  2.19s/it]"
     ]
    },
    {
     "name": "stdout",
     "output_type": "stream",
     "text": [
      "Episode 136/1000 | Reward: -2.72 | Win Rate: 0.04 | 🏆 Winner: WeakerPlayerAttacker\n"
     ]
    },
    {
     "name": "stderr",
     "output_type": "stream",
     "text": [
      "Episode:  14%|█▎        | 137/1000 [07:04<37:52,  2.63s/it]"
     ]
    },
    {
     "name": "stdout",
     "output_type": "stream",
     "text": [
      "Episode 137/1000 | Reward: -1.08 | Win Rate: 0.04 | 🏆 Winner: WeakerPlayerAttacker\n"
     ]
    },
    {
     "name": "stderr",
     "output_type": "stream",
     "text": [
      "Episode:  14%|█▍        | 138/1000 [07:07<36:33,  2.54s/it]"
     ]
    },
    {
     "name": "stdout",
     "output_type": "stream",
     "text": [
      "Episode 138/1000 | Reward: -3.12 | Win Rate: 0.04 | 🏆 Winner: WeakerPlayerAttacker\n"
     ]
    },
    {
     "name": "stderr",
     "output_type": "stream",
     "text": [
      "Episode:  14%|█▍        | 139/1000 [07:13<51:07,  3.56s/it]"
     ]
    },
    {
     "name": "stdout",
     "output_type": "stream",
     "text": [
      "Episode 139/1000 | Reward: -3.60 | Win Rate: 0.04 | 🏆 Winner: WeakerPlayerAttacker\n"
     ]
    },
    {
     "name": "stderr",
     "output_type": "stream",
     "text": [
      "Episode:  14%|█▍        | 140/1000 [07:14<43:31,  3.04s/it]"
     ]
    },
    {
     "name": "stdout",
     "output_type": "stream",
     "text": [
      "Episode 140/1000 | Reward: -7.44 | Win Rate: 0.04 | 🏆 Winner: WeakerPlayerAttacker\n"
     ]
    },
    {
     "name": "stderr",
     "output_type": "stream",
     "text": [
      "Episode:  14%|█▍        | 141/1000 [07:17<39:41,  2.77s/it]"
     ]
    },
    {
     "name": "stdout",
     "output_type": "stream",
     "text": [
      "Episode 141/1000 | Reward: -4.76 | Win Rate: 0.04 | 🏆 Winner: WeakerPlayerAttacker\n"
     ]
    },
    {
     "name": "stderr",
     "output_type": "stream",
     "text": [
      "Episode:  14%|█▍        | 142/1000 [07:20<41:53,  2.93s/it]"
     ]
    },
    {
     "name": "stdout",
     "output_type": "stream",
     "text": [
      "Episode 142/1000 | Reward: -3.44 | Win Rate: 0.04 | 🏆 Winner: WeakerPlayerAttacker\n"
     ]
    },
    {
     "name": "stderr",
     "output_type": "stream",
     "text": [
      "Episode:  14%|█▍        | 143/1000 [07:23<41:09,  2.88s/it]"
     ]
    },
    {
     "name": "stdout",
     "output_type": "stream",
     "text": [
      "Episode 143/1000 | Reward: -3.76 | Win Rate: 0.04 | 🏆 Winner: WeakerPlayerAttacker\n"
     ]
    },
    {
     "name": "stderr",
     "output_type": "stream",
     "text": [
      "Episode:  14%|█▍        | 144/1000 [07:24<35:54,  2.52s/it]"
     ]
    },
    {
     "name": "stdout",
     "output_type": "stream",
     "text": [
      "Episode 144/1000 | Reward: -5.52 | Win Rate: 0.04 | 🏆 Winner: WeakerPlayerAttacker\n"
     ]
    },
    {
     "name": "stderr",
     "output_type": "stream",
     "text": [
      "Episode:  14%|█▍        | 145/1000 [07:26<32:17,  2.27s/it]"
     ]
    },
    {
     "name": "stdout",
     "output_type": "stream",
     "text": [
      "Episode 145/1000 | Reward: -6.96 | Win Rate: 0.04 | 🏆 Winner: WeakerPlayerAttacker\n"
     ]
    },
    {
     "name": "stderr",
     "output_type": "stream",
     "text": [
      "Episode:  15%|█▍        | 146/1000 [07:28<31:50,  2.24s/it]"
     ]
    },
    {
     "name": "stdout",
     "output_type": "stream",
     "text": [
      "Episode 146/1000 | Reward: -3.00 | Win Rate: 0.04 | 🏆 Winner: WeakerPlayerAttacker\n"
     ]
    },
    {
     "name": "stderr",
     "output_type": "stream",
     "text": [
      "Episode:  15%|█▍        | 147/1000 [07:30<28:29,  2.00s/it]"
     ]
    },
    {
     "name": "stdout",
     "output_type": "stream",
     "text": [
      "Episode 147/1000 | Reward: -7.72 | Win Rate: 0.04 | 🏆 Winner: WeakerPlayerAttacker\n"
     ]
    },
    {
     "name": "stderr",
     "output_type": "stream",
     "text": [
      "Episode:  15%|█▍        | 148/1000 [07:31<26:13,  1.85s/it]"
     ]
    },
    {
     "name": "stdout",
     "output_type": "stream",
     "text": [
      "Episode 148/1000 | Reward: -6.44 | Win Rate: 0.04 | 🏆 Winner: WeakerPlayerAttacker\n"
     ]
    },
    {
     "name": "stderr",
     "output_type": "stream",
     "text": [
      "Episode:  15%|█▍        | 149/1000 [07:34<31:38,  2.23s/it]"
     ]
    },
    {
     "name": "stdout",
     "output_type": "stream",
     "text": [
      "Episode 149/1000 | Reward: -2.28 | Win Rate: 0.04 | 🏆 Winner: WeakerPlayerAttacker\n",
      "Episode 150/1000 | Reward: -5.56 | Win Rate: 0.04 | 🏆 Winner: WeakerPlayerAttacker\n",
      "[MODEL] Salvato in: ./saved_models/dicewars_rl_model_new.keras\n"
     ]
    },
    {
     "name": "stderr",
     "output_type": "stream",
     "text": [
      "Episode:  15%|█▌        | 150/1000 [08:05<2:32:08, 10.74s/it]"
     ]
    },
    {
     "name": "stdout",
     "output_type": "stream",
     "text": [
      "🎯 Evaluation match win rate (no epsilon): 0.00\n"
     ]
    },
    {
     "name": "stderr",
     "output_type": "stream",
     "text": [
      "Episode:  15%|█▌        | 151/1000 [08:07<1:54:16,  8.08s/it]"
     ]
    },
    {
     "name": "stdout",
     "output_type": "stream",
     "text": [
      "Episode 151/1000 | Reward: -7.12 | Win Rate: 0.04 | 🏆 Winner: WeakerPlayerAttacker\n"
     ]
    },
    {
     "name": "stderr",
     "output_type": "stream",
     "text": [
      "Episode:  15%|█▌        | 152/1000 [08:08<1:26:01,  6.09s/it]"
     ]
    },
    {
     "name": "stdout",
     "output_type": "stream",
     "text": [
      "Episode 152/1000 | Reward: -6.36 | Win Rate: 0.04 | 🏆 Winner: WeakerPlayerAttacker\n"
     ]
    },
    {
     "name": "stderr",
     "output_type": "stream",
     "text": [
      "Episode:  15%|█▌        | 153/1000 [08:16<1:34:14,  6.68s/it]"
     ]
    },
    {
     "name": "stdout",
     "output_type": "stream",
     "text": [
      "Episode 153/1000 | Reward: 45.56 | Win Rate: 0.06 | 🏆 Winner: RLDicewarsAgent\n"
     ]
    },
    {
     "name": "stderr",
     "output_type": "stream",
     "text": [
      "Episode:  15%|█▌        | 154/1000 [08:19<1:16:32,  5.43s/it]"
     ]
    },
    {
     "name": "stdout",
     "output_type": "stream",
     "text": [
      "Episode 154/1000 | Reward: -5.12 | Win Rate: 0.06 | 🏆 Winner: WeakerPlayerAttacker\n"
     ]
    },
    {
     "name": "stderr",
     "output_type": "stream",
     "text": [
      "Episode:  16%|█▌        | 155/1000 [08:20<59:33,  4.23s/it]  "
     ]
    },
    {
     "name": "stdout",
     "output_type": "stream",
     "text": [
      "Episode 155/1000 | Reward: -7.84 | Win Rate: 0.06 | 🏆 Winner: WeakerPlayerAttacker\n"
     ]
    },
    {
     "name": "stderr",
     "output_type": "stream",
     "text": [
      "Episode:  16%|█▌        | 156/1000 [08:22<50:00,  3.55s/it]"
     ]
    },
    {
     "name": "stdout",
     "output_type": "stream",
     "text": [
      "Episode 156/1000 | Reward: -4.88 | Win Rate: 0.04 | 🏆 Winner: WeakerPlayerAttacker\n"
     ]
    },
    {
     "name": "stderr",
     "output_type": "stream",
     "text": [
      "Episode:  16%|█▌        | 157/1000 [08:25<45:30,  3.24s/it]"
     ]
    },
    {
     "name": "stdout",
     "output_type": "stream",
     "text": [
      "Episode 157/1000 | Reward: -4.96 | Win Rate: 0.04 | 🏆 Winner: WeakerPlayerAttacker\n"
     ]
    },
    {
     "name": "stderr",
     "output_type": "stream",
     "text": [
      "Episode:  16%|█▌        | 158/1000 [08:25<33:43,  2.40s/it]"
     ]
    },
    {
     "name": "stdout",
     "output_type": "stream",
     "text": [
      "Episode 158/1000 | Reward: -9.64 | Win Rate: 0.04 | 🏆 Winner: WeakerPlayerAttacker\n"
     ]
    },
    {
     "name": "stderr",
     "output_type": "stream",
     "text": [
      "Episode:  16%|█▌        | 159/1000 [08:27<33:13,  2.37s/it]"
     ]
    },
    {
     "name": "stdout",
     "output_type": "stream",
     "text": [
      "Episode 159/1000 | Reward: -4.48 | Win Rate: 0.04 | 🏆 Winner: WeakerPlayerAttacker\n"
     ]
    },
    {
     "name": "stderr",
     "output_type": "stream",
     "text": [
      "Episode:  16%|█▌        | 160/1000 [08:29<30:14,  2.16s/it]"
     ]
    },
    {
     "name": "stdout",
     "output_type": "stream",
     "text": [
      "Episode 160/1000 | Reward: -7.20 | Win Rate: 0.02 | 🏆 Winner: WeakerPlayerAttacker\n"
     ]
    },
    {
     "name": "stderr",
     "output_type": "stream",
     "text": [
      "Episode:  16%|█▌        | 161/1000 [08:30<25:32,  1.83s/it]"
     ]
    },
    {
     "name": "stdout",
     "output_type": "stream",
     "text": [
      "Episode 161/1000 | Reward: -8.84 | Win Rate: 0.02 | 🏆 Winner: WeakerPlayerAttacker\n"
     ]
    },
    {
     "name": "stderr",
     "output_type": "stream",
     "text": [
      "Episode:  16%|█▌        | 162/1000 [08:33<29:05,  2.08s/it]"
     ]
    },
    {
     "name": "stdout",
     "output_type": "stream",
     "text": [
      "Episode 162/1000 | Reward: -4.88 | Win Rate: 0.02 | 🏆 Winner: WeakerPlayerAttacker\n"
     ]
    },
    {
     "name": "stderr",
     "output_type": "stream",
     "text": [
      "Episode:  16%|█▋        | 163/1000 [08:34<26:33,  1.90s/it]"
     ]
    },
    {
     "name": "stdout",
     "output_type": "stream",
     "text": [
      "Episode 163/1000 | Reward: -7.12 | Win Rate: 0.02 | 🏆 Winner: WeakerPlayerAttacker\n"
     ]
    },
    {
     "name": "stderr",
     "output_type": "stream",
     "text": [
      "Episode:  16%|█▋        | 164/1000 [08:36<24:07,  1.73s/it]"
     ]
    },
    {
     "name": "stdout",
     "output_type": "stream",
     "text": [
      "Episode 164/1000 | Reward: -6.96 | Win Rate: 0.02 | 🏆 Winner: WeakerPlayerAttacker\n"
     ]
    },
    {
     "name": "stderr",
     "output_type": "stream",
     "text": [
      "Episode:  16%|█▋        | 165/1000 [08:37<22:59,  1.65s/it]"
     ]
    },
    {
     "name": "stdout",
     "output_type": "stream",
     "text": [
      "Episode 165/1000 | Reward: -8.00 | Win Rate: 0.02 | 🏆 Winner: WeakerPlayerAttacker\n"
     ]
    },
    {
     "name": "stderr",
     "output_type": "stream",
     "text": [
      "Episode:  17%|█▋        | 166/1000 [08:38<19:44,  1.42s/it]"
     ]
    },
    {
     "name": "stdout",
     "output_type": "stream",
     "text": [
      "Episode 166/1000 | Reward: -9.40 | Win Rate: 0.02 | 🏆 Winner: WeakerPlayerAttacker\n"
     ]
    },
    {
     "name": "stderr",
     "output_type": "stream",
     "text": [
      "Episode:  17%|█▋        | 167/1000 [08:41<24:28,  1.76s/it]"
     ]
    },
    {
     "name": "stdout",
     "output_type": "stream",
     "text": [
      "Episode 167/1000 | Reward: -4.04 | Win Rate: 0.02 | 🏆 Winner: WeakerPlayerAttacker\n"
     ]
    },
    {
     "name": "stderr",
     "output_type": "stream",
     "text": [
      "Episode:  17%|█▋        | 168/1000 [08:44<30:39,  2.21s/it]"
     ]
    },
    {
     "name": "stdout",
     "output_type": "stream",
     "text": [
      "Episode 168/1000 | Reward: -4.08 | Win Rate: 0.02 | 🏆 Winner: WeakerPlayerAttacker\n"
     ]
    },
    {
     "name": "stderr",
     "output_type": "stream",
     "text": [
      "Episode:  17%|█▋        | 169/1000 [08:46<31:33,  2.28s/it]"
     ]
    },
    {
     "name": "stdout",
     "output_type": "stream",
     "text": [
      "Episode 169/1000 | Reward: -2.88 | Win Rate: 0.02 | 🏆 Winner: WeakerPlayerAttacker\n"
     ]
    },
    {
     "name": "stderr",
     "output_type": "stream",
     "text": [
      "Episode:  17%|█▋        | 170/1000 [08:49<34:55,  2.52s/it]"
     ]
    },
    {
     "name": "stdout",
     "output_type": "stream",
     "text": [
      "Episode 170/1000 | Reward: -7.56 | Win Rate: 0.02 | 🏆 Winner: WeakerPlayerAttacker\n"
     ]
    },
    {
     "name": "stderr",
     "output_type": "stream",
     "text": [
      "Episode:  17%|█▋        | 171/1000 [08:51<32:17,  2.34s/it]"
     ]
    },
    {
     "name": "stdout",
     "output_type": "stream",
     "text": [
      "Episode 171/1000 | Reward: -5.44 | Win Rate: 0.02 | 🏆 Winner: WeakerPlayerAttacker\n"
     ]
    },
    {
     "name": "stderr",
     "output_type": "stream",
     "text": [
      "Episode:  17%|█▋        | 172/1000 [08:53<28:03,  2.03s/it]"
     ]
    },
    {
     "name": "stdout",
     "output_type": "stream",
     "text": [
      "Episode 172/1000 | Reward: -8.00 | Win Rate: 0.02 | 🏆 Winner: WeakerPlayerAttacker\n"
     ]
    },
    {
     "name": "stderr",
     "output_type": "stream",
     "text": [
      "Episode:  17%|█▋        | 173/1000 [08:54<25:09,  1.83s/it]"
     ]
    },
    {
     "name": "stdout",
     "output_type": "stream",
     "text": [
      "Episode 173/1000 | Reward: -6.76 | Win Rate: 0.02 | 🏆 Winner: WeakerPlayerAttacker\n"
     ]
    },
    {
     "name": "stderr",
     "output_type": "stream",
     "text": [
      "Episode:  17%|█▋        | 174/1000 [08:57<32:22,  2.35s/it]"
     ]
    },
    {
     "name": "stdout",
     "output_type": "stream",
     "text": [
      "Episode 174/1000 | Reward: -1.48 | Win Rate: 0.02 | 🏆 Winner: WeakerPlayerAttacker\n"
     ]
    },
    {
     "name": "stderr",
     "output_type": "stream",
     "text": [
      "Episode:  18%|█▊        | 175/1000 [09:01<36:24,  2.65s/it]"
     ]
    },
    {
     "name": "stdout",
     "output_type": "stream",
     "text": [
      "Episode 175/1000 | Reward: -0.24 | Win Rate: 0.02 | 🏆 Winner: WeakerPlayerAttacker\n"
     ]
    },
    {
     "name": "stderr",
     "output_type": "stream",
     "text": [
      "Episode:  18%|█▊        | 176/1000 [09:01<28:13,  2.05s/it]"
     ]
    },
    {
     "name": "stdout",
     "output_type": "stream",
     "text": [
      "Episode 176/1000 | Reward: -9.68 | Win Rate: 0.02 | 🏆 Winner: WeakerPlayerAttacker\n"
     ]
    },
    {
     "name": "stderr",
     "output_type": "stream",
     "text": [
      "Episode:  18%|█▊        | 177/1000 [09:05<32:07,  2.34s/it]"
     ]
    },
    {
     "name": "stdout",
     "output_type": "stream",
     "text": [
      "Episode 177/1000 | Reward: -3.64 | Win Rate: 0.02 | 🏆 Winner: WeakerPlayerAttacker\n"
     ]
    },
    {
     "name": "stderr",
     "output_type": "stream",
     "text": [
      "Episode:  18%|█▊        | 178/1000 [09:06<27:39,  2.02s/it]"
     ]
    },
    {
     "name": "stdout",
     "output_type": "stream",
     "text": [
      "Episode 178/1000 | Reward: -8.56 | Win Rate: 0.02 | 🏆 Winner: WeakerPlayerAttacker\n"
     ]
    },
    {
     "name": "stderr",
     "output_type": "stream",
     "text": [
      "Episode:  18%|█▊        | 179/1000 [09:07<25:43,  1.88s/it]"
     ]
    },
    {
     "name": "stdout",
     "output_type": "stream",
     "text": [
      "Episode 179/1000 | Reward: -6.36 | Win Rate: 0.02 | 🏆 Winner: WeakerPlayerAttacker\n"
     ]
    },
    {
     "name": "stderr",
     "output_type": "stream",
     "text": [
      "Episode:  18%|█▊        | 180/1000 [09:10<28:52,  2.11s/it]"
     ]
    },
    {
     "name": "stdout",
     "output_type": "stream",
     "text": [
      "Episode 180/1000 | Reward: -4.00 | Win Rate: 0.02 | 🏆 Winner: WeakerPlayerAttacker\n",
      "[MODEL] Salvato in: ./saved_models/dicewars_rl_model_new.keras\n"
     ]
    },
    {
     "name": "stderr",
     "output_type": "stream",
     "text": [
      "Episode:  18%|█▊        | 181/1000 [09:11<25:17,  1.85s/it]"
     ]
    },
    {
     "name": "stdout",
     "output_type": "stream",
     "text": [
      "Episode 181/1000 | Reward: -8.36 | Win Rate: 0.02 | 🏆 Winner: WeakerPlayerAttacker\n"
     ]
    },
    {
     "name": "stderr",
     "output_type": "stream",
     "text": [
      "Episode:  18%|█▊        | 182/1000 [09:13<24:49,  1.82s/it]"
     ]
    },
    {
     "name": "stdout",
     "output_type": "stream",
     "text": [
      "Episode 182/1000 | Reward: -5.92 | Win Rate: 0.02 | 🏆 Winner: WeakerPlayerAttacker\n"
     ]
    },
    {
     "name": "stderr",
     "output_type": "stream",
     "text": [
      "Episode:  18%|█▊        | 183/1000 [09:16<28:23,  2.08s/it]"
     ]
    },
    {
     "name": "stdout",
     "output_type": "stream",
     "text": [
      "Episode 183/1000 | Reward: -1.60 | Win Rate: 0.02 | 🏆 Winner: WeakerPlayerAttacker\n"
     ]
    },
    {
     "name": "stderr",
     "output_type": "stream",
     "text": [
      "Episode:  18%|█▊        | 184/1000 [09:24<55:50,  4.11s/it]"
     ]
    },
    {
     "name": "stdout",
     "output_type": "stream",
     "text": [
      "Episode 184/1000 | Reward: 13.40 | Win Rate: 0.02 | 🏆 Winner: WeakerPlayerAttacker\n"
     ]
    },
    {
     "name": "stderr",
     "output_type": "stream",
     "text": [
      "Episode:  18%|█▊        | 185/1000 [09:26<46:51,  3.45s/it]"
     ]
    },
    {
     "name": "stdout",
     "output_type": "stream",
     "text": [
      "Episode 185/1000 | Reward: -7.08 | Win Rate: 0.02 | 🏆 Winner: WeakerPlayerAttacker\n"
     ]
    },
    {
     "name": "stderr",
     "output_type": "stream",
     "text": [
      "Episode:  19%|█▊        | 186/1000 [09:29<44:11,  3.26s/it]"
     ]
    },
    {
     "name": "stdout",
     "output_type": "stream",
     "text": [
      "Episode 186/1000 | Reward: -6.36 | Win Rate: 0.02 | 🏆 Winner: WeakerPlayerAttacker\n"
     ]
    },
    {
     "name": "stderr",
     "output_type": "stream",
     "text": [
      "Episode:  19%|█▊        | 187/1000 [09:30<34:12,  2.52s/it]"
     ]
    },
    {
     "name": "stdout",
     "output_type": "stream",
     "text": [
      "Episode 187/1000 | Reward: -9.64 | Win Rate: 0.02 | 🏆 Winner: WeakerPlayerAttacker\n"
     ]
    },
    {
     "name": "stderr",
     "output_type": "stream",
     "text": [
      "Episode:  19%|█▉        | 188/1000 [09:31<29:12,  2.16s/it]"
     ]
    },
    {
     "name": "stdout",
     "output_type": "stream",
     "text": [
      "Episode 188/1000 | Reward: -9.28 | Win Rate: 0.02 | 🏆 Winner: WeakerPlayerAttacker\n"
     ]
    },
    {
     "name": "stderr",
     "output_type": "stream",
     "text": [
      "Episode:  19%|█▉        | 189/1000 [09:37<44:30,  3.29s/it]"
     ]
    },
    {
     "name": "stdout",
     "output_type": "stream",
     "text": [
      "Episode 189/1000 | Reward: 8.80 | Win Rate: 0.02 | 🏆 Winner: WeakerPlayerAttacker\n"
     ]
    },
    {
     "name": "stderr",
     "output_type": "stream",
     "text": [
      "Episode:  19%|█▉        | 190/1000 [09:40<40:21,  2.99s/it]"
     ]
    },
    {
     "name": "stdout",
     "output_type": "stream",
     "text": [
      "Episode 190/1000 | Reward: -6.12 | Win Rate: 0.02 | 🏆 Winner: WeakerPlayerAttacker\n"
     ]
    },
    {
     "name": "stderr",
     "output_type": "stream",
     "text": [
      "Episode:  19%|█▉        | 191/1000 [09:43<44:01,  3.27s/it]"
     ]
    },
    {
     "name": "stdout",
     "output_type": "stream",
     "text": [
      "Episode 191/1000 | Reward: -0.32 | Win Rate: 0.02 | 🏆 Winner: WeakerPlayerAttacker\n"
     ]
    },
    {
     "name": "stderr",
     "output_type": "stream",
     "text": [
      "Episode:  19%|█▉        | 192/1000 [09:45<35:10,  2.61s/it]"
     ]
    },
    {
     "name": "stdout",
     "output_type": "stream",
     "text": [
      "Episode 192/1000 | Reward: -7.84 | Win Rate: 0.02 | 🏆 Winner: WeakerPlayerAttacker\n"
     ]
    },
    {
     "name": "stderr",
     "output_type": "stream",
     "text": [
      "Episode:  19%|█▉        | 193/1000 [09:47<35:22,  2.63s/it]"
     ]
    },
    {
     "name": "stdout",
     "output_type": "stream",
     "text": [
      "Episode 193/1000 | Reward: -3.56 | Win Rate: 0.02 | 🏆 Winner: WeakerPlayerAttacker\n"
     ]
    },
    {
     "name": "stderr",
     "output_type": "stream",
     "text": [
      "Episode:  19%|█▉        | 194/1000 [09:48<27:11,  2.02s/it]"
     ]
    },
    {
     "name": "stdout",
     "output_type": "stream",
     "text": [
      "Episode 194/1000 | Reward: -8.76 | Win Rate: 0.02 | 🏆 Winner: WeakerPlayerAttacker\n"
     ]
    },
    {
     "name": "stderr",
     "output_type": "stream",
     "text": [
      "Episode:  20%|█▉        | 195/1000 [09:51<32:09,  2.40s/it]"
     ]
    },
    {
     "name": "stdout",
     "output_type": "stream",
     "text": [
      "Episode 195/1000 | Reward: -1.24 | Win Rate: 0.02 | 🏆 Winner: WeakerPlayerAttacker\n"
     ]
    },
    {
     "name": "stderr",
     "output_type": "stream",
     "text": [
      "Episode:  20%|█▉        | 196/1000 [09:54<33:12,  2.48s/it]"
     ]
    },
    {
     "name": "stdout",
     "output_type": "stream",
     "text": [
      "Episode 196/1000 | Reward: -4.32 | Win Rate: 0.02 | 🏆 Winner: WeakerPlayerAttacker\n"
     ]
    },
    {
     "name": "stderr",
     "output_type": "stream",
     "text": [
      "Episode:  20%|█▉        | 197/1000 [09:55<28:51,  2.16s/it]"
     ]
    },
    {
     "name": "stdout",
     "output_type": "stream",
     "text": [
      "Episode 197/1000 | Reward: -7.76 | Win Rate: 0.02 | 🏆 Winner: WeakerPlayerAttacker\n"
     ]
    },
    {
     "name": "stderr",
     "output_type": "stream",
     "text": [
      "Episode:  20%|█▉        | 198/1000 [09:57<25:42,  1.92s/it]"
     ]
    },
    {
     "name": "stdout",
     "output_type": "stream",
     "text": [
      "Episode 198/1000 | Reward: -6.96 | Win Rate: 0.02 | 🏆 Winner: WeakerPlayerAttacker\n"
     ]
    },
    {
     "name": "stderr",
     "output_type": "stream",
     "text": [
      "Episode:  20%|█▉        | 199/1000 [09:59<27:08,  2.03s/it]"
     ]
    },
    {
     "name": "stdout",
     "output_type": "stream",
     "text": [
      "Episode 199/1000 | Reward: -4.76 | Win Rate: 0.02 | 🏆 Winner: WeakerPlayerAttacker\n",
      "Episode 200/1000 | Reward: -7.12 | Win Rate: 0.02 | 🏆 Winner: WeakerPlayerAttacker\n"
     ]
    },
    {
     "name": "stderr",
     "output_type": "stream",
     "text": [
      "Episode:  20%|██        | 200/1000 [10:26<2:08:14,  9.62s/it]"
     ]
    },
    {
     "name": "stdout",
     "output_type": "stream",
     "text": [
      "🎯 Evaluation match win rate (no epsilon): 0.00\n"
     ]
    },
    {
     "name": "stderr",
     "output_type": "stream",
     "text": [
      "Episode:  20%|██        | 201/1000 [10:28<1:36:08,  7.22s/it]"
     ]
    },
    {
     "name": "stdout",
     "output_type": "stream",
     "text": [
      "Episode 201/1000 | Reward: -7.40 | Win Rate: 0.02 | 🏆 Winner: WeakerPlayerAttacker\n"
     ]
    },
    {
     "name": "stderr",
     "output_type": "stream",
     "text": [
      "Episode:  20%|██        | 202/1000 [10:31<1:20:32,  6.06s/it]"
     ]
    },
    {
     "name": "stdout",
     "output_type": "stream",
     "text": [
      "Episode 202/1000 | Reward: -3.64 | Win Rate: 0.02 | 🏆 Winner: WeakerPlayerAttacker\n"
     ]
    },
    {
     "name": "stderr",
     "output_type": "stream",
     "text": [
      "Episode:  20%|██        | 203/1000 [10:36<1:14:33,  5.61s/it]"
     ]
    },
    {
     "name": "stdout",
     "output_type": "stream",
     "text": [
      "Episode 203/1000 | Reward: -0.80 | Win Rate: 0.00 | 🏆 Winner: WeakerPlayerAttacker\n"
     ]
    },
    {
     "name": "stderr",
     "output_type": "stream",
     "text": [
      "Episode:  20%|██        | 204/1000 [10:40<1:08:04,  5.13s/it]"
     ]
    },
    {
     "name": "stdout",
     "output_type": "stream",
     "text": [
      "Episode 204/1000 | Reward: 0.68 | Win Rate: 0.00 | 🏆 Winner: WeakerPlayerAttacker\n"
     ]
    },
    {
     "name": "stderr",
     "output_type": "stream",
     "text": [
      "Episode:  20%|██        | 205/1000 [10:43<1:01:51,  4.67s/it]"
     ]
    },
    {
     "name": "stdout",
     "output_type": "stream",
     "text": [
      "Episode 205/1000 | Reward: -0.36 | Win Rate: 0.00 | 🏆 Winner: WeakerPlayerAttacker\n"
     ]
    },
    {
     "name": "stderr",
     "output_type": "stream",
     "text": [
      "Episode:  21%|██        | 206/1000 [10:47<59:19,  4.48s/it]  "
     ]
    },
    {
     "name": "stdout",
     "output_type": "stream",
     "text": [
      "Episode 206/1000 | Reward: 0.48 | Win Rate: 0.00 | 🏆 Winner: WeakerPlayerAttacker\n"
     ]
    },
    {
     "name": "stderr",
     "output_type": "stream",
     "text": [
      "Episode:  21%|██        | 207/1000 [10:49<47:36,  3.60s/it]"
     ]
    },
    {
     "name": "stdout",
     "output_type": "stream",
     "text": [
      "Episode 207/1000 | Reward: -6.64 | Win Rate: 0.00 | 🏆 Winner: WeakerPlayerAttacker\n"
     ]
    },
    {
     "name": "stderr",
     "output_type": "stream",
     "text": [
      "Episode:  21%|██        | 208/1000 [10:52<44:24,  3.36s/it]"
     ]
    },
    {
     "name": "stdout",
     "output_type": "stream",
     "text": [
      "Episode 208/1000 | Reward: -3.20 | Win Rate: 0.00 | 🏆 Winner: WeakerPlayerAttacker\n"
     ]
    },
    {
     "name": "stderr",
     "output_type": "stream",
     "text": [
      "Episode:  21%|██        | 209/1000 [10:54<39:23,  2.99s/it]"
     ]
    },
    {
     "name": "stdout",
     "output_type": "stream",
     "text": [
      "Episode 209/1000 | Reward: -4.04 | Win Rate: 0.00 | 🏆 Winner: WeakerPlayerAttacker\n"
     ]
    },
    {
     "name": "stderr",
     "output_type": "stream",
     "text": [
      "Episode:  21%|██        | 210/1000 [10:56<37:06,  2.82s/it]"
     ]
    },
    {
     "name": "stdout",
     "output_type": "stream",
     "text": [
      "Episode 210/1000 | Reward: -5.68 | Win Rate: 0.00 | 🏆 Winner: WeakerPlayerAttacker\n",
      "[MODEL] Salvato in: ./saved_models/dicewars_rl_model_new.keras\n"
     ]
    },
    {
     "name": "stderr",
     "output_type": "stream",
     "text": [
      "Episode:  21%|██        | 211/1000 [10:58<31:57,  2.43s/it]"
     ]
    },
    {
     "name": "stdout",
     "output_type": "stream",
     "text": [
      "Episode 211/1000 | Reward: -7.48 | Win Rate: 0.00 | 🏆 Winner: WeakerPlayerAttacker\n"
     ]
    },
    {
     "name": "stderr",
     "output_type": "stream",
     "text": [
      "Episode:  21%|██        | 212/1000 [11:00<32:08,  2.45s/it]"
     ]
    },
    {
     "name": "stdout",
     "output_type": "stream",
     "text": [
      "Episode 212/1000 | Reward: -5.56 | Win Rate: 0.00 | 🏆 Winner: WeakerPlayerAttacker\n"
     ]
    },
    {
     "name": "stderr",
     "output_type": "stream",
     "text": [
      "Episode:  21%|██▏       | 213/1000 [11:03<31:42,  2.42s/it]"
     ]
    },
    {
     "name": "stdout",
     "output_type": "stream",
     "text": [
      "Episode 213/1000 | Reward: -3.88 | Win Rate: 0.00 | 🏆 Winner: WeakerPlayerAttacker\n"
     ]
    },
    {
     "name": "stderr",
     "output_type": "stream",
     "text": [
      "Episode:  21%|██▏       | 214/1000 [11:04<25:42,  1.96s/it]"
     ]
    },
    {
     "name": "stdout",
     "output_type": "stream",
     "text": [
      "Episode 214/1000 | Reward: -9.40 | Win Rate: 0.00 | 🏆 Winner: WeakerPlayerAttacker\n"
     ]
    },
    {
     "name": "stderr",
     "output_type": "stream",
     "text": [
      "Episode:  22%|██▏       | 215/1000 [11:05<23:40,  1.81s/it]"
     ]
    },
    {
     "name": "stdout",
     "output_type": "stream",
     "text": [
      "Episode 215/1000 | Reward: -7.60 | Win Rate: 0.00 | 🏆 Winner: WeakerPlayerAttacker\n"
     ]
    },
    {
     "name": "stderr",
     "output_type": "stream",
     "text": [
      "Episode:  22%|██▏       | 216/1000 [11:07<24:30,  1.88s/it]"
     ]
    },
    {
     "name": "stdout",
     "output_type": "stream",
     "text": [
      "Episode 216/1000 | Reward: -6.04 | Win Rate: 0.00 | 🏆 Winner: WeakerPlayerAttacker\n"
     ]
    },
    {
     "name": "stderr",
     "output_type": "stream",
     "text": [
      "Episode:  22%|██▏       | 217/1000 [11:10<29:44,  2.28s/it]"
     ]
    },
    {
     "name": "stdout",
     "output_type": "stream",
     "text": [
      "Episode 217/1000 | Reward: -2.28 | Win Rate: 0.00 | 🏆 Winner: WeakerPlayerAttacker\n"
     ]
    },
    {
     "name": "stderr",
     "output_type": "stream",
     "text": [
      "Episode:  22%|██▏       | 218/1000 [11:12<29:45,  2.28s/it]"
     ]
    },
    {
     "name": "stdout",
     "output_type": "stream",
     "text": [
      "Episode 218/1000 | Reward: -4.24 | Win Rate: 0.00 | 🏆 Winner: WeakerPlayerAttacker\n"
     ]
    },
    {
     "name": "stderr",
     "output_type": "stream",
     "text": [
      "Episode:  22%|██▏       | 219/1000 [11:15<31:00,  2.38s/it]"
     ]
    },
    {
     "name": "stdout",
     "output_type": "stream",
     "text": [
      "Episode 219/1000 | Reward: -5.52 | Win Rate: 0.00 | 🏆 Winner: WeakerPlayerAttacker\n"
     ]
    },
    {
     "name": "stderr",
     "output_type": "stream",
     "text": [
      "Episode:  22%|██▏       | 220/1000 [11:18<33:43,  2.59s/it]"
     ]
    },
    {
     "name": "stdout",
     "output_type": "stream",
     "text": [
      "Episode 220/1000 | Reward: -3.88 | Win Rate: 0.00 | 🏆 Winner: WeakerPlayerAttacker\n"
     ]
    },
    {
     "name": "stderr",
     "output_type": "stream",
     "text": [
      "Episode:  22%|██▏       | 221/1000 [11:22<39:51,  3.07s/it]"
     ]
    },
    {
     "name": "stdout",
     "output_type": "stream",
     "text": [
      "Episode 221/1000 | Reward: 1.48 | Win Rate: 0.00 | 🏆 Winner: WeakerPlayerAttacker\n"
     ]
    },
    {
     "name": "stderr",
     "output_type": "stream",
     "text": [
      "Episode:  22%|██▏       | 222/1000 [11:24<35:35,  2.75s/it]"
     ]
    },
    {
     "name": "stdout",
     "output_type": "stream",
     "text": [
      "Episode 222/1000 | Reward: -6.00 | Win Rate: 0.00 | 🏆 Winner: WeakerPlayerAttacker\n"
     ]
    },
    {
     "name": "stderr",
     "output_type": "stream",
     "text": [
      "Episode:  22%|██▏       | 223/1000 [11:27<34:25,  2.66s/it]"
     ]
    },
    {
     "name": "stdout",
     "output_type": "stream",
     "text": [
      "Episode 223/1000 | Reward: -5.40 | Win Rate: 0.00 | 🏆 Winner: WeakerPlayerAttacker\n"
     ]
    },
    {
     "name": "stderr",
     "output_type": "stream",
     "text": [
      "Episode:  22%|██▏       | 224/1000 [11:28<28:35,  2.21s/it]"
     ]
    },
    {
     "name": "stdout",
     "output_type": "stream",
     "text": [
      "Episode 224/1000 | Reward: -7.96 | Win Rate: 0.00 | 🏆 Winner: WeakerPlayerAttacker\n"
     ]
    },
    {
     "name": "stderr",
     "output_type": "stream",
     "text": [
      "Episode:  22%|██▎       | 225/1000 [11:31<32:52,  2.54s/it]"
     ]
    },
    {
     "name": "stdout",
     "output_type": "stream",
     "text": [
      "Episode 225/1000 | Reward: -2.08 | Win Rate: 0.00 | 🏆 Winner: WeakerPlayerAttacker\n"
     ]
    },
    {
     "name": "stderr",
     "output_type": "stream",
     "text": [
      "Episode:  23%|██▎       | 226/1000 [11:34<34:40,  2.69s/it]"
     ]
    },
    {
     "name": "stdout",
     "output_type": "stream",
     "text": [
      "Episode 226/1000 | Reward: -2.12 | Win Rate: 0.00 | 🏆 Winner: WeakerPlayerAttacker\n"
     ]
    },
    {
     "name": "stderr",
     "output_type": "stream",
     "text": [
      "Episode:  23%|██▎       | 227/1000 [11:37<34:41,  2.69s/it]"
     ]
    },
    {
     "name": "stdout",
     "output_type": "stream",
     "text": [
      "Episode 227/1000 | Reward: -5.44 | Win Rate: 0.00 | 🏆 Winner: WeakerPlayerAttacker\n"
     ]
    },
    {
     "name": "stderr",
     "output_type": "stream",
     "text": [
      "Episode:  23%|██▎       | 228/1000 [11:39<31:40,  2.46s/it]"
     ]
    },
    {
     "name": "stdout",
     "output_type": "stream",
     "text": [
      "Episode 228/1000 | Reward: -4.96 | Win Rate: 0.00 | 🏆 Winner: WeakerPlayerAttacker\n"
     ]
    },
    {
     "name": "stderr",
     "output_type": "stream",
     "text": [
      "Episode:  23%|██▎       | 229/1000 [11:43<36:53,  2.87s/it]"
     ]
    },
    {
     "name": "stdout",
     "output_type": "stream",
     "text": [
      "Episode 229/1000 | Reward: 0.44 | Win Rate: 0.00 | 🏆 Winner: WeakerPlayerAttacker\n"
     ]
    },
    {
     "name": "stderr",
     "output_type": "stream",
     "text": [
      "Episode:  23%|██▎       | 230/1000 [11:58<1:25:12,  6.64s/it]"
     ]
    },
    {
     "name": "stdout",
     "output_type": "stream",
     "text": [
      "Episode 230/1000 | Reward: -6.84 | Win Rate: 0.00 | 🏆 Winner: WeakerPlayerAttacker\n"
     ]
    },
    {
     "name": "stderr",
     "output_type": "stream",
     "text": [
      "Episode:  23%|██▎       | 231/1000 [12:00<1:08:16,  5.33s/it]"
     ]
    },
    {
     "name": "stdout",
     "output_type": "stream",
     "text": [
      "Episode 231/1000 | Reward: -3.44 | Win Rate: 0.00 | 🏆 Winner: WeakerPlayerAttacker\n"
     ]
    },
    {
     "name": "stderr",
     "output_type": "stream",
     "text": [
      "Episode:  23%|██▎       | 232/1000 [12:02<53:12,  4.16s/it]  "
     ]
    },
    {
     "name": "stdout",
     "output_type": "stream",
     "text": [
      "Episode 232/1000 | Reward: -8.00 | Win Rate: 0.00 | 🏆 Winner: WeakerPlayerAttacker\n"
     ]
    },
    {
     "name": "stderr",
     "output_type": "stream",
     "text": [
      "Episode:  23%|██▎       | 233/1000 [12:04<45:33,  3.56s/it]"
     ]
    },
    {
     "name": "stdout",
     "output_type": "stream",
     "text": [
      "Episode 233/1000 | Reward: -4.52 | Win Rate: 0.00 | 🏆 Winner: WeakerPlayerAttacker\n"
     ]
    },
    {
     "name": "stderr",
     "output_type": "stream",
     "text": [
      "Episode:  23%|██▎       | 234/1000 [12:07<41:28,  3.25s/it]"
     ]
    },
    {
     "name": "stdout",
     "output_type": "stream",
     "text": [
      "Episode 234/1000 | Reward: -6.96 | Win Rate: 0.00 | 🏆 Winner: WeakerPlayerAttacker\n"
     ]
    },
    {
     "name": "stderr",
     "output_type": "stream",
     "text": [
      "Episode:  24%|██▎       | 235/1000 [12:08<34:33,  2.71s/it]"
     ]
    },
    {
     "name": "stdout",
     "output_type": "stream",
     "text": [
      "Episode 235/1000 | Reward: -8.04 | Win Rate: 0.00 | 🏆 Winner: WeakerPlayerAttacker\n"
     ]
    },
    {
     "name": "stderr",
     "output_type": "stream",
     "text": [
      "Episode:  24%|██▎       | 236/1000 [12:11<34:48,  2.73s/it]"
     ]
    },
    {
     "name": "stdout",
     "output_type": "stream",
     "text": [
      "Episode 236/1000 | Reward: -2.76 | Win Rate: 0.00 | 🏆 Winner: WeakerPlayerAttacker\n"
     ]
    },
    {
     "name": "stderr",
     "output_type": "stream",
     "text": [
      "Episode:  24%|██▎       | 237/1000 [12:13<33:26,  2.63s/it]"
     ]
    },
    {
     "name": "stdout",
     "output_type": "stream",
     "text": [
      "Episode 237/1000 | Reward: -8.44 | Win Rate: 0.00 | 🏆 Winner: WeakerPlayerAttacker\n"
     ]
    },
    {
     "name": "stderr",
     "output_type": "stream",
     "text": [
      "Episode:  24%|██▍       | 238/1000 [12:17<36:49,  2.90s/it]"
     ]
    },
    {
     "name": "stdout",
     "output_type": "stream",
     "text": [
      "Episode 238/1000 | Reward: -8.88 | Win Rate: 0.00 | 🏆 Winner: WeakerPlayerAttacker\n"
     ]
    },
    {
     "name": "stderr",
     "output_type": "stream",
     "text": [
      "Episode:  24%|██▍       | 239/1000 [12:19<34:15,  2.70s/it]"
     ]
    },
    {
     "name": "stdout",
     "output_type": "stream",
     "text": [
      "Episode 239/1000 | Reward: -9.72 | Win Rate: 0.00 | 🏆 Winner: WeakerPlayerAttacker\n"
     ]
    },
    {
     "name": "stderr",
     "output_type": "stream",
     "text": [
      "Episode:  24%|██▍       | 240/1000 [12:21<30:48,  2.43s/it]"
     ]
    },
    {
     "name": "stdout",
     "output_type": "stream",
     "text": [
      "Episode 240/1000 | Reward: -7.16 | Win Rate: 0.00 | 🏆 Winner: WeakerPlayerAttacker\n",
      "[MODEL] Salvato in: ./saved_models/dicewars_rl_model_new.keras\n"
     ]
    },
    {
     "name": "stderr",
     "output_type": "stream",
     "text": [
      "Episode:  24%|██▍       | 241/1000 [12:24<31:49,  2.52s/it]"
     ]
    },
    {
     "name": "stdout",
     "output_type": "stream",
     "text": [
      "Episode 241/1000 | Reward: -2.76 | Win Rate: 0.00 | 🏆 Winner: WeakerPlayerAttacker\n"
     ]
    },
    {
     "name": "stderr",
     "output_type": "stream",
     "text": [
      "Episode:  24%|██▍       | 242/1000 [12:26<30:46,  2.44s/it]"
     ]
    },
    {
     "name": "stdout",
     "output_type": "stream",
     "text": [
      "Episode 242/1000 | Reward: -3.92 | Win Rate: 0.00 | 🏆 Winner: WeakerPlayerAttacker\n"
     ]
    },
    {
     "name": "stderr",
     "output_type": "stream",
     "text": [
      "Episode:  24%|██▍       | 243/1000 [12:36<59:03,  4.68s/it]"
     ]
    },
    {
     "name": "stdout",
     "output_type": "stream",
     "text": [
      "Episode 243/1000 | Reward: 20.16 | Win Rate: 0.00 | 🏆 Winner: WeakerPlayerAttacker\n"
     ]
    },
    {
     "name": "stderr",
     "output_type": "stream",
     "text": [
      "Episode:  24%|██▍       | 244/1000 [12:37<46:46,  3.71s/it]"
     ]
    },
    {
     "name": "stdout",
     "output_type": "stream",
     "text": [
      "Episode 244/1000 | Reward: -7.68 | Win Rate: 0.00 | 🏆 Winner: WeakerPlayerAttacker\n"
     ]
    },
    {
     "name": "stderr",
     "output_type": "stream",
     "text": [
      "Episode:  24%|██▍       | 245/1000 [12:38<37:48,  3.00s/it]"
     ]
    },
    {
     "name": "stdout",
     "output_type": "stream",
     "text": [
      "Episode 245/1000 | Reward: -6.88 | Win Rate: 0.00 | 🏆 Winner: WeakerPlayerAttacker\n"
     ]
    },
    {
     "name": "stderr",
     "output_type": "stream",
     "text": [
      "Episode:  25%|██▍       | 246/1000 [12:41<34:58,  2.78s/it]"
     ]
    },
    {
     "name": "stdout",
     "output_type": "stream",
     "text": [
      "Episode 246/1000 | Reward: -5.64 | Win Rate: 0.00 | 🏆 Winner: WeakerPlayerAttacker\n"
     ]
    },
    {
     "name": "stderr",
     "output_type": "stream",
     "text": [
      "Episode:  25%|██▍       | 247/1000 [12:43<32:23,  2.58s/it]"
     ]
    },
    {
     "name": "stdout",
     "output_type": "stream",
     "text": [
      "Episode 247/1000 | Reward: -7.04 | Win Rate: 0.00 | 🏆 Winner: WeakerPlayerAttacker\n"
     ]
    },
    {
     "name": "stderr",
     "output_type": "stream",
     "text": [
      "Episode:  25%|██▍       | 248/1000 [12:44<27:58,  2.23s/it]"
     ]
    },
    {
     "name": "stdout",
     "output_type": "stream",
     "text": [
      "Episode 248/1000 | Reward: -8.12 | Win Rate: 0.00 | 🏆 Winner: WeakerPlayerAttacker\n"
     ]
    },
    {
     "name": "stderr",
     "output_type": "stream",
     "text": [
      "Episode:  25%|██▍       | 249/1000 [12:47<30:47,  2.46s/it]"
     ]
    },
    {
     "name": "stdout",
     "output_type": "stream",
     "text": [
      "Episode 249/1000 | Reward: -6.04 | Win Rate: 0.00 | 🏆 Winner: WeakerPlayerAttacker\n",
      "Episode 250/1000 | Reward: -5.08 | Win Rate: 0.00 | 🏆 Winner: WeakerPlayerAttacker\n"
     ]
    },
    {
     "name": "stderr",
     "output_type": "stream",
     "text": [
      "Episode:  25%|██▌       | 250/1000 [13:20<2:22:41, 11.41s/it]"
     ]
    },
    {
     "name": "stdout",
     "output_type": "stream",
     "text": [
      "🎯 Evaluation match win rate (no epsilon): 0.10\n"
     ]
    },
    {
     "name": "stderr",
     "output_type": "stream",
     "text": [
      "Episode:  25%|██▌       | 251/1000 [13:22<1:49:12,  8.75s/it]"
     ]
    },
    {
     "name": "stdout",
     "output_type": "stream",
     "text": [
      "Episode 251/1000 | Reward: -4.04 | Win Rate: 0.00 | 🏆 Winner: WeakerPlayerAttacker\n"
     ]
    },
    {
     "name": "stderr",
     "output_type": "stream",
     "text": [
      "Episode:  25%|██▌       | 252/1000 [13:25<1:25:34,  6.86s/it]"
     ]
    },
    {
     "name": "stdout",
     "output_type": "stream",
     "text": [
      "Episode 252/1000 | Reward: -5.28 | Win Rate: 0.00 | 🏆 Winner: WeakerPlayerAttacker\n"
     ]
    },
    {
     "name": "stderr",
     "output_type": "stream",
     "text": [
      "Episode:  25%|██▌       | 253/1000 [13:27<1:09:49,  5.61s/it]"
     ]
    },
    {
     "name": "stdout",
     "output_type": "stream",
     "text": [
      "Episode 253/1000 | Reward: -2.04 | Win Rate: 0.00 | 🏆 Winner: WeakerPlayerAttacker\n"
     ]
    },
    {
     "name": "stderr",
     "output_type": "stream",
     "text": [
      "Episode:  25%|██▌       | 254/1000 [13:31<1:02:03,  4.99s/it]"
     ]
    },
    {
     "name": "stdout",
     "output_type": "stream",
     "text": [
      "Episode 254/1000 | Reward: -9.48 | Win Rate: 0.00 | 🏆 Winner: WeakerPlayerAttacker\n"
     ]
    },
    {
     "name": "stderr",
     "output_type": "stream",
     "text": [
      "Episode:  26%|██▌       | 255/1000 [13:32<49:06,  3.96s/it]  "
     ]
    },
    {
     "name": "stdout",
     "output_type": "stream",
     "text": [
      "Episode 255/1000 | Reward: -7.96 | Win Rate: 0.00 | 🏆 Winner: WeakerPlayerAttacker\n"
     ]
    },
    {
     "name": "stderr",
     "output_type": "stream",
     "text": [
      "Episode:  26%|██▌       | 256/1000 [13:35<42:46,  3.45s/it]"
     ]
    },
    {
     "name": "stdout",
     "output_type": "stream",
     "text": [
      "Episode 256/1000 | Reward: -5.84 | Win Rate: 0.00 | 🏆 Winner: WeakerPlayerAttacker\n"
     ]
    },
    {
     "name": "stderr",
     "output_type": "stream",
     "text": [
      "Episode:  26%|██▌       | 257/1000 [13:36<34:21,  2.77s/it]"
     ]
    },
    {
     "name": "stdout",
     "output_type": "stream",
     "text": [
      "Episode 257/1000 | Reward: -8.20 | Win Rate: 0.00 | 🏆 Winner: WeakerPlayerAttacker\n"
     ]
    },
    {
     "name": "stderr",
     "output_type": "stream",
     "text": [
      "Episode:  26%|██▌       | 258/1000 [13:50<1:18:13,  6.33s/it]"
     ]
    },
    {
     "name": "stdout",
     "output_type": "stream",
     "text": [
      "Episode 258/1000 | Reward: 81.76 | Win Rate: 0.02 | 🏆 Winner: RLDicewarsAgent\n"
     ]
    },
    {
     "name": "stderr",
     "output_type": "stream",
     "text": [
      "Episode:  26%|██▌       | 259/1000 [13:52<59:14,  4.80s/it]  "
     ]
    },
    {
     "name": "stdout",
     "output_type": "stream",
     "text": [
      "Episode 259/1000 | Reward: -8.28 | Win Rate: 0.02 | 🏆 Winner: WeakerPlayerAttacker\n"
     ]
    },
    {
     "name": "stderr",
     "output_type": "stream",
     "text": [
      "Episode:  26%|██▌       | 260/1000 [13:55<53:25,  4.33s/it]"
     ]
    },
    {
     "name": "stdout",
     "output_type": "stream",
     "text": [
      "Episode 260/1000 | Reward: -4.76 | Win Rate: 0.02 | 🏆 Winner: WeakerPlayerAttacker\n"
     ]
    },
    {
     "name": "stderr",
     "output_type": "stream",
     "text": [
      "Episode:  26%|██▌       | 261/1000 [13:59<53:20,  4.33s/it]"
     ]
    },
    {
     "name": "stdout",
     "output_type": "stream",
     "text": [
      "Episode 261/1000 | Reward: 0.12 | Win Rate: 0.02 | 🏆 Winner: WeakerPlayerAttacker\n"
     ]
    },
    {
     "name": "stderr",
     "output_type": "stream",
     "text": [
      "Episode:  26%|██▌       | 262/1000 [14:07<1:05:15,  5.31s/it]"
     ]
    },
    {
     "name": "stdout",
     "output_type": "stream",
     "text": [
      "Episode 262/1000 | Reward: 44.96 | Win Rate: 0.04 | 🏆 Winner: RLDicewarsAgent\n"
     ]
    },
    {
     "name": "stderr",
     "output_type": "stream",
     "text": [
      "Episode:  26%|██▋       | 263/1000 [14:08<50:51,  4.14s/it]  "
     ]
    },
    {
     "name": "stdout",
     "output_type": "stream",
     "text": [
      "Episode 263/1000 | Reward: -7.28 | Win Rate: 0.04 | 🏆 Winner: WeakerPlayerAttacker\n"
     ]
    },
    {
     "name": "stderr",
     "output_type": "stream",
     "text": [
      "Episode:  26%|██▋       | 264/1000 [14:11<46:57,  3.83s/it]"
     ]
    },
    {
     "name": "stdout",
     "output_type": "stream",
     "text": [
      "Episode 264/1000 | Reward: -1.88 | Win Rate: 0.04 | 🏆 Winner: WeakerPlayerAttacker\n"
     ]
    },
    {
     "name": "stderr",
     "output_type": "stream",
     "text": [
      "Episode:  26%|██▋       | 265/1000 [14:14<40:54,  3.34s/it]"
     ]
    },
    {
     "name": "stdout",
     "output_type": "stream",
     "text": [
      "Episode 265/1000 | Reward: -5.92 | Win Rate: 0.04 | 🏆 Winner: WeakerPlayerAttacker\n"
     ]
    },
    {
     "name": "stderr",
     "output_type": "stream",
     "text": [
      "Episode:  27%|██▋       | 266/1000 [14:15<34:59,  2.86s/it]"
     ]
    },
    {
     "name": "stdout",
     "output_type": "stream",
     "text": [
      "Episode 266/1000 | Reward: -7.92 | Win Rate: 0.04 | 🏆 Winner: WeakerPlayerAttacker\n"
     ]
    },
    {
     "name": "stderr",
     "output_type": "stream",
     "text": [
      "Episode:  27%|██▋       | 267/1000 [14:16<28:47,  2.36s/it]"
     ]
    },
    {
     "name": "stdout",
     "output_type": "stream",
     "text": [
      "Episode 267/1000 | Reward: -8.04 | Win Rate: 0.04 | 🏆 Winner: WeakerPlayerAttacker\n"
     ]
    },
    {
     "name": "stderr",
     "output_type": "stream",
     "text": [
      "Episode:  27%|██▋       | 268/1000 [14:21<38:05,  3.12s/it]"
     ]
    },
    {
     "name": "stdout",
     "output_type": "stream",
     "text": [
      "Episode 268/1000 | Reward: 4.76 | Win Rate: 0.04 | 🏆 Winner: WeakerPlayerAttacker\n"
     ]
    },
    {
     "name": "stderr",
     "output_type": "stream",
     "text": [
      "Episode:  27%|██▋       | 269/1000 [14:23<31:33,  2.59s/it]"
     ]
    },
    {
     "name": "stdout",
     "output_type": "stream",
     "text": [
      "Episode 269/1000 | Reward: -8.00 | Win Rate: 0.04 | 🏆 Winner: WeakerPlayerAttacker\n"
     ]
    },
    {
     "name": "stderr",
     "output_type": "stream",
     "text": [
      "Episode:  27%|██▋       | 270/1000 [14:28<40:35,  3.34s/it]"
     ]
    },
    {
     "name": "stdout",
     "output_type": "stream",
     "text": [
      "Episode 270/1000 | Reward: 2.64 | Win Rate: 0.04 | 🏆 Winner: WeakerPlayerAttacker\n",
      "[MODEL] Salvato in: ./saved_models/dicewars_rl_model_new.keras\n"
     ]
    },
    {
     "name": "stderr",
     "output_type": "stream",
     "text": [
      "Episode:  27%|██▋       | 271/1000 [14:32<45:20,  3.73s/it]"
     ]
    },
    {
     "name": "stdout",
     "output_type": "stream",
     "text": [
      "Episode 271/1000 | Reward: 3.00 | Win Rate: 0.04 | 🏆 Winner: WeakerPlayerAttacker\n"
     ]
    },
    {
     "name": "stderr",
     "output_type": "stream",
     "text": [
      "Episode:  27%|██▋       | 272/1000 [14:35<39:52,  3.29s/it]"
     ]
    },
    {
     "name": "stdout",
     "output_type": "stream",
     "text": [
      "Episode 272/1000 | Reward: -5.68 | Win Rate: 0.04 | 🏆 Winner: WeakerPlayerAttacker\n"
     ]
    },
    {
     "name": "stderr",
     "output_type": "stream",
     "text": [
      "Episode:  27%|██▋       | 273/1000 [14:36<34:14,  2.83s/it]"
     ]
    },
    {
     "name": "stdout",
     "output_type": "stream",
     "text": [
      "Episode 273/1000 | Reward: -6.48 | Win Rate: 0.04 | 🏆 Winner: WeakerPlayerAttacker\n"
     ]
    },
    {
     "name": "stderr",
     "output_type": "stream",
     "text": [
      "Episode:  27%|██▋       | 274/1000 [14:38<30:11,  2.50s/it]"
     ]
    },
    {
     "name": "stdout",
     "output_type": "stream",
     "text": [
      "Episode 274/1000 | Reward: -3.76 | Win Rate: 0.04 | 🏆 Winner: WeakerPlayerAttacker\n"
     ]
    },
    {
     "name": "stderr",
     "output_type": "stream",
     "text": [
      "Episode:  28%|██▊       | 275/1000 [14:41<32:47,  2.71s/it]"
     ]
    },
    {
     "name": "stdout",
     "output_type": "stream",
     "text": [
      "Episode 275/1000 | Reward: -1.76 | Win Rate: 0.04 | 🏆 Winner: WeakerPlayerAttacker\n"
     ]
    },
    {
     "name": "stderr",
     "output_type": "stream",
     "text": [
      "Episode:  28%|██▊       | 276/1000 [14:45<35:12,  2.92s/it]"
     ]
    },
    {
     "name": "stdout",
     "output_type": "stream",
     "text": [
      "Episode 276/1000 | Reward: -1.36 | Win Rate: 0.04 | 🏆 Winner: WeakerPlayerAttacker\n"
     ]
    },
    {
     "name": "stderr",
     "output_type": "stream",
     "text": [
      "Episode:  28%|██▊       | 277/1000 [14:46<29:59,  2.49s/it]"
     ]
    },
    {
     "name": "stdout",
     "output_type": "stream",
     "text": [
      "Episode 277/1000 | Reward: -9.36 | Win Rate: 0.04 | 🏆 Winner: WeakerPlayerAttacker\n"
     ]
    },
    {
     "name": "stderr",
     "output_type": "stream",
     "text": [
      "Episode:  28%|██▊       | 278/1000 [14:50<32:57,  2.74s/it]"
     ]
    },
    {
     "name": "stdout",
     "output_type": "stream",
     "text": [
      "Episode 278/1000 | Reward: -3.40 | Win Rate: 0.04 | 🏆 Winner: WeakerPlayerAttacker\n"
     ]
    },
    {
     "name": "stderr",
     "output_type": "stream",
     "text": [
      "Episode:  28%|██▊       | 279/1000 [14:53<36:43,  3.06s/it]"
     ]
    },
    {
     "name": "stdout",
     "output_type": "stream",
     "text": [
      "Episode 279/1000 | Reward: -1.64 | Win Rate: 0.04 | 🏆 Winner: WeakerPlayerAttacker\n"
     ]
    },
    {
     "name": "stderr",
     "output_type": "stream",
     "text": [
      "Episode:  28%|██▊       | 280/1000 [14:58<41:31,  3.46s/it]"
     ]
    },
    {
     "name": "stdout",
     "output_type": "stream",
     "text": [
      "Episode 280/1000 | Reward: 2.28 | Win Rate: 0.04 | 🏆 Winner: WeakerPlayerAttacker\n"
     ]
    },
    {
     "name": "stderr",
     "output_type": "stream",
     "text": [
      "Episode:  28%|██▊       | 281/1000 [15:08<1:06:03,  5.51s/it]"
     ]
    },
    {
     "name": "stdout",
     "output_type": "stream",
     "text": [
      "Episode 281/1000 | Reward: 52.68 | Win Rate: 0.06 | 🏆 Winner: RLDicewarsAgent\n"
     ]
    },
    {
     "name": "stderr",
     "output_type": "stream",
     "text": [
      "Episode:  28%|██▊       | 282/1000 [15:11<56:37,  4.73s/it]  "
     ]
    },
    {
     "name": "stdout",
     "output_type": "stream",
     "text": [
      "Episode 282/1000 | Reward: -5.00 | Win Rate: 0.06 | 🏆 Winner: WeakerPlayerAttacker\n"
     ]
    },
    {
     "name": "stderr",
     "output_type": "stream",
     "text": [
      "Episode:  28%|██▊       | 283/1000 [15:14<48:29,  4.06s/it]"
     ]
    },
    {
     "name": "stdout",
     "output_type": "stream",
     "text": [
      "Episode 283/1000 | Reward: -4.32 | Win Rate: 0.06 | 🏆 Winner: WeakerPlayerAttacker\n"
     ]
    },
    {
     "name": "stderr",
     "output_type": "stream",
     "text": [
      "Episode:  28%|██▊       | 284/1000 [15:16<42:01,  3.52s/it]"
     ]
    },
    {
     "name": "stdout",
     "output_type": "stream",
     "text": [
      "Episode 284/1000 | Reward: -9.32 | Win Rate: 0.06 | 🏆 Winner: WeakerPlayerAttacker\n"
     ]
    },
    {
     "name": "stderr",
     "output_type": "stream",
     "text": [
      "Episode:  28%|██▊       | 285/1000 [15:18<38:07,  3.20s/it]"
     ]
    },
    {
     "name": "stdout",
     "output_type": "stream",
     "text": [
      "Episode 285/1000 | Reward: -1.96 | Win Rate: 0.06 | 🏆 Winner: WeakerPlayerAttacker\n"
     ]
    },
    {
     "name": "stderr",
     "output_type": "stream",
     "text": [
      "Episode:  29%|██▊       | 286/1000 [15:21<37:09,  3.12s/it]"
     ]
    },
    {
     "name": "stdout",
     "output_type": "stream",
     "text": [
      "Episode 286/1000 | Reward: -2.60 | Win Rate: 0.06 | 🏆 Winner: WeakerPlayerAttacker\n"
     ]
    },
    {
     "name": "stderr",
     "output_type": "stream",
     "text": [
      "Episode:  29%|██▊       | 287/1000 [15:23<33:30,  2.82s/it]"
     ]
    },
    {
     "name": "stdout",
     "output_type": "stream",
     "text": [
      "Episode 287/1000 | Reward: -4.16 | Win Rate: 0.06 | 🏆 Winner: WeakerPlayerAttacker\n"
     ]
    },
    {
     "name": "stderr",
     "output_type": "stream",
     "text": [
      "Episode:  29%|██▉       | 288/1000 [15:27<36:37,  3.09s/it]"
     ]
    },
    {
     "name": "stdout",
     "output_type": "stream",
     "text": [
      "Episode 288/1000 | Reward: 0.00 | Win Rate: 0.06 | 🏆 Winner: WeakerPlayerAttacker\n"
     ]
    },
    {
     "name": "stderr",
     "output_type": "stream",
     "text": [
      "Episode:  29%|██▉       | 289/1000 [15:29<31:57,  2.70s/it]"
     ]
    },
    {
     "name": "stdout",
     "output_type": "stream",
     "text": [
      "Episode 289/1000 | Reward: -6.04 | Win Rate: 0.06 | 🏆 Winner: WeakerPlayerAttacker\n"
     ]
    },
    {
     "name": "stderr",
     "output_type": "stream",
     "text": [
      "Episode:  29%|██▉       | 290/1000 [15:31<30:47,  2.60s/it]"
     ]
    },
    {
     "name": "stdout",
     "output_type": "stream",
     "text": [
      "Episode 290/1000 | Reward: -5.04 | Win Rate: 0.06 | 🏆 Winner: WeakerPlayerAttacker\n"
     ]
    },
    {
     "name": "stderr",
     "output_type": "stream",
     "text": [
      "Episode:  29%|██▉       | 291/1000 [15:32<25:27,  2.15s/it]"
     ]
    },
    {
     "name": "stdout",
     "output_type": "stream",
     "text": [
      "Episode 291/1000 | Reward: -9.24 | Win Rate: 0.06 | 🏆 Winner: WeakerPlayerAttacker\n"
     ]
    },
    {
     "name": "stderr",
     "output_type": "stream",
     "text": [
      "Episode:  29%|██▉       | 292/1000 [15:33<20:59,  1.78s/it]"
     ]
    },
    {
     "name": "stdout",
     "output_type": "stream",
     "text": [
      "Episode 292/1000 | Reward: -9.48 | Win Rate: 0.06 | 🏆 Winner: WeakerPlayerAttacker\n"
     ]
    },
    {
     "name": "stderr",
     "output_type": "stream",
     "text": [
      "Episode:  29%|██▉       | 293/1000 [15:35<21:36,  1.83s/it]"
     ]
    },
    {
     "name": "stdout",
     "output_type": "stream",
     "text": [
      "Episode 293/1000 | Reward: -6.72 | Win Rate: 0.06 | 🏆 Winner: WeakerPlayerAttacker\n"
     ]
    },
    {
     "name": "stderr",
     "output_type": "stream",
     "text": [
      "Episode:  29%|██▉       | 294/1000 [15:38<23:46,  2.02s/it]"
     ]
    },
    {
     "name": "stdout",
     "output_type": "stream",
     "text": [
      "Episode 294/1000 | Reward: -5.68 | Win Rate: 0.06 | 🏆 Winner: WeakerPlayerAttacker\n"
     ]
    },
    {
     "name": "stderr",
     "output_type": "stream",
     "text": [
      "Episode:  30%|██▉       | 295/1000 [15:43<35:45,  3.04s/it]"
     ]
    },
    {
     "name": "stdout",
     "output_type": "stream",
     "text": [
      "Episode 295/1000 | Reward: 4.40 | Win Rate: 0.06 | 🏆 Winner: WeakerPlayerAttacker\n"
     ]
    },
    {
     "name": "stderr",
     "output_type": "stream",
     "text": [
      "Episode:  30%|██▉       | 296/1000 [15:45<30:39,  2.61s/it]"
     ]
    },
    {
     "name": "stdout",
     "output_type": "stream",
     "text": [
      "Episode 296/1000 | Reward: -7.96 | Win Rate: 0.06 | 🏆 Winner: WeakerPlayerAttacker\n"
     ]
    },
    {
     "name": "stderr",
     "output_type": "stream",
     "text": [
      "Episode:  30%|██▉       | 297/1000 [15:47<29:19,  2.50s/it]"
     ]
    },
    {
     "name": "stdout",
     "output_type": "stream",
     "text": [
      "Episode 297/1000 | Reward: -6.36 | Win Rate: 0.06 | 🏆 Winner: WeakerPlayerAttacker\n"
     ]
    },
    {
     "name": "stderr",
     "output_type": "stream",
     "text": [
      "Episode:  30%|██▉       | 298/1000 [15:51<33:24,  2.86s/it]"
     ]
    },
    {
     "name": "stdout",
     "output_type": "stream",
     "text": [
      "Episode 298/1000 | Reward: -1.24 | Win Rate: 0.06 | 🏆 Winner: WeakerPlayerAttacker\n"
     ]
    },
    {
     "name": "stderr",
     "output_type": "stream",
     "text": [
      "Episode:  30%|██▉       | 299/1000 [15:54<33:51,  2.90s/it]"
     ]
    },
    {
     "name": "stdout",
     "output_type": "stream",
     "text": [
      "Episode 299/1000 | Reward: -2.40 | Win Rate: 0.06 | 🏆 Winner: WeakerPlayerAttacker\n",
      "Episode 300/1000 | Reward: -7.92 | Win Rate: 0.06 | 🏆 Winner: WeakerPlayerAttacker\n",
      "[MODEL] Salvato in: ./saved_models/dicewars_rl_model_new.keras\n"
     ]
    },
    {
     "name": "stderr",
     "output_type": "stream",
     "text": [
      "Episode:  30%|███       | 300/1000 [16:21<2:00:42, 10.35s/it]"
     ]
    },
    {
     "name": "stdout",
     "output_type": "stream",
     "text": [
      "🎯 Evaluation match win rate (no epsilon): 0.00\n"
     ]
    },
    {
     "name": "stderr",
     "output_type": "stream",
     "text": [
      "Episode:  30%|███       | 301/1000 [16:29<1:51:22,  9.56s/it]"
     ]
    },
    {
     "name": "stdout",
     "output_type": "stream",
     "text": [
      "Episode 301/1000 | Reward: 47.92 | Win Rate: 0.08 | 🏆 Winner: RLDicewarsAgent\n"
     ]
    },
    {
     "name": "stderr",
     "output_type": "stream",
     "text": [
      "Episode:  30%|███       | 302/1000 [16:30<1:21:57,  7.05s/it]"
     ]
    },
    {
     "name": "stdout",
     "output_type": "stream",
     "text": [
      "Episode 302/1000 | Reward: -8.28 | Win Rate: 0.08 | 🏆 Winner: WeakerPlayerAttacker\n"
     ]
    },
    {
     "name": "stderr",
     "output_type": "stream",
     "text": [
      "Episode:  30%|███       | 303/1000 [16:33<1:08:18,  5.88s/it]"
     ]
    },
    {
     "name": "stdout",
     "output_type": "stream",
     "text": [
      "Episode 303/1000 | Reward: -2.76 | Win Rate: 0.08 | 🏆 Winner: WeakerPlayerAttacker\n"
     ]
    },
    {
     "name": "stderr",
     "output_type": "stream",
     "text": [
      "Episode:  30%|███       | 304/1000 [16:37<59:35,  5.14s/it]  "
     ]
    },
    {
     "name": "stdout",
     "output_type": "stream",
     "text": [
      "Episode 304/1000 | Reward: -2.16 | Win Rate: 0.08 | 🏆 Winner: WeakerPlayerAttacker\n"
     ]
    },
    {
     "name": "stderr",
     "output_type": "stream",
     "text": [
      "Episode:  30%|███       | 305/1000 [16:38<47:46,  4.12s/it]"
     ]
    },
    {
     "name": "stdout",
     "output_type": "stream",
     "text": [
      "Episode 305/1000 | Reward: -7.84 | Win Rate: 0.08 | 🏆 Winner: WeakerPlayerAttacker\n"
     ]
    },
    {
     "name": "stderr",
     "output_type": "stream",
     "text": [
      "Episode:  31%|███       | 306/1000 [16:39<34:44,  3.00s/it]"
     ]
    },
    {
     "name": "stdout",
     "output_type": "stream",
     "text": [
      "Episode 306/1000 | Reward: -10.12 | Win Rate: 0.08 | 🏆 Winner: WeakerPlayerAttacker\n"
     ]
    },
    {
     "name": "stderr",
     "output_type": "stream",
     "text": [
      "Episode:  31%|███       | 307/1000 [16:41<32:30,  2.81s/it]"
     ]
    },
    {
     "name": "stdout",
     "output_type": "stream",
     "text": [
      "Episode 307/1000 | Reward: -6.92 | Win Rate: 0.08 | 🏆 Winner: WeakerPlayerAttacker\n"
     ]
    },
    {
     "name": "stderr",
     "output_type": "stream",
     "text": [
      "Episode:  31%|███       | 308/1000 [16:44<31:15,  2.71s/it]"
     ]
    },
    {
     "name": "stdout",
     "output_type": "stream",
     "text": [
      "Episode 308/1000 | Reward: -2.88 | Win Rate: 0.06 | 🏆 Winner: WeakerPlayerAttacker\n"
     ]
    },
    {
     "name": "stderr",
     "output_type": "stream",
     "text": [
      "Episode:  31%|███       | 309/1000 [16:44<24:14,  2.11s/it]"
     ]
    },
    {
     "name": "stdout",
     "output_type": "stream",
     "text": [
      "Episode 309/1000 | Reward: -9.64 | Win Rate: 0.06 | 🏆 Winner: WeakerPlayerAttacker\n"
     ]
    },
    {
     "name": "stderr",
     "output_type": "stream",
     "text": [
      "Episode:  31%|███       | 310/1000 [16:47<27:13,  2.37s/it]"
     ]
    },
    {
     "name": "stdout",
     "output_type": "stream",
     "text": [
      "Episode 310/1000 | Reward: -3.60 | Win Rate: 0.06 | 🏆 Winner: WeakerPlayerAttacker\n"
     ]
    },
    {
     "name": "stderr",
     "output_type": "stream",
     "text": [
      "Episode:  31%|███       | 311/1000 [16:51<32:26,  2.82s/it]"
     ]
    },
    {
     "name": "stdout",
     "output_type": "stream",
     "text": [
      "Episode 311/1000 | Reward: -8.80 | Win Rate: 0.06 | 🏆 Winner: WeakerPlayerAttacker\n"
     ]
    },
    {
     "name": "stderr",
     "output_type": "stream",
     "text": [
      "Episode:  31%|███       | 312/1000 [16:53<28:23,  2.48s/it]"
     ]
    },
    {
     "name": "stdout",
     "output_type": "stream",
     "text": [
      "Episode 312/1000 | Reward: -8.08 | Win Rate: 0.04 | 🏆 Winner: WeakerPlayerAttacker\n"
     ]
    },
    {
     "name": "stderr",
     "output_type": "stream",
     "text": [
      "Episode:  31%|███▏      | 313/1000 [16:54<24:46,  2.16s/it]"
     ]
    },
    {
     "name": "stdout",
     "output_type": "stream",
     "text": [
      "Episode 313/1000 | Reward: -5.92 | Win Rate: 0.04 | 🏆 Winner: WeakerPlayerAttacker\n"
     ]
    },
    {
     "name": "stderr",
     "output_type": "stream",
     "text": [
      "Episode:  31%|███▏      | 314/1000 [16:56<23:56,  2.09s/it]"
     ]
    },
    {
     "name": "stdout",
     "output_type": "stream",
     "text": [
      "Episode 314/1000 | Reward: -6.16 | Win Rate: 0.04 | 🏆 Winner: WeakerPlayerAttacker\n"
     ]
    },
    {
     "name": "stderr",
     "output_type": "stream",
     "text": [
      "Episode:  32%|███▏      | 315/1000 [17:05<46:37,  4.08s/it]"
     ]
    },
    {
     "name": "stdout",
     "output_type": "stream",
     "text": [
      "Episode 315/1000 | Reward: -1.64 | Win Rate: 0.04 | 🏆 Winner: WeakerPlayerAttacker\n"
     ]
    },
    {
     "name": "stderr",
     "output_type": "stream",
     "text": [
      "Episode:  32%|███▏      | 316/1000 [17:09<45:34,  4.00s/it]"
     ]
    },
    {
     "name": "stdout",
     "output_type": "stream",
     "text": [
      "Episode 316/1000 | Reward: -2.04 | Win Rate: 0.04 | 🏆 Winner: WeakerPlayerAttacker\n"
     ]
    },
    {
     "name": "stderr",
     "output_type": "stream",
     "text": [
      "Episode:  32%|███▏      | 317/1000 [17:11<39:05,  3.43s/it]"
     ]
    },
    {
     "name": "stdout",
     "output_type": "stream",
     "text": [
      "Episode 317/1000 | Reward: -5.16 | Win Rate: 0.04 | 🏆 Winner: WeakerPlayerAttacker\n"
     ]
    },
    {
     "name": "stderr",
     "output_type": "stream",
     "text": [
      "Episode:  32%|███▏      | 318/1000 [17:13<35:15,  3.10s/it]"
     ]
    },
    {
     "name": "stdout",
     "output_type": "stream",
     "text": [
      "Episode 318/1000 | Reward: -5.12 | Win Rate: 0.04 | 🏆 Winner: WeakerPlayerAttacker\n"
     ]
    },
    {
     "name": "stderr",
     "output_type": "stream",
     "text": [
      "Episode:  32%|███▏      | 319/1000 [17:15<29:23,  2.59s/it]"
     ]
    },
    {
     "name": "stdout",
     "output_type": "stream",
     "text": [
      "Episode 319/1000 | Reward: -8.04 | Win Rate: 0.04 | 🏆 Winner: WeakerPlayerAttacker\n"
     ]
    },
    {
     "name": "stderr",
     "output_type": "stream",
     "text": [
      "Episode:  32%|███▏      | 320/1000 [17:18<32:07,  2.84s/it]"
     ]
    },
    {
     "name": "stdout",
     "output_type": "stream",
     "text": [
      "Episode 320/1000 | Reward: -5.76 | Win Rate: 0.04 | 🏆 Winner: WeakerPlayerAttacker\n"
     ]
    },
    {
     "name": "stderr",
     "output_type": "stream",
     "text": [
      "Episode:  32%|███▏      | 321/1000 [17:21<34:01,  3.01s/it]"
     ]
    },
    {
     "name": "stdout",
     "output_type": "stream",
     "text": [
      "Episode 321/1000 | Reward: 0.16 | Win Rate: 0.04 | 🏆 Winner: WeakerPlayerAttacker\n"
     ]
    },
    {
     "name": "stderr",
     "output_type": "stream",
     "text": [
      "Episode:  32%|███▏      | 322/1000 [17:30<53:11,  4.71s/it]"
     ]
    },
    {
     "name": "stdout",
     "output_type": "stream",
     "text": [
      "Episode 322/1000 | Reward: 16.12 | Win Rate: 0.04 | 🏆 Winner: WeakerPlayerAttacker\n"
     ]
    },
    {
     "name": "stderr",
     "output_type": "stream",
     "text": [
      "Episode:  32%|███▏      | 323/1000 [17:32<42:41,  3.78s/it]"
     ]
    },
    {
     "name": "stdout",
     "output_type": "stream",
     "text": [
      "Episode 323/1000 | Reward: -6.60 | Win Rate: 0.04 | 🏆 Winner: WeakerPlayerAttacker\n"
     ]
    },
    {
     "name": "stderr",
     "output_type": "stream",
     "text": [
      "Episode:  32%|███▏      | 324/1000 [17:34<36:35,  3.25s/it]"
     ]
    },
    {
     "name": "stdout",
     "output_type": "stream",
     "text": [
      "Episode 324/1000 | Reward: -6.20 | Win Rate: 0.04 | 🏆 Winner: WeakerPlayerAttacker\n"
     ]
    },
    {
     "name": "stderr",
     "output_type": "stream",
     "text": [
      "Episode:  32%|███▎      | 325/1000 [17:35<31:17,  2.78s/it]"
     ]
    },
    {
     "name": "stdout",
     "output_type": "stream",
     "text": [
      "Episode 325/1000 | Reward: -8.40 | Win Rate: 0.04 | 🏆 Winner: WeakerPlayerAttacker\n"
     ]
    },
    {
     "name": "stderr",
     "output_type": "stream",
     "text": [
      "Episode:  33%|███▎      | 326/1000 [17:37<27:48,  2.48s/it]"
     ]
    },
    {
     "name": "stdout",
     "output_type": "stream",
     "text": [
      "Episode 326/1000 | Reward: -8.52 | Win Rate: 0.04 | 🏆 Winner: WeakerPlayerAttacker\n"
     ]
    },
    {
     "name": "stderr",
     "output_type": "stream",
     "text": [
      "Episode:  33%|███▎      | 327/1000 [17:41<32:35,  2.91s/it]"
     ]
    },
    {
     "name": "stdout",
     "output_type": "stream",
     "text": [
      "Episode 327/1000 | Reward: 0.76 | Win Rate: 0.04 | 🏆 Winner: WeakerPlayerAttacker\n"
     ]
    },
    {
     "name": "stderr",
     "output_type": "stream",
     "text": [
      "Episode:  33%|███▎      | 328/1000 [17:45<34:15,  3.06s/it]"
     ]
    },
    {
     "name": "stdout",
     "output_type": "stream",
     "text": [
      "Episode 328/1000 | Reward: -1.72 | Win Rate: 0.04 | 🏆 Winner: WeakerPlayerAttacker\n"
     ]
    },
    {
     "name": "stderr",
     "output_type": "stream",
     "text": [
      "Episode:  33%|███▎      | 329/1000 [17:48<33:53,  3.03s/it]"
     ]
    },
    {
     "name": "stdout",
     "output_type": "stream",
     "text": [
      "Episode 329/1000 | Reward: -3.52 | Win Rate: 0.04 | 🏆 Winner: WeakerPlayerAttacker\n"
     ]
    },
    {
     "name": "stderr",
     "output_type": "stream",
     "text": [
      "Episode:  33%|███▎      | 330/1000 [17:52<37:35,  3.37s/it]"
     ]
    },
    {
     "name": "stdout",
     "output_type": "stream",
     "text": [
      "Episode 330/1000 | Reward: -5.48 | Win Rate: 0.04 | 🏆 Winner: WeakerPlayerAttacker\n",
      "[MODEL] Salvato in: ./saved_models/dicewars_rl_model_new.keras\n"
     ]
    },
    {
     "name": "stderr",
     "output_type": "stream",
     "text": [
      "Episode:  33%|███▎      | 331/1000 [17:54<34:12,  3.07s/it]"
     ]
    },
    {
     "name": "stdout",
     "output_type": "stream",
     "text": [
      "Episode 331/1000 | Reward: -2.92 | Win Rate: 0.02 | 🏆 Winner: WeakerPlayerAttacker\n"
     ]
    },
    {
     "name": "stderr",
     "output_type": "stream",
     "text": [
      "Episode:  33%|███▎      | 332/1000 [18:00<43:24,  3.90s/it]"
     ]
    },
    {
     "name": "stdout",
     "output_type": "stream",
     "text": [
      "Episode 332/1000 | Reward: 8.28 | Win Rate: 0.02 | 🏆 Winner: WeakerPlayerAttacker\n"
     ]
    },
    {
     "name": "stderr",
     "output_type": "stream",
     "text": [
      "Episode:  33%|███▎      | 333/1000 [18:04<42:42,  3.84s/it]"
     ]
    },
    {
     "name": "stdout",
     "output_type": "stream",
     "text": [
      "Episode 333/1000 | Reward: -0.08 | Win Rate: 0.02 | 🏆 Winner: WeakerPlayerAttacker\n"
     ]
    },
    {
     "name": "stderr",
     "output_type": "stream",
     "text": [
      "Episode:  33%|███▎      | 334/1000 [18:05<35:01,  3.16s/it]"
     ]
    },
    {
     "name": "stdout",
     "output_type": "stream",
     "text": [
      "Episode 334/1000 | Reward: -9.12 | Win Rate: 0.02 | 🏆 Winner: WeakerPlayerAttacker\n"
     ]
    },
    {
     "name": "stderr",
     "output_type": "stream",
     "text": [
      "Episode:  34%|███▎      | 335/1000 [18:07<30:32,  2.76s/it]"
     ]
    },
    {
     "name": "stdout",
     "output_type": "stream",
     "text": [
      "Episode 335/1000 | Reward: -6.92 | Win Rate: 0.02 | 🏆 Winner: WeakerPlayerAttacker\n"
     ]
    },
    {
     "name": "stderr",
     "output_type": "stream",
     "text": [
      "Episode:  34%|███▎      | 336/1000 [18:10<31:26,  2.84s/it]"
     ]
    },
    {
     "name": "stdout",
     "output_type": "stream",
     "text": [
      "Episode 336/1000 | Reward: -0.08 | Win Rate: 0.02 | 🏆 Winner: WeakerPlayerAttacker\n"
     ]
    },
    {
     "name": "stderr",
     "output_type": "stream",
     "text": [
      "Episode:  34%|███▎      | 337/1000 [18:12<29:25,  2.66s/it]"
     ]
    },
    {
     "name": "stdout",
     "output_type": "stream",
     "text": [
      "Episode 337/1000 | Reward: -3.92 | Win Rate: 0.02 | 🏆 Winner: WeakerPlayerAttacker\n"
     ]
    },
    {
     "name": "stderr",
     "output_type": "stream",
     "text": [
      "Episode:  34%|███▍      | 338/1000 [18:14<27:10,  2.46s/it]"
     ]
    },
    {
     "name": "stdout",
     "output_type": "stream",
     "text": [
      "Episode 338/1000 | Reward: -6.48 | Win Rate: 0.02 | 🏆 Winner: WeakerPlayerAttacker\n"
     ]
    },
    {
     "name": "stderr",
     "output_type": "stream",
     "text": [
      "Episode:  34%|███▍      | 339/1000 [18:16<24:18,  2.21s/it]"
     ]
    },
    {
     "name": "stdout",
     "output_type": "stream",
     "text": [
      "Episode 339/1000 | Reward: -7.92 | Win Rate: 0.02 | 🏆 Winner: WeakerPlayerAttacker\n"
     ]
    },
    {
     "name": "stderr",
     "output_type": "stream",
     "text": [
      "Episode:  34%|███▍      | 340/1000 [18:21<33:00,  3.00s/it]"
     ]
    },
    {
     "name": "stdout",
     "output_type": "stream",
     "text": [
      "Episode 340/1000 | Reward: -4.00 | Win Rate: 0.02 | 🏆 Winner: WeakerPlayerAttacker\n"
     ]
    },
    {
     "name": "stderr",
     "output_type": "stream",
     "text": [
      "Episode:  34%|███▍      | 341/1000 [18:22<28:23,  2.59s/it]"
     ]
    },
    {
     "name": "stdout",
     "output_type": "stream",
     "text": [
      "Episode 341/1000 | Reward: -6.92 | Win Rate: 0.02 | 🏆 Winner: WeakerPlayerAttacker\n"
     ]
    },
    {
     "name": "stderr",
     "output_type": "stream",
     "text": [
      "Episode:  34%|███▍      | 342/1000 [18:25<29:40,  2.71s/it]"
     ]
    },
    {
     "name": "stdout",
     "output_type": "stream",
     "text": [
      "Episode 342/1000 | Reward: -2.60 | Win Rate: 0.02 | 🏆 Winner: WeakerPlayerAttacker\n"
     ]
    },
    {
     "name": "stderr",
     "output_type": "stream",
     "text": [
      "Episode:  34%|███▍      | 343/1000 [18:27<26:35,  2.43s/it]"
     ]
    },
    {
     "name": "stdout",
     "output_type": "stream",
     "text": [
      "Episode 343/1000 | Reward: -4.96 | Win Rate: 0.02 | 🏆 Winner: WeakerPlayerAttacker\n"
     ]
    },
    {
     "name": "stderr",
     "output_type": "stream",
     "text": [
      "Episode:  34%|███▍      | 344/1000 [18:29<23:43,  2.17s/it]"
     ]
    },
    {
     "name": "stdout",
     "output_type": "stream",
     "text": [
      "Episode 344/1000 | Reward: -7.76 | Win Rate: 0.02 | 🏆 Winner: WeakerPlayerAttacker\n"
     ]
    },
    {
     "name": "stderr",
     "output_type": "stream",
     "text": [
      "Episode:  34%|███▍      | 345/1000 [18:30<22:24,  2.05s/it]"
     ]
    },
    {
     "name": "stdout",
     "output_type": "stream",
     "text": [
      "Episode 345/1000 | Reward: -6.04 | Win Rate: 0.02 | 🏆 Winner: WeakerPlayerAttacker\n"
     ]
    },
    {
     "name": "stderr",
     "output_type": "stream",
     "text": [
      "Episode:  35%|███▍      | 346/1000 [18:32<22:01,  2.02s/it]"
     ]
    },
    {
     "name": "stdout",
     "output_type": "stream",
     "text": [
      "Episode 346/1000 | Reward: -5.80 | Win Rate: 0.02 | 🏆 Winner: WeakerPlayerAttacker\n"
     ]
    },
    {
     "name": "stderr",
     "output_type": "stream",
     "text": [
      "Episode:  35%|███▍      | 347/1000 [18:34<19:51,  1.82s/it]"
     ]
    },
    {
     "name": "stdout",
     "output_type": "stream",
     "text": [
      "Episode 347/1000 | Reward: -6.80 | Win Rate: 0.02 | 🏆 Winner: WeakerPlayerAttacker\n"
     ]
    },
    {
     "name": "stderr",
     "output_type": "stream",
     "text": [
      "Episode:  35%|███▍      | 348/1000 [18:35<18:39,  1.72s/it]"
     ]
    },
    {
     "name": "stdout",
     "output_type": "stream",
     "text": [
      "Episode 348/1000 | Reward: -7.88 | Win Rate: 0.02 | 🏆 Winner: WeakerPlayerAttacker\n"
     ]
    },
    {
     "name": "stderr",
     "output_type": "stream",
     "text": [
      "Episode:  35%|███▍      | 349/1000 [18:38<22:59,  2.12s/it]"
     ]
    },
    {
     "name": "stdout",
     "output_type": "stream",
     "text": [
      "Episode 349/1000 | Reward: -2.40 | Win Rate: 0.02 | 🏆 Winner: WeakerPlayerAttacker\n",
      "Episode 350/1000 | Reward: -7.00 | Win Rate: 0.02 | 🏆 Winner: WeakerPlayerAttacker\n"
     ]
    },
    {
     "name": "stderr",
     "output_type": "stream",
     "text": [
      "Episode:  35%|███▌      | 350/1000 [19:06<1:45:04,  9.70s/it]"
     ]
    },
    {
     "name": "stdout",
     "output_type": "stream",
     "text": [
      "🎯 Evaluation match win rate (no epsilon): 0.00\n"
     ]
    },
    {
     "name": "stderr",
     "output_type": "stream",
     "text": [
      "Episode:  35%|███▌      | 351/1000 [19:08<1:21:59,  7.58s/it]"
     ]
    },
    {
     "name": "stdout",
     "output_type": "stream",
     "text": [
      "Episode 351/1000 | Reward: -2.56 | Win Rate: 0.00 | 🏆 Winner: WeakerPlayerAttacker\n"
     ]
    },
    {
     "name": "stderr",
     "output_type": "stream",
     "text": [
      "Episode:  35%|███▌      | 352/1000 [19:10<1:03:51,  5.91s/it]"
     ]
    },
    {
     "name": "stdout",
     "output_type": "stream",
     "text": [
      "Episode 352/1000 | Reward: -7.20 | Win Rate: 0.00 | 🏆 Winner: WeakerPlayerAttacker\n"
     ]
    },
    {
     "name": "stderr",
     "output_type": "stream",
     "text": [
      "Episode:  35%|███▌      | 353/1000 [19:13<52:09,  4.84s/it]  "
     ]
    },
    {
     "name": "stdout",
     "output_type": "stream",
     "text": [
      "Episode 353/1000 | Reward: -4.64 | Win Rate: 0.00 | 🏆 Winner: WeakerPlayerAttacker\n"
     ]
    },
    {
     "name": "stderr",
     "output_type": "stream",
     "text": [
      "Episode:  35%|███▌      | 354/1000 [19:15<43:01,  4.00s/it]"
     ]
    },
    {
     "name": "stdout",
     "output_type": "stream",
     "text": [
      "Episode 354/1000 | Reward: -6.56 | Win Rate: 0.00 | 🏆 Winner: WeakerPlayerAttacker\n"
     ]
    },
    {
     "name": "stderr",
     "output_type": "stream",
     "text": [
      "Episode:  36%|███▌      | 355/1000 [19:17<37:35,  3.50s/it]"
     ]
    },
    {
     "name": "stdout",
     "output_type": "stream",
     "text": [
      "Episode 355/1000 | Reward: -3.32 | Win Rate: 0.00 | 🏆 Winner: WeakerPlayerAttacker\n"
     ]
    },
    {
     "name": "stderr",
     "output_type": "stream",
     "text": [
      "Episode:  36%|███▌      | 356/1000 [19:19<33:26,  3.12s/it]"
     ]
    },
    {
     "name": "stdout",
     "output_type": "stream",
     "text": [
      "Episode 356/1000 | Reward: -4.56 | Win Rate: 0.00 | 🏆 Winner: WeakerPlayerAttacker\n"
     ]
    },
    {
     "name": "stderr",
     "output_type": "stream",
     "text": [
      "Episode:  36%|███▌      | 357/1000 [19:26<46:04,  4.30s/it]"
     ]
    },
    {
     "name": "stdout",
     "output_type": "stream",
     "text": [
      "Episode 357/1000 | Reward: 46.00 | Win Rate: 0.02 | 🏆 Winner: RLDicewarsAgent\n"
     ]
    },
    {
     "name": "stderr",
     "output_type": "stream",
     "text": [
      "Episode:  36%|███▌      | 358/1000 [19:30<42:56,  4.01s/it]"
     ]
    },
    {
     "name": "stdout",
     "output_type": "stream",
     "text": [
      "Episode 358/1000 | Reward: -3.52 | Win Rate: 0.02 | 🏆 Winner: WeakerPlayerAttacker\n"
     ]
    },
    {
     "name": "stderr",
     "output_type": "stream",
     "text": [
      "Episode:  36%|███▌      | 359/1000 [19:32<36:37,  3.43s/it]"
     ]
    },
    {
     "name": "stdout",
     "output_type": "stream",
     "text": [
      "Episode 359/1000 | Reward: -3.64 | Win Rate: 0.02 | 🏆 Winner: WeakerPlayerAttacker\n"
     ]
    },
    {
     "name": "stderr",
     "output_type": "stream",
     "text": [
      "Episode:  36%|███▌      | 360/1000 [19:33<29:40,  2.78s/it]"
     ]
    },
    {
     "name": "stdout",
     "output_type": "stream",
     "text": [
      "Episode 360/1000 | Reward: -8.92 | Win Rate: 0.02 | 🏆 Winner: WeakerPlayerAttacker\n",
      "[MODEL] Salvato in: ./saved_models/dicewars_rl_model_new.keras\n"
     ]
    },
    {
     "name": "stderr",
     "output_type": "stream",
     "text": [
      "Episode:  36%|███▌      | 361/1000 [19:38<37:11,  3.49s/it]"
     ]
    },
    {
     "name": "stdout",
     "output_type": "stream",
     "text": [
      "Episode 361/1000 | Reward: 4.80 | Win Rate: 0.02 | 🏆 Winner: WeakerPlayerAttacker\n"
     ]
    },
    {
     "name": "stderr",
     "output_type": "stream",
     "text": [
      "Episode:  36%|███▌      | 362/1000 [19:39<29:59,  2.82s/it]"
     ]
    },
    {
     "name": "stdout",
     "output_type": "stream",
     "text": [
      "Episode 362/1000 | Reward: -7.72 | Win Rate: 0.02 | 🏆 Winner: WeakerPlayerAttacker\n"
     ]
    },
    {
     "name": "stderr",
     "output_type": "stream",
     "text": [
      "Episode:  36%|███▋      | 363/1000 [19:41<26:43,  2.52s/it]"
     ]
    },
    {
     "name": "stdout",
     "output_type": "stream",
     "text": [
      "Episode 363/1000 | Reward: -4.68 | Win Rate: 0.02 | 🏆 Winner: WeakerPlayerAttacker\n"
     ]
    },
    {
     "name": "stderr",
     "output_type": "stream",
     "text": [
      "Episode:  36%|███▋      | 364/1000 [19:46<32:47,  3.09s/it]"
     ]
    },
    {
     "name": "stdout",
     "output_type": "stream",
     "text": [
      "Episode 364/1000 | Reward: 2.64 | Win Rate: 0.02 | 🏆 Winner: WeakerPlayerAttacker\n"
     ]
    },
    {
     "name": "stderr",
     "output_type": "stream",
     "text": [
      "Episode:  36%|███▋      | 365/1000 [19:47<28:30,  2.69s/it]"
     ]
    },
    {
     "name": "stdout",
     "output_type": "stream",
     "text": [
      "Episode 365/1000 | Reward: -4.36 | Win Rate: 0.02 | 🏆 Winner: WeakerPlayerAttacker\n"
     ]
    },
    {
     "name": "stderr",
     "output_type": "stream",
     "text": [
      "Episode:  37%|███▋      | 366/1000 [19:49<23:39,  2.24s/it]"
     ]
    },
    {
     "name": "stdout",
     "output_type": "stream",
     "text": [
      "Episode 366/1000 | Reward: -9.20 | Win Rate: 0.02 | 🏆 Winner: WeakerPlayerAttacker\n"
     ]
    },
    {
     "name": "stderr",
     "output_type": "stream",
     "text": [
      "Episode:  37%|███▋      | 367/1000 [19:51<24:26,  2.32s/it]"
     ]
    },
    {
     "name": "stdout",
     "output_type": "stream",
     "text": [
      "Episode 367/1000 | Reward: -6.56 | Win Rate: 0.02 | 🏆 Winner: WeakerPlayerAttacker\n"
     ]
    },
    {
     "name": "stderr",
     "output_type": "stream",
     "text": [
      "Episode:  37%|███▋      | 368/1000 [19:53<22:30,  2.14s/it]"
     ]
    },
    {
     "name": "stdout",
     "output_type": "stream",
     "text": [
      "Episode 368/1000 | Reward: -4.00 | Win Rate: 0.02 | 🏆 Winner: WeakerPlayerAttacker\n"
     ]
    },
    {
     "name": "stderr",
     "output_type": "stream",
     "text": [
      "Episode:  37%|███▋      | 369/1000 [19:55<24:06,  2.29s/it]"
     ]
    },
    {
     "name": "stdout",
     "output_type": "stream",
     "text": [
      "Episode 369/1000 | Reward: -6.48 | Win Rate: 0.02 | 🏆 Winner: WeakerPlayerAttacker\n"
     ]
    },
    {
     "name": "stderr",
     "output_type": "stream",
     "text": [
      "Episode:  37%|███▋      | 370/1000 [19:58<24:28,  2.33s/it]"
     ]
    },
    {
     "name": "stdout",
     "output_type": "stream",
     "text": [
      "Episode 370/1000 | Reward: -6.00 | Win Rate: 0.02 | 🏆 Winner: WeakerPlayerAttacker\n"
     ]
    },
    {
     "name": "stderr",
     "output_type": "stream",
     "text": [
      "Episode:  37%|███▋      | 371/1000 [20:00<24:55,  2.38s/it]"
     ]
    },
    {
     "name": "stdout",
     "output_type": "stream",
     "text": [
      "Episode 371/1000 | Reward: -8.20 | Win Rate: 0.02 | 🏆 Winner: WeakerPlayerAttacker\n"
     ]
    },
    {
     "name": "stderr",
     "output_type": "stream",
     "text": [
      "Episode:  37%|███▋      | 372/1000 [20:01<20:11,  1.93s/it]"
     ]
    },
    {
     "name": "stdout",
     "output_type": "stream",
     "text": [
      "Episode 372/1000 | Reward: -9.88 | Win Rate: 0.02 | 🏆 Winner: WeakerPlayerAttacker\n"
     ]
    },
    {
     "name": "stderr",
     "output_type": "stream",
     "text": [
      "Episode:  37%|███▋      | 373/1000 [20:03<19:08,  1.83s/it]"
     ]
    },
    {
     "name": "stdout",
     "output_type": "stream",
     "text": [
      "Episode 373/1000 | Reward: -9.24 | Win Rate: 0.02 | 🏆 Winner: WeakerPlayerAttacker\n"
     ]
    },
    {
     "name": "stderr",
     "output_type": "stream",
     "text": [
      "Episode:  37%|███▋      | 374/1000 [20:04<17:09,  1.64s/it]"
     ]
    },
    {
     "name": "stdout",
     "output_type": "stream",
     "text": [
      "Episode 374/1000 | Reward: -8.36 | Win Rate: 0.02 | 🏆 Winner: WeakerPlayerAttacker\n"
     ]
    },
    {
     "name": "stderr",
     "output_type": "stream",
     "text": [
      "Episode:  38%|███▊      | 375/1000 [20:07<19:58,  1.92s/it]"
     ]
    },
    {
     "name": "stdout",
     "output_type": "stream",
     "text": [
      "Episode 375/1000 | Reward: -3.60 | Win Rate: 0.02 | 🏆 Winner: WeakerPlayerAttacker\n"
     ]
    },
    {
     "name": "stderr",
     "output_type": "stream",
     "text": [
      "Episode:  38%|███▊      | 376/1000 [20:09<20:04,  1.93s/it]"
     ]
    },
    {
     "name": "stdout",
     "output_type": "stream",
     "text": [
      "Episode 376/1000 | Reward: -5.28 | Win Rate: 0.02 | 🏆 Winner: WeakerPlayerAttacker\n"
     ]
    },
    {
     "name": "stderr",
     "output_type": "stream",
     "text": [
      "Episode:  38%|███▊      | 377/1000 [20:11<21:48,  2.10s/it]"
     ]
    },
    {
     "name": "stdout",
     "output_type": "stream",
     "text": [
      "Episode 377/1000 | Reward: -3.44 | Win Rate: 0.02 | 🏆 Winner: WeakerPlayerAttacker\n"
     ]
    },
    {
     "name": "stderr",
     "output_type": "stream",
     "text": [
      "Episode:  38%|███▊      | 378/1000 [20:13<22:10,  2.14s/it]"
     ]
    },
    {
     "name": "stdout",
     "output_type": "stream",
     "text": [
      "Episode 378/1000 | Reward: -6.44 | Win Rate: 0.02 | 🏆 Winner: WeakerPlayerAttacker\n"
     ]
    },
    {
     "name": "stderr",
     "output_type": "stream",
     "text": [
      "Episode:  38%|███▊      | 379/1000 [20:16<24:41,  2.39s/it]"
     ]
    },
    {
     "name": "stdout",
     "output_type": "stream",
     "text": [
      "Episode 379/1000 | Reward: -4.00 | Win Rate: 0.02 | 🏆 Winner: WeakerPlayerAttacker\n"
     ]
    },
    {
     "name": "stderr",
     "output_type": "stream",
     "text": [
      "Episode:  38%|███▊      | 380/1000 [20:18<23:01,  2.23s/it]"
     ]
    },
    {
     "name": "stdout",
     "output_type": "stream",
     "text": [
      "Episode 380/1000 | Reward: -6.32 | Win Rate: 0.02 | 🏆 Winner: WeakerPlayerAttacker\n"
     ]
    },
    {
     "name": "stderr",
     "output_type": "stream",
     "text": [
      "Episode:  38%|███▊      | 381/1000 [20:20<21:08,  2.05s/it]"
     ]
    },
    {
     "name": "stdout",
     "output_type": "stream",
     "text": [
      "Episode 381/1000 | Reward: -5.80 | Win Rate: 0.02 | 🏆 Winner: WeakerPlayerAttacker\n"
     ]
    },
    {
     "name": "stderr",
     "output_type": "stream",
     "text": [
      "Episode:  38%|███▊      | 382/1000 [20:21<17:49,  1.73s/it]"
     ]
    },
    {
     "name": "stdout",
     "output_type": "stream",
     "text": [
      "Episode 382/1000 | Reward: -9.44 | Win Rate: 0.02 | 🏆 Winner: WeakerPlayerAttacker\n"
     ]
    },
    {
     "name": "stderr",
     "output_type": "stream",
     "text": [
      "Episode:  38%|███▊      | 383/1000 [20:22<16:04,  1.56s/it]"
     ]
    },
    {
     "name": "stdout",
     "output_type": "stream",
     "text": [
      "Episode 383/1000 | Reward: -7.92 | Win Rate: 0.02 | 🏆 Winner: WeakerPlayerAttacker\n"
     ]
    },
    {
     "name": "stderr",
     "output_type": "stream",
     "text": [
      "Episode:  38%|███▊      | 384/1000 [20:25<19:24,  1.89s/it]"
     ]
    },
    {
     "name": "stdout",
     "output_type": "stream",
     "text": [
      "Episode 384/1000 | Reward: -2.52 | Win Rate: 0.02 | 🏆 Winner: WeakerPlayerAttacker\n"
     ]
    },
    {
     "name": "stderr",
     "output_type": "stream",
     "text": [
      "Episode:  38%|███▊      | 385/1000 [20:27<21:53,  2.14s/it]"
     ]
    },
    {
     "name": "stdout",
     "output_type": "stream",
     "text": [
      "Episode 385/1000 | Reward: -5.48 | Win Rate: 0.02 | 🏆 Winner: WeakerPlayerAttacker\n"
     ]
    },
    {
     "name": "stderr",
     "output_type": "stream",
     "text": [
      "Episode:  39%|███▊      | 386/1000 [20:32<30:28,  2.98s/it]"
     ]
    },
    {
     "name": "stdout",
     "output_type": "stream",
     "text": [
      "Episode 386/1000 | Reward: 2.12 | Win Rate: 0.02 | 🏆 Winner: WeakerPlayerAttacker\n"
     ]
    },
    {
     "name": "stderr",
     "output_type": "stream",
     "text": [
      "Episode:  39%|███▊      | 387/1000 [20:36<31:49,  3.12s/it]"
     ]
    },
    {
     "name": "stdout",
     "output_type": "stream",
     "text": [
      "Episode 387/1000 | Reward: -2.96 | Win Rate: 0.02 | 🏆 Winner: WeakerPlayerAttacker\n"
     ]
    },
    {
     "name": "stderr",
     "output_type": "stream",
     "text": [
      "Episode:  39%|███▉      | 388/1000 [20:37<26:30,  2.60s/it]"
     ]
    },
    {
     "name": "stdout",
     "output_type": "stream",
     "text": [
      "Episode 388/1000 | Reward: -7.80 | Win Rate: 0.02 | 🏆 Winner: WeakerPlayerAttacker\n"
     ]
    },
    {
     "name": "stderr",
     "output_type": "stream",
     "text": [
      "Episode:  39%|███▉      | 389/1000 [20:40<28:57,  2.84s/it]"
     ]
    },
    {
     "name": "stdout",
     "output_type": "stream",
     "text": [
      "Episode 389/1000 | Reward: -2.68 | Win Rate: 0.02 | 🏆 Winner: WeakerPlayerAttacker\n"
     ]
    },
    {
     "name": "stderr",
     "output_type": "stream",
     "text": [
      "Episode:  39%|███▉      | 389/1000 [20:41<32:29,  3.19s/it]\n"
     ]
    },
    {
     "ename": "KeyboardInterrupt",
     "evalue": "",
     "output_type": "error",
     "traceback": [
      "\u001b[0;31m---------------------------------------------------------------------------\u001b[0m",
      "\u001b[0;31mKeyboardInterrupt\u001b[0m                         Traceback (most recent call last)",
      "Cell \u001b[0;32mIn[3], line 105\u001b[0m\n\u001b[1;32m    102\u001b[0m prev_state \u001b[38;5;241m=\u001b[39m state  \u001b[38;5;66;03m# <- snapshot prima dell'azione\u001b[39;00m\n\u001b[1;32m    104\u001b[0m \u001b[38;5;28;01mif\u001b[39;00m current_player \u001b[38;5;241m==\u001b[39m \u001b[38;5;241m0\u001b[39m:\n\u001b[0;32m--> 105\u001b[0m     action \u001b[38;5;241m=\u001b[39m \u001b[43magent\u001b[49m\u001b[38;5;241;43m.\u001b[39;49m\u001b[43mselect_action\u001b[49m\u001b[43m(\u001b[49m\u001b[43mgrid\u001b[49m\u001b[43m,\u001b[49m\u001b[43m \u001b[49m\u001b[43mstate\u001b[49m\u001b[43m,\u001b[49m\u001b[43m \u001b[49m\u001b[43mepsilon\u001b[49m\u001b[38;5;241;43m=\u001b[39;49m\u001b[43mepsilon\u001b[49m\u001b[43m)\u001b[49m \u001b[38;5;66;03m# rimiuovi epsilon se non vuoi usare epsilon greedy\u001b[39;00m\n\u001b[1;32m    106\u001b[0m     state_vec \u001b[38;5;241m=\u001b[39m agent\u001b[38;5;241m.\u001b[39mencode_state(grid, state)\n\u001b[1;32m    107\u001b[0m \u001b[38;5;28;01melse\u001b[39;00m:\n",
      "File \u001b[0;32m~/machine-learning/Project_Mardeen/rl_agent.py:124\u001b[0m, in \u001b[0;36mRLDicewarsAgent.select_action\u001b[0;34m(self, grid, match_state, epsilon)\u001b[0m\n\u001b[1;32m    122\u001b[0m     chosen_idx \u001b[38;5;241m=\u001b[39m np\u001b[38;5;241m.\u001b[39mrandom\u001b[38;5;241m.\u001b[39mchoice(valid_indices)\n\u001b[1;32m    123\u001b[0m \u001b[38;5;28;01melse\u001b[39;00m:\n\u001b[0;32m--> 124\u001b[0m     q_values \u001b[38;5;241m=\u001b[39m \u001b[38;5;28;43mself\u001b[39;49m\u001b[38;5;241;43m.\u001b[39;49m\u001b[43mmodel\u001b[49m\u001b[38;5;241;43m.\u001b[39;49m\u001b[43mpredict\u001b[49m\u001b[43m(\u001b[49m\u001b[43mstate_vec\u001b[49m\u001b[43m[\u001b[49m\u001b[38;5;28;43;01mNone\u001b[39;49;00m\u001b[43m,\u001b[49m\u001b[43m \u001b[49m\u001b[43m:\u001b[49m\u001b[43m]\u001b[49m\u001b[43m,\u001b[49m\u001b[43m \u001b[49m\u001b[43mverbose\u001b[49m\u001b[38;5;241;43m=\u001b[39;49m\u001b[38;5;241;43m0\u001b[39;49m\u001b[43m)\u001b[49m[\u001b[38;5;241m0\u001b[39m]\n\u001b[1;32m    125\u001b[0m     sub_q \u001b[38;5;241m=\u001b[39m [q_values[i] \u001b[38;5;28;01mfor\u001b[39;00m i \u001b[38;5;129;01min\u001b[39;00m valid_indices]\n\u001b[1;32m    126\u001b[0m     chosen_idx \u001b[38;5;241m=\u001b[39m valid_indices[np\u001b[38;5;241m.\u001b[39margmax(sub_q)]\n",
      "File \u001b[0;32m/usr/local/lib/python3.10/dist-packages/keras/src/utils/traceback_utils.py:65\u001b[0m, in \u001b[0;36mfilter_traceback.<locals>.error_handler\u001b[0;34m(*args, **kwargs)\u001b[0m\n\u001b[1;32m     63\u001b[0m filtered_tb \u001b[38;5;241m=\u001b[39m \u001b[38;5;28;01mNone\u001b[39;00m\n\u001b[1;32m     64\u001b[0m \u001b[38;5;28;01mtry\u001b[39;00m:\n\u001b[0;32m---> 65\u001b[0m     \u001b[38;5;28;01mreturn\u001b[39;00m \u001b[43mfn\u001b[49m\u001b[43m(\u001b[49m\u001b[38;5;241;43m*\u001b[39;49m\u001b[43margs\u001b[49m\u001b[43m,\u001b[49m\u001b[43m \u001b[49m\u001b[38;5;241;43m*\u001b[39;49m\u001b[38;5;241;43m*\u001b[39;49m\u001b[43mkwargs\u001b[49m\u001b[43m)\u001b[49m\n\u001b[1;32m     66\u001b[0m \u001b[38;5;28;01mexcept\u001b[39;00m \u001b[38;5;167;01mException\u001b[39;00m \u001b[38;5;28;01mas\u001b[39;00m e:\n\u001b[1;32m     67\u001b[0m     filtered_tb \u001b[38;5;241m=\u001b[39m _process_traceback_frames(e\u001b[38;5;241m.\u001b[39m__traceback__)\n",
      "File \u001b[0;32m/usr/local/lib/python3.10/dist-packages/keras/src/engine/training.py:2627\u001b[0m, in \u001b[0;36mModel.predict\u001b[0;34m(self, x, batch_size, verbose, steps, callbacks, max_queue_size, workers, use_multiprocessing)\u001b[0m\n\u001b[1;32m   2625\u001b[0m     \u001b[38;5;28mself\u001b[39m\u001b[38;5;241m.\u001b[39m_steps_per_execution_tuner\u001b[38;5;241m.\u001b[39mstart()\n\u001b[1;32m   2626\u001b[0m batch_outputs \u001b[38;5;241m=\u001b[39m \u001b[38;5;28;01mNone\u001b[39;00m\n\u001b[0;32m-> 2627\u001b[0m \u001b[38;5;28;01mfor\u001b[39;00m _, iterator \u001b[38;5;129;01min\u001b[39;00m data_handler\u001b[38;5;241m.\u001b[39menumerate_epochs():  \u001b[38;5;66;03m# Single epoch.\u001b[39;00m\n\u001b[1;32m   2628\u001b[0m     \u001b[38;5;28;01mwith\u001b[39;00m data_handler\u001b[38;5;241m.\u001b[39mcatch_stop_iteration():\n\u001b[1;32m   2629\u001b[0m         \u001b[38;5;28;01mfor\u001b[39;00m step \u001b[38;5;129;01min\u001b[39;00m data_handler\u001b[38;5;241m.\u001b[39msteps():\n",
      "File \u001b[0;32m/usr/local/lib/python3.10/dist-packages/keras/src/engine/data_adapter.py:1341\u001b[0m, in \u001b[0;36mDataHandler.enumerate_epochs\u001b[0;34m(self)\u001b[0m\n\u001b[1;32m   1339\u001b[0m \u001b[38;5;250m\u001b[39m\u001b[38;5;124;03m\"\"\"Yields `(epoch, tf.data.Iterator)`.\"\"\"\u001b[39;00m\n\u001b[1;32m   1340\u001b[0m \u001b[38;5;28;01mwith\u001b[39;00m \u001b[38;5;28mself\u001b[39m\u001b[38;5;241m.\u001b[39m_truncate_execution_to_epoch():\n\u001b[0;32m-> 1341\u001b[0m     data_iterator \u001b[38;5;241m=\u001b[39m \u001b[38;5;28;43miter\u001b[39;49m\u001b[43m(\u001b[49m\u001b[38;5;28;43mself\u001b[39;49m\u001b[38;5;241;43m.\u001b[39;49m\u001b[43m_dataset\u001b[49m\u001b[43m)\u001b[49m\n\u001b[1;32m   1342\u001b[0m     \u001b[38;5;28;01mfor\u001b[39;00m epoch \u001b[38;5;129;01min\u001b[39;00m \u001b[38;5;28mrange\u001b[39m(\u001b[38;5;28mself\u001b[39m\u001b[38;5;241m.\u001b[39m_initial_epoch, \u001b[38;5;28mself\u001b[39m\u001b[38;5;241m.\u001b[39m_epochs):\n\u001b[1;32m   1343\u001b[0m         \u001b[38;5;28;01mif\u001b[39;00m \u001b[38;5;28mself\u001b[39m\u001b[38;5;241m.\u001b[39m_insufficient_data:  \u001b[38;5;66;03m# Set by `catch_stop_iteration`.\u001b[39;00m\n",
      "File \u001b[0;32m/usr/local/lib/python3.10/dist-packages/tensorflow/python/data/ops/dataset_ops.py:496\u001b[0m, in \u001b[0;36mDatasetV2.__iter__\u001b[0;34m(self)\u001b[0m\n\u001b[1;32m    494\u001b[0m \u001b[38;5;28;01mif\u001b[39;00m context\u001b[38;5;241m.\u001b[39mexecuting_eagerly() \u001b[38;5;129;01mor\u001b[39;00m ops\u001b[38;5;241m.\u001b[39minside_function():\n\u001b[1;32m    495\u001b[0m   \u001b[38;5;28;01mwith\u001b[39;00m ops\u001b[38;5;241m.\u001b[39mcolocate_with(\u001b[38;5;28mself\u001b[39m\u001b[38;5;241m.\u001b[39m_variant_tensor):\n\u001b[0;32m--> 496\u001b[0m     \u001b[38;5;28;01mreturn\u001b[39;00m \u001b[43miterator_ops\u001b[49m\u001b[38;5;241;43m.\u001b[39;49m\u001b[43mOwnedIterator\u001b[49m\u001b[43m(\u001b[49m\u001b[38;5;28;43mself\u001b[39;49m\u001b[43m)\u001b[49m\n\u001b[1;32m    497\u001b[0m \u001b[38;5;28;01melse\u001b[39;00m:\n\u001b[1;32m    498\u001b[0m   \u001b[38;5;28;01mraise\u001b[39;00m \u001b[38;5;167;01mRuntimeError\u001b[39;00m(\u001b[38;5;124m\"\u001b[39m\u001b[38;5;124m`tf.data.Dataset` only supports Python-style \u001b[39m\u001b[38;5;124m\"\u001b[39m\n\u001b[1;32m    499\u001b[0m                      \u001b[38;5;124m\"\u001b[39m\u001b[38;5;124miteration in eager mode or within tf.function.\u001b[39m\u001b[38;5;124m\"\u001b[39m)\n",
      "File \u001b[0;32m/usr/local/lib/python3.10/dist-packages/tensorflow/python/data/ops/iterator_ops.py:705\u001b[0m, in \u001b[0;36mOwnedIterator.__init__\u001b[0;34m(self, dataset, components, element_spec)\u001b[0m\n\u001b[1;32m    701\u001b[0m   \u001b[38;5;28;01mif\u001b[39;00m (components \u001b[38;5;129;01mis\u001b[39;00m \u001b[38;5;129;01mnot\u001b[39;00m \u001b[38;5;28;01mNone\u001b[39;00m \u001b[38;5;129;01mor\u001b[39;00m element_spec \u001b[38;5;129;01mis\u001b[39;00m \u001b[38;5;129;01mnot\u001b[39;00m \u001b[38;5;28;01mNone\u001b[39;00m):\n\u001b[1;32m    702\u001b[0m     \u001b[38;5;28;01mraise\u001b[39;00m \u001b[38;5;167;01mValueError\u001b[39;00m(\n\u001b[1;32m    703\u001b[0m         \u001b[38;5;124m\"\u001b[39m\u001b[38;5;124mWhen `dataset` is provided, `element_spec` and `components` must \u001b[39m\u001b[38;5;124m\"\u001b[39m\n\u001b[1;32m    704\u001b[0m         \u001b[38;5;124m\"\u001b[39m\u001b[38;5;124mnot be specified.\u001b[39m\u001b[38;5;124m\"\u001b[39m)\n\u001b[0;32m--> 705\u001b[0m   \u001b[38;5;28;43mself\u001b[39;49m\u001b[38;5;241;43m.\u001b[39;49m\u001b[43m_create_iterator\u001b[49m\u001b[43m(\u001b[49m\u001b[43mdataset\u001b[49m\u001b[43m)\u001b[49m\n\u001b[1;32m    707\u001b[0m \u001b[38;5;28mself\u001b[39m\u001b[38;5;241m.\u001b[39m_get_next_call_count \u001b[38;5;241m=\u001b[39m \u001b[38;5;241m0\u001b[39m\n",
      "File \u001b[0;32m/usr/local/lib/python3.10/dist-packages/tensorflow/python/data/ops/iterator_ops.py:744\u001b[0m, in \u001b[0;36mOwnedIterator._create_iterator\u001b[0;34m(self, dataset)\u001b[0m\n\u001b[1;32m    741\u001b[0m   \u001b[38;5;28;01massert\u001b[39;00m \u001b[38;5;28mlen\u001b[39m(fulltype\u001b[38;5;241m.\u001b[39margs[\u001b[38;5;241m0\u001b[39m]\u001b[38;5;241m.\u001b[39margs[\u001b[38;5;241m0\u001b[39m]\u001b[38;5;241m.\u001b[39margs) \u001b[38;5;241m==\u001b[39m \u001b[38;5;28mlen\u001b[39m(\n\u001b[1;32m    742\u001b[0m       \u001b[38;5;28mself\u001b[39m\u001b[38;5;241m.\u001b[39m_flat_output_types)\n\u001b[1;32m    743\u001b[0m   \u001b[38;5;28mself\u001b[39m\u001b[38;5;241m.\u001b[39m_iterator_resource\u001b[38;5;241m.\u001b[39mop\u001b[38;5;241m.\u001b[39mexperimental_set_type(fulltype)\n\u001b[0;32m--> 744\u001b[0m \u001b[43mgen_dataset_ops\u001b[49m\u001b[38;5;241;43m.\u001b[39;49m\u001b[43mmake_iterator\u001b[49m\u001b[43m(\u001b[49m\u001b[43mds_variant\u001b[49m\u001b[43m,\u001b[49m\u001b[43m \u001b[49m\u001b[38;5;28;43mself\u001b[39;49m\u001b[38;5;241;43m.\u001b[39;49m\u001b[43m_iterator_resource\u001b[49m\u001b[43m)\u001b[49m\n",
      "File \u001b[0;32m/usr/local/lib/python3.10/dist-packages/tensorflow/python/ops/gen_dataset_ops.py:3420\u001b[0m, in \u001b[0;36mmake_iterator\u001b[0;34m(dataset, iterator, name)\u001b[0m\n\u001b[1;32m   3418\u001b[0m \u001b[38;5;28;01mif\u001b[39;00m tld\u001b[38;5;241m.\u001b[39mis_eager:\n\u001b[1;32m   3419\u001b[0m   \u001b[38;5;28;01mtry\u001b[39;00m:\n\u001b[0;32m-> 3420\u001b[0m     _result \u001b[38;5;241m=\u001b[39m \u001b[43mpywrap_tfe\u001b[49m\u001b[38;5;241;43m.\u001b[39;49m\u001b[43mTFE_Py_FastPathExecute\u001b[49m\u001b[43m(\u001b[49m\n\u001b[1;32m   3421\u001b[0m \u001b[43m      \u001b[49m\u001b[43m_ctx\u001b[49m\u001b[43m,\u001b[49m\u001b[43m \u001b[49m\u001b[38;5;124;43m\"\u001b[39;49m\u001b[38;5;124;43mMakeIterator\u001b[39;49m\u001b[38;5;124;43m\"\u001b[39;49m\u001b[43m,\u001b[49m\u001b[43m \u001b[49m\u001b[43mname\u001b[49m\u001b[43m,\u001b[49m\u001b[43m \u001b[49m\u001b[43mdataset\u001b[49m\u001b[43m,\u001b[49m\u001b[43m \u001b[49m\u001b[43miterator\u001b[49m\u001b[43m)\u001b[49m\n\u001b[1;32m   3422\u001b[0m     \u001b[38;5;28;01mreturn\u001b[39;00m _result\n\u001b[1;32m   3423\u001b[0m   \u001b[38;5;28;01mexcept\u001b[39;00m _core\u001b[38;5;241m.\u001b[39m_NotOkStatusException \u001b[38;5;28;01mas\u001b[39;00m e:\n",
      "\u001b[0;31mKeyboardInterrupt\u001b[0m: "
     ]
    }
   ],
   "source": [
    "start_time = time.time()\n",
    "\n",
    "run = wandb.init(\n",
    "    project='Machine-Learning-DICEWARS',\n",
    "    name= f\"DiceWars_{datetime.now().strftime('%Y%m%d_%H%M%S')}\"  \n",
    ")\n",
    "run_id = run.id \n",
    "api = wandb.Api()\n",
    "run = api.run(f\"Machine-Learning-DICEWARS/{run_id}\")\n",
    "\n",
    "if tf.config.list_physical_devices('GPU'):\n",
    "    print(\"using cuda ok\")\n",
    "else:\n",
    "    print('using cpu')\n",
    "\n",
    "NUM_EPISODES = 1000\n",
    "SAVE_MODEL_PATH = \"./saved_models/dicewars_rl_model_new.keras\"\n",
    "os.makedirs(os.path.dirname(SAVE_MODEL_PATH), exist_ok=True)\n",
    "\n",
    "## Buffer\n",
    "buffer = ReplayBuffer(max_size=10000)\n",
    "BATCH_SIZE = 128\n",
    "TRAIN_EVERY = 10  # ogni 10 episodi\n",
    "\n",
    "other_players = [PassivePlayer(), WeakerPlayerAttacker(), WeakerPlayerAttacker()]\n",
    "\n",
    "\n",
    "def calculate_step_reward(prev_state, new_state, player_idx):\n",
    "    \"\"\"\n",
    "    Reward intermedio basato su: conquiste, perdite, crescita di dadi\n",
    "    \"\"\"\n",
    "    reward = 0\n",
    "\n",
    "    # Aree controllate\n",
    "    prev_areas = len(prev_state.player_areas[player_idx])\n",
    "    new_areas = len(new_state.player_areas[player_idx])\n",
    "    reward += (new_areas - prev_areas) * 0.4\n",
    "\n",
    "    # Dadi totali\n",
    "    prev_dice = prev_state.player_num_dice[player_idx]\n",
    "    new_dice = new_state.player_num_dice[player_idx]\n",
    "    reward += (new_dice - prev_dice) * 0.04\n",
    "\n",
    "    # Penalità se ha fatto \"end turn\" senza attaccare\n",
    "    if prev_areas == new_areas and prev_dice == new_dice:\n",
    "        reward -= 0.2\n",
    "\n",
    "    return reward\n",
    "\n",
    "def calculate_final_reward(winner, player_idx):\n",
    "    return 20.0 if winner == player_idx else -10.0\n",
    "\n",
    "def evaluate_agent(agent, num_matches=10, other_players=other_players):\n",
    "    wins = 0\n",
    "\n",
    "    for _ in range(num_matches):\n",
    "        players = [agent] + other_players\n",
    "        game = Game(num_seats=4)\n",
    "        match = Match(game)\n",
    "        grid, state = match.game.grid, match.state\n",
    "\n",
    "        while match.winner == -1:\n",
    "            current_player = state.player\n",
    "\n",
    "            if current_player == 0:\n",
    "                action = agent.select_action(grid, state, epsilon=0.0)  # no esplorazione\n",
    "            else:\n",
    "                action = players[current_player].get_attack_areas(grid, state)\n",
    "\n",
    "            grid, state = match.step(action)\n",
    "\n",
    "        if match.winner == 0:\n",
    "            wins += 1\n",
    "\n",
    "    win_rate = wins / num_matches\n",
    "    print(f\"🎯 Evaluation match win rate (no epsilon): {win_rate:.2f}\")\n",
    "    return win_rate\n",
    "\n",
    "\n",
    "# Training loop\n",
    "agent = RLDicewarsAgent()\n",
    "\n",
    "## plots\n",
    "win_history = []\n",
    "reward_history = []\n",
    "moving_avg = deque(maxlen=50)  # media mobile su ultimi 50 episodi\n",
    "\n",
    "\n",
    "## training loop\n",
    "for episode in tqdm(range(NUM_EPISODES), desc=\"Episode\"):\n",
    "    players = [agent] + other_players\n",
    "    game = Game(num_seats=4)\n",
    "    match = Match(game)\n",
    "    grid, state = match.game.grid, match.state\n",
    "    ##print(\"→ Player order:\", [type(p).__name__ for p in players])\n",
    "    epsilon =max(0.01, 0.1 - episode / NUM_EPISODES)  # decrescente\n",
    "\n",
    "    history = []\n",
    "\n",
    "    while match.winner == -1:\n",
    "        current_player = state.player\n",
    "        prev_state = state  # <- snapshot prima dell'azione\n",
    "        \n",
    "        if current_player == 0:\n",
    "            action = agent.select_action(grid, state, epsilon=epsilon) # rimiuovi epsilon se non vuoi usare epsilon greedy\n",
    "            state_vec = agent.encode_state(grid, state)\n",
    "        else:\n",
    "            action = players[current_player].get_attack_areas(grid, state)\n",
    "\n",
    "        grid, state = match.step(action)\n",
    "\n",
    "        if current_player == 0:\n",
    "            #q_values = agent.model.predict(state_vec[None, :])[0]\n",
    "            #print(f\"Q-values per lo stato corrente: {q_values}\")\n",
    "            reward = calculate_step_reward(prev_state, state, player_idx=0)\n",
    "            done = match.winner != -1\n",
    "            state_vec = agent.encode_state(grid, prev_state)\n",
    "            next_state_vec = agent.encode_state(grid,state)\n",
    "            history.append((state_vec, action, reward))\n",
    "            buffer.add(state_vec, action, reward, next_state_vec, done)\n",
    "\n",
    "\n",
    "    # Final reward da partita\n",
    "    final_reward = calculate_final_reward(match.winner, player_idx=0)\n",
    "    episode_reward = sum([r for _, _, r in history]) + final_reward\n",
    "    reward_history.append(episode_reward)\n",
    "\n",
    "    # Registra vincita\n",
    "    won = 1 if match.winner == 0 else 0\n",
    "    win_history.append(won)\n",
    "    moving_avg.append(won)\n",
    "\n",
    "\n",
    "    # Allena senza buffer\n",
    "    #for state_vec, action_taken, step_reward in history:\n",
    "    #    total_reward = step_reward + final_reward\n",
    "    #    agent.train_step(state_vec, action_taken, total_reward)\n",
    "    \n",
    "    ## Buffer training\n",
    "    if (episode + 1) % TRAIN_EVERY == 0 and len(buffer) >= BATCH_SIZE:\n",
    "        states, actions, rewards, next_states, dones = buffer.sample(BATCH_SIZE)\n",
    "        agent.train_batch(states, actions, rewards, next_states, dones)\n",
    "\n",
    "\n",
    "    print(f\"Episode {episode + 1}/{NUM_EPISODES} | Reward: {episode_reward:.2f} | Win Rate: {np.mean(moving_avg):.2f} | 🏆 Winner: {players[match.winner].__class__.__name__}\")\n",
    "    wandb.log({'Episode': episode , 'Reward': episode_reward, 'Win Rate': np.mean(moving_avg), 'Epsilon': (epsilon)})\n",
    "    \n",
    "    # Salva modello ogni 20 episodi\n",
    "    if (episode + 1) % 30 == 0:\n",
    "        agent.save_model()\n",
    "    if (episode + 1) % 50 == 0:\n",
    "        eval_win_rate = evaluate_agent(agent, other_players=other_players)\n",
    "        wandb.log({'eval_win_rate': eval_win_rate, 'episode': episode})\n",
    "      \n",
    "        \n",
    "print(\"Time\", time.time() - start_time, \"seconds\")"
   ]
  },
  {
   "cell_type": "code",
   "execution_count": 3,
   "id": "a81900af-74f9-454e-86a0-9b160454e042",
   "metadata": {
    "tags": []
   },
   "outputs": [],
   "source": []
  },
  {
   "cell_type": "code",
   "execution_count": 3,
   "id": "2549ff61-9a37-4dc0-86c4-b630494935e5",
   "metadata": {
    "tags": []
   },
   "outputs": [],
   "source": []
  },
  {
   "cell_type": "code",
   "execution_count": 3,
   "id": "f4e1c312-1533-45b0-a695-c5d779099257",
   "metadata": {
    "tags": []
   },
   "outputs": [],
   "source": []
  },
  {
   "cell_type": "code",
   "execution_count": 3,
   "id": "efc53d2a-8447-45b7-8141-b0348b829752",
   "metadata": {
    "tags": []
   },
   "outputs": [],
   "source": []
  },
  {
   "cell_type": "code",
   "execution_count": 3,
   "id": "c53ab2f6-b46a-4cfe-ba24-9e07a26ed312",
   "metadata": {
    "tags": []
   },
   "outputs": [],
   "source": []
  },
  {
   "cell_type": "code",
   "execution_count": 3,
   "id": "8406a7e4-43f3-4e91-ba96-361d81e8fc81",
   "metadata": {
    "tags": []
   },
   "outputs": [],
   "source": []
  },
  {
   "cell_type": "code",
   "execution_count": 3,
   "id": "84f7a01a-74ca-45ee-b680-4642fa0d1825",
   "metadata": {
    "tags": []
   },
   "outputs": [],
   "source": []
  },
  {
   "cell_type": "code",
   "execution_count": 3,
   "id": "49b5db20-afd0-4cd6-a27c-dc1b44203e09",
   "metadata": {
    "tags": []
   },
   "outputs": [],
   "source": []
  },
  {
   "cell_type": "code",
   "execution_count": 3,
   "id": "58b0bfb7-a0ec-4d89-bea4-0e9fd17ca3c8",
   "metadata": {
    "tags": []
   },
   "outputs": [],
   "source": []
  },
  {
   "cell_type": "code",
   "execution_count": 3,
   "id": "ed06bbd7-9a59-4dc6-a87e-b6275ffd70a5",
   "metadata": {
    "tags": []
   },
   "outputs": [],
   "source": []
  },
  {
   "cell_type": "code",
   "execution_count": 3,
   "id": "0eb86f40-cac7-480c-b4d7-dfa822e71670",
   "metadata": {
    "tags": []
   },
   "outputs": [],
   "source": []
  },
  {
   "cell_type": "code",
   "execution_count": 3,
   "id": "8ea789fb-6da6-4ebe-9d78-f8a296412d81",
   "metadata": {
    "tags": []
   },
   "outputs": [],
   "source": []
  },
  {
   "cell_type": "code",
   "execution_count": 3,
   "id": "cbc914e5-0043-4e32-a83f-49ef5ee68071",
   "metadata": {
    "tags": []
   },
   "outputs": [],
   "source": []
  },
  {
   "cell_type": "code",
   "execution_count": null,
   "id": "208d10b5-e997-4c61-80ad-0312d80cf7a8",
   "metadata": {},
   "outputs": [],
   "source": []
  }
 ],
 "metadata": {
  "kernelspec": {
   "display_name": "Python",
   "language": "python",
   "name": "python3"
  },
  "language_info": {
   "codemirror_mode": {
    "name": "ipython",
    "version": 3
   },
   "file_extension": ".py",
   "mimetype": "text/x-python",
   "name": "python",
   "nbconvert_exporter": "python",
   "pygments_lexer": "ipython3",
   "version": "3.10.12"
  }
 },
 "nbformat": 4,
 "nbformat_minor": 5
}
