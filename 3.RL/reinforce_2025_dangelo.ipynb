{
 "cells": [
  {
   "cell_type": "markdown",
   "metadata": {
    "user_expressions": []
   },
   "source": [
    "# Large Notebook 3: Reinfocement Learning\n",
    "## Ex. 3: Control problem MountainCar-v0\n",
    "\n",
    "In the exercise class we will cover the control problem of a car at the bottom of a valley which should pick-up enough momentum to get over the hill. We will use the environment from the OpenAI Gym, which allows you to play and visualize the 'game'. Use RL to train a policy that gets the car over the hill in the least amount of time. \n",
    "\n",
    "**Before you can start this exercise you have to install the package OpenAI Gym. Start your anaconda environment with python3 and install:**\n",
    "\n",
    "* pip install gymnasium[classic-control]\n"
   ]
  },
  {
   "cell_type": "code",
   "execution_count": 1,
   "metadata": {},
   "outputs": [],
   "source": [
    "# UNCOMMENT IF GYMNASIUM FAILS TO IMPORT\n",
    "#%pip install gymnasium[classic-control]\n",
    "\n",
    "import gymnasium as gym\n",
    "import numpy as np"
   ]
  },
  {
   "cell_type": "markdown",
   "metadata": {},
   "source": [
    "If you have properly installed the openAI gym you should be able to import it. We will now run a DEMO to see if everything is working. The code already is able to simulate the MountainCar problem for the case that it actions are **random**. To be able to view the rendered video of the poor and helpless car, desperately trying to drive up the hill, you should run the code on your own computer.\n",
    "For more info on this particular environment see e.g. the website: https://gymnasium.farama.org/environments/classic_control/mountain_car/\n",
    "\n"
   ]
  },
  {
   "cell_type": "code",
   "execution_count": 2,
   "metadata": {},
   "outputs": [],
   "source": [
    "def demo():\n",
    "    \"\"\"run the MountainCar environment with random actions\"\"\"\n",
    "    \n",
    "    env = gym.make('MountainCar-v0', render_mode='human')  #  create an instance of the environment\n",
    "\n",
    "    state = env.reset()  # reset the current game\n",
    "\n",
    "    for _ in range(200):  # play 200 random actions\n",
    "        env.render()  # render the current game state to screen\n",
    "        a = env.action_space.sample()  # get a random action\n",
    "        state, reward, terminated, truncated, info = env.step(a) # take the action and return the outcome\n",
    "        \n",
    "    env.close()\n",
    "    \n",
    "# run the demo\n",
    "demo() "
   ]
  },
  {
   "cell_type": "markdown",
   "metadata": {},
   "source": [
    "## Building your RL player, ie. training your policy.\n",
    "We have to start by creating the game environment and checking some properties of the state and action space:"
   ]
  },
  {
   "cell_type": "code",
   "execution_count": 2,
   "metadata": {},
   "outputs": [
    {
     "name": "stdout",
     "output_type": "stream",
     "text": [
      "start state: (array([-0.5752821,  0.       ], dtype=float32), {})\n",
      "Number of sctions in the action space: 3\n",
      "Lowest state in the state space: [-1.2  -0.07]\n",
      "Hightest state in the state space: [0.6  0.07]\n",
      "After the step with (a=1): [-5.7489604e-01  3.8607381e-04] -1.0 False False {}\n"
     ]
    }
   ],
   "source": [
    "env = gym.make('MountainCar-v0')  # no rendering!\n",
    "\n",
    "# get usefull information about the environment:\n",
    "state = env.reset()\n",
    "print('start state:', state)\n",
    "print('Number of sctions in the action space:', env.action_space.n)\n",
    "print('Lowest state in the state space:', env.observation_space.low)\n",
    "print('Hightest state in the state space:', env.observation_space.high)\n",
    "\n",
    "#perform one step of the game for action a=1\n",
    "a=1\n",
    "state, reward, terminated, truncated, info = env.step(a)\n",
    "print('After the step with (a=1):',state, reward, terminated, truncated, info )\n"
   ]
  },
  {
   "cell_type": "markdown",
   "metadata": {},
   "source": [
    "We see that the car starts out in state with two floats [-0.525, 0] (as it initializes random these numbers will differ each time you reset). You can perform any of 3 actions (a = 0 or 1 or 2). We don't know what the numbers in the state mean, they could be the $x$, $y$ coordinates of the car or the velocity and height, but **we also don't have to know!** We will let the RL algortithm learn how to drive the car regardless of the exact meaning of the state.\n",
    "\n",
    "You should now code a function `s2q(s)` that links state `s` to a location in the Q-matrix. This can quickly be done by discretizing the state space into bins and determine the bin number corresponding to a certain value. The function should return a tuple (or list) `loc` that holds the two bin numbers."
   ]
  },
  {
   "cell_type": "code",
   "execution_count": 9,
   "metadata": {},
   "outputs": [],
   "source": [
    "def s2q(s):\n",
    "    # convert continous state values to discrete location indices inside the Q matrix\n",
    "    #----------ADD CODE HERE---------#    \n",
    "    n_bins_pos = 10\n",
    "    n_bins_vel = 10\n",
    "    \n",
    "    pos_min,pos_max = -1.2, 0.6\n",
    "    vel_min,vel_max = -0.07,0.07\n",
    "    \n",
    "    # bin width for each position\n",
    "    bin_width_pos = (pos_max-pos_min) /n_bins_pos\n",
    "    bin_width_vel = (vel_max-vel_min) /n_bins_vel\n",
    "    \n",
    "    ##pos, vel\n",
    "    if s.shape == (1, 2):\n",
    "        s = s[0]  # now shape (2,)\n",
    "\n",
    "    pos, vel = s\n",
    "    \n",
    "    # bin width\n",
    "    bin_width_pos = (pos_max - pos_min) / n_bins_pos\n",
    "    bin_width_vel = (vel_max - vel_min) / n_bins_vel\n",
    "\n",
    "    # raw indices\n",
    "    pos_index = int((pos - pos_min) / bin_width_pos)\n",
    "    vel_index = int((vel - vel_min) / bin_width_vel)\n",
    "\n",
    "    # clipping so that indexing doesn't go out of range\n",
    "    pos_index = min(max(pos_index, 0), n_bins_pos - 1)\n",
    "    vel_index = min(max(vel_index, 0), n_bins_vel - 1)\n",
    "\n",
    "    loc = (pos_index,vel_index)\n",
    "    \n",
    "    \n",
    "    return loc\n"
   ]
  },
  {
   "cell_type": "markdown",
   "metadata": {},
   "source": [
    "The next function `qlearn()` should train your Q-matrix by playing `num_games` games according to an 'epsilon-greedy' strategy (Google it!) and update the Q-matrix accoding to the following Bellmann equation:\n",
    "\n",
    "$$ \\mathbf{Q}^{\\rm new}[s_t,a_t]=(1-\\alpha)\\mathbf{Q}[s_t,a_t]+\\alpha\\left(R_t+\\gamma\\, \\text{max}_a  \\mathbf{Q}[s_{t+1},a]\\right). $$\n",
    "\n",
    "Here, $\\alpha$ is the learning rate and $\\gamma$ is the discount factor and are bounded by $\\alpha,\\gamma\\in[0,1]$. These parameters have to be set with care, as they influence the speed of convergence of the Q-matrix. The discount factor lets you weigh the importance of future over immediate rewards. This is done by mixing-in the term $\\text{max}_a  \\mathbf{Q}[s_{t+1},a]$, which gives the maximum Q value in the future state."
   ]
  },
  {
   "cell_type": "code",
   "execution_count": 10,
   "metadata": {},
   "outputs": [],
   "source": [
    "def qLearn(Q, α, γ, ϵ, ϵ_min, num_games):\n",
    "    \"\"\" \n",
    "    learns the Q table by interacting with the environment and applying the Bellman eqation \n",
    "    Q: q-table (n-dimensional ndarray)\n",
    "    α: learning rate\n",
    "    γ: discount factor\n",
    "    ϵ: probability of taking a random action in the epsilon-greedy policy\n",
    "    ϵ_min: minimum value ϵ can take when applying a reduction algortihm to ϵ\n",
    "    \"\"\"\n",
    "\n",
    "    state,info = env.reset()  # reset the current game\n",
    "    wins = 0\n",
    "    done=False\n",
    "    \n",
    "    #----------ADD CODE HERE---------#\n",
    "    for i in range(num_games):\n",
    "        state,_ = env.reset()\n",
    "        done = False\n",
    "        \n",
    "        while not done:\n",
    "            if np.random.uniform(0,1) < ϵ: #epsilon greedy action\n",
    "                action = env.action_space.sample() #take a random action\n",
    "            # else choose the best know from the Q table\n",
    "            else:\n",
    "                s_index = s2q(state)\n",
    "                action = np.argmax(Q[s_index])\n",
    "                \n",
    "            next_state, reward, terminated, truncated, info  = env.step(action)\n",
    "            done = terminated or truncated\n",
    "            \n",
    "            s_index = s2q(state)\n",
    "            next_s_index = s2q(next_state)\n",
    "            \n",
    "            #bellman equation\n",
    "            best_next_action = np.max(Q[next_s_index])\n",
    "            Q[s_index][action] = (1 - α) * Q[s_index][action] + α * (reward + γ * best_next_action)\n",
    "            \n",
    "            # move on next state\n",
    "            state=next_state\n",
    "            \n",
    "            if done and reward > 0:\n",
    "                wins+=1\n",
    "        \n",
    "        if ϵ > ϵ_min:\n",
    "            ϵ *= 0.99       \n",
    "        \n",
    "    print(f'Training ended. Number of wins: {wins}')"
   ]
  },
  {
   "cell_type": "markdown",
   "metadata": {},
   "source": [
    "Finally you put everything together. It is almost completly finished for you. What values for the hyperparameters do you choose? "
   ]
  },
  {
   "cell_type": "code",
   "execution_count": null,
   "metadata": {},
   "outputs": [
    {
     "name": "stdout",
     "output_type": "stream",
     "text": [
      "Training ended. Number of wins: 0\n"
     ]
    },
    {
     "ename": "",
     "evalue": "",
     "output_type": "error",
     "traceback": [
      "\u001b[1;31mThe Kernel crashed while executing code in the current cell or a previous cell. \n",
      "\u001b[1;31mPlease review the code in the cell(s) to identify a possible cause of the failure. \n",
      "\u001b[1;31mClick <a href='https://aka.ms/vscodeJupyterKernelCrash'>here</a> for more info. \n",
      "\u001b[1;31mView Jupyter <a href='command:jupyter.viewOutput'>log</a> for further details."
     ]
    }
   ],
   "source": [
    "# initialize the Q matrix as a numpy array with zeros\n",
    "Qdim = (10,10,env.action_space.n)\n",
    "Q = np.zeros(shape=Qdim)\n",
    "\n",
    "# set the hyperparameters\n",
    "α = 0.1  # learning rate [0,1]\n",
    "γ = 0.90  # discount rate [0,1]\n",
    "ϵ =  0.9 # epsilon greedy strategy [0,1]\n",
    "ϵ_min = 0.1  # minimu value of epsilon [0,1]\n",
    "num_games = 10 # number of training games\n",
    "\n",
    "# train the agent and store results\n",
    "qLearn(Q, α, γ, ϵ, ϵ_min, num_games)\n",
    "np.save('qrun1.npy', Q)\n"
   ]
  },
  {
   "cell_type": "markdown",
   "metadata": {},
   "source": [
    "Once a Q-matrix has been trained we can use it as a policy and play a game. Write code that performs actions according to the input Q-matrix to play a single episode."
   ]
  },
  {
   "cell_type": "code",
   "execution_count": null,
   "metadata": {},
   "outputs": [],
   "source": [
    "# replay the game using the trained Q matrix\n",
    "Q = np.load('qrun1.npy')\n",
    "\n",
    "# create and reset the environment with render mode on\n",
    "env = gym.make('MountainCar-v0', render_mode='human')\n",
    "state = env.reset()  \n",
    "    \n",
    "# play a single episode with max. 1000 actions\n",
    "for _ in range(1000):           \n",
    "    env.render()                \n",
    "    loc = s2q(state)\n",
    "    a = np.argmax(Q[loc]) \n",
    "    next_state, reward, terminated, truncated, info = env.step(a) \n",
    "    state = next_state\n",
    "        \n",
    "    if terminated: \n",
    "        print('Qplay Output:', reward, terminated, truncated, info)\n",
    "        break\n",
    "\n",
    "env.close()"
   ]
  },
  {
   "cell_type": "markdown",
   "metadata": {},
   "source": [
    "# Experiments\n",
    "Set up a couple fo experiments to figure oyt the following things:\n",
    "* How do $\\alpha$ and $\\gamma$ effect your learning perfomance?\n",
    "* Are both elements of the state vector equally important and can we reduce the dimensions of the Q-matrix of one (or both) of them?"
   ]
  },
  {
   "cell_type": "code",
   "execution_count": null,
   "metadata": {},
   "outputs": [],
   "source": []
  },
  {
   "cell_type": "code",
   "execution_count": null,
   "metadata": {},
   "outputs": [],
   "source": []
  }
 ],
 "metadata": {
  "kernelspec": {
   "display_name": "my_env",
   "language": "python",
   "name": "python3"
  },
  "language_info": {
   "codemirror_mode": {
    "name": "ipython",
    "version": 3
   },
   "file_extension": ".py",
   "mimetype": "text/x-python",
   "name": "python",
   "nbconvert_exporter": "python",
   "pygments_lexer": "ipython3",
   "version": "3.11.5"
  }
 },
 "nbformat": 4,
 "nbformat_minor": 4
}
